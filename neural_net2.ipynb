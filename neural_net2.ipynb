{
 "cells": [
  {
   "cell_type": "code",
   "execution_count": null,
   "metadata": {},
   "outputs": [],
   "source": []
  },
  {
   "cell_type": "code",
   "execution_count": 21,
   "metadata": {},
   "outputs": [],
   "source": [
    "import numpy as np\n",
    "import pandas as pd\n",
    "import math, time\n",
    "import matplotlib.pyplot as plt\n",
    "import seaborn as sns\n",
    "from sklearn.model_selection import train_test_split\n",
    "import tensorflow.keras as keras\n",
    "import mlrose_hiive as mlrose\n",
    "from sklearn.metrics import accuracy_score\n"
   ]
  },
  {
   "cell_type": "code",
   "execution_count": 22,
   "metadata": {},
   "outputs": [],
   "source": [
    "args = {\n",
    "    'gradient_descent': {\n",
    "         'hidden_nodes': [64], \n",
    "         'activation': 'relu',\n",
    "         'algorithm': 'gradient_descent', \n",
    "         'max_iters': 1200,\n",
    "         'bias': True, \n",
    "         'is_classifier': True, \n",
    "         'learning_rate': 0.0001,\n",
    "         'early_stopping': True, \n",
    "         'clip_max': 5, \n",
    "         'max_attempts': 500,\n",
    "         'random_state': 3, \n",
    "         'curve': True\n",
    "    },\n",
    "    'random_hill_climb': {\n",
    "         'hidden_nodes': [64], \n",
    "         'activation': 'relu',\n",
    "         'algorithm': 'random_hill_climb', \n",
    "         'max_iters': 1200,\n",
    "         'bias': True, \n",
    "         'is_classifier': True, \n",
    "         'learning_rate': 0.0001,\n",
    "         'early_stopping': True, \n",
    "         'clip_max': 5, \n",
    "         'max_attempts': 500,\n",
    "         'random_state': 3, \n",
    "         'restarts': 0,\n",
    "         'curve': True\n",
    "    },\n",
    "    'simulated_annealing': {\n",
    "         'hidden_nodes': [64], \n",
    "         'activation': 'relu',\n",
    "         'algorithm': 'simulated_annealing', \n",
    "         'max_iters': 1200,\n",
    "         'bias': True, \n",
    "         'is_classifier': True, \n",
    "         'learning_rate': 0.0001,\n",
    "         'early_stopping': True, \n",
    "         'clip_max': 5, \n",
    "         'max_attempts': 500,\n",
    "         'random_state': 3, \n",
    "         'schedule': mlrose.GeomDecay(init_temp=10, decay=0.95, min_temp=0.001),\n",
    "         'curve': True\n",
    "    },\n",
    "    'genetic_alg': {\n",
    "         'hidden_nodes': [64], \n",
    "         'activation': 'relu',\n",
    "         'algorithm': 'genetic_alg', \n",
    "         'max_iters': 1200,\n",
    "         'bias': True, \n",
    "         'is_classifier': True, \n",
    "         'learning_rate': 0.0001,\n",
    "         'early_stopping': True, \n",
    "         'clip_max': 5, \n",
    "         'max_attempts': 500,\n",
    "         'random_state': 3, \n",
    "         'pop_size': 200,\n",
    "         'mutation_prob': 0.1,\n",
    "         'curve': True\n",
    "    },\n",
    "}"
   ]
  },
  {
   "cell_type": "code",
   "execution_count": 23,
   "metadata": {},
   "outputs": [],
   "source": [
    "def test_arg(arg_name, arg_range, alg_name, args):\n",
    "    arg_accs = []\n",
    "    for arg_val in arg_range:\n",
    "        args[alg_name][arg_name] = arg_val\n",
    "        start_time = time.time()\n",
    "        model = mlrose.NeuralNetwork(**args[alg_name])\n",
    "        time_elapsed = time.time() - start_time\n",
    "        model.fit(X_train, y_train)\n",
    "        y_train_pred = nn_model1.predict(X_train)\n",
    "        y_train_accuracy = accuracy_score(y_train, y_train_pred)\n",
    "        y_pred = nn_model1.predict(X_test)\n",
    "        y_test_accuracy = accuracy_score(y_test, y_pred)\n",
    "        arg_accs.append(y_train_accuracy)\n",
    "    return arg_accs\n",
    "\n",
    "def load_data():\n",
    "    data_directory = \"data/\"\n",
    "    filename = \"diabetes.csv\"\n",
    "    df = pd.read_csv(data_directory + filename)\n",
    "    \n",
    "    plt.show()\n",
    "    cols = list(df.columns.values)\n",
    "    cols.remove('Outcome')\n",
    "    X = (df[cols]).values\n",
    "    y = df['Outcome'].values\n",
    "    #scaler = StandardScaler()\n",
    "    #scaler.fit(X)\n",
    "    #X = scaler.transform(X)\n",
    "    \n",
    "    #plt.savefig(\"./output/label_count_mnist.png\")\n",
    "    return(X, y)\n",
    "\n",
    "def split_data(X, y, data_size=1.0, train_size=0.8, strat=False):\n",
    "    if strat:\n",
    "        sss = StratifiedShuffleSplit(n_splits=1, random_state=0, train_size=train_size, test_size=train_size/4)\n",
    "        for train_index, test_index in sss.split(X, y):\n",
    "            print(\"hm\")\n",
    "            X_train = X[train_index]\n",
    "            X_test = X[test_index]\n",
    "            y_train, y_test = y[train_index], y[test_index]\n",
    "    else:\n",
    "        X_train, X_test, y_train, y_test = train_test_split(X, y, train_size=train_size, test_size=train_size/4)\n",
    "    return(X_train, y_train, X_test, y_test)"
   ]
  },
  {
   "cell_type": "code",
   "execution_count": 24,
   "metadata": {},
   "outputs": [],
   "source": [
    "X, y = load_data()"
   ]
  },
  {
   "cell_type": "code",
   "execution_count": 25,
   "metadata": {},
   "outputs": [
    {
     "name": "stdout",
     "output_type": "stream",
     "text": [
      "(614, 8)\n",
      "(614,)\n",
      "(154, 8)\n",
      "(154,)\n"
     ]
    }
   ],
   "source": [
    "X_train, y_train, X_test, y_test = split_data(X, y, train_size=0.8)\n",
    "print(X_train.shape)\n",
    "print(y_train.shape)\n",
    "print(X_test.shape)\n",
    "print(y_test.shape)\n"
   ]
  },
  {
   "cell_type": "code",
   "execution_count": 26,
   "metadata": {},
   "outputs": [],
   "source": [
    "num_category = 2 \n",
    "\n",
    "y_train = keras.utils.to_categorical(y_train, num_category)\n",
    "y_test = keras.utils.to_categorical(y_test, num_category)"
   ]
  },
  {
   "cell_type": "code",
   "execution_count": 20,
   "metadata": {},
   "outputs": [
    {
     "name": "stdout",
     "output_type": "stream",
     "text": [
      "0.7019543973941368\n",
      "0.7077922077922078\n"
     ]
    }
   ],
   "source": [
    "nn_model1 = mlrose.NeuralNetwork(hidden_nodes = [5, 2], activation = 'tanh',\n",
    "                                 algorithm = 'gradient_descent', \n",
    "                                 max_iters = 10000,\n",
    "                                 bias = True, \n",
    "                                 is_classifier = True,\n",
    "                                 learning_rate = 0.001, \n",
    "                                 early_stopping = True, \n",
    "                                 max_attempts = 100,\n",
    "                                 random_state = 3\n",
    "                                )\n",
    "\n",
    "\n",
    "nn_model1.fit(X_train, y_train)\n",
    "y_train_pred = nn_model1.predict(X_train)\n",
    "y_train_accuracy = accuracy_score(y_train, y_train_pred)\n",
    "y_pred = nn_model1.predict(X_test)\n",
    "y_test_accuracy = accuracy_score(y_test, y_pred)\n",
    "print(y_train_accuracy)\n",
    "print(y_test_accuracy)"
   ]
  },
  {
   "cell_type": "code",
   "execution_count": 19,
   "metadata": {},
   "outputs": [
    {
     "name": "stdout",
     "output_type": "stream",
     "text": [
      "0.6482084690553745\n",
      "0.6623376623376623\n"
     ]
    }
   ],
   "source": [
    "nn_model1 = mlrose.NeuralNetwork(hidden_nodes = [8, 4, 2], activation = 'sigmoid',\n",
    "                                 algorithm = 'gradient_descent', \n",
    "                                 max_iters = 10000,\n",
    "                                 bias = True, \n",
    "                                 is_classifier = True,\n",
    "                                 learning_rate = 0.0001, \n",
    "                                 early_stopping = True, \n",
    "                                 max_attempts = 100,\n",
    "                                 random_state = 2\n",
    "                                )\n",
    "\n",
    "\n",
    "nn_model1.fit(X_train, y_train)\n",
    "y_train_pred = nn_model1.predict(X_train)\n",
    "y_train_accuracy = accuracy_score(y_train, y_train_pred)\n",
    "y_pred = nn_model1.predict(X_test)\n",
    "y_test_accuracy = accuracy_score(y_test, y_pred)\n",
    "print(y_train_accuracy)\n",
    "print(y_test_accuracy)"
   ]
  },
  {
   "cell_type": "code",
   "execution_count": 29,
   "metadata": {},
   "outputs": [
    {
     "name": "stdout",
     "output_type": "stream",
     "text": [
      "0.23392857142857143\n"
     ]
    }
   ],
   "source": []
  },
  {
   "cell_type": "code",
   "execution_count": null,
   "metadata": {},
   "outputs": [],
   "source": [
    "model.compile(loss='categorical_crossentropy', optimizer='Adam', metrics=['accuracy'])\n",
    "\n",
    "history = model.fit(X_train, y_train_oh, epochs=20, verbose=1, batch_size=32,  validation_split=.1)"
   ]
  }
 ],
 "metadata": {
  "kernelspec": {
   "display_name": "Python 3",
   "language": "python",
   "name": "python3"
  },
  "language_info": {
   "codemirror_mode": {
    "name": "ipython",
    "version": 3
   },
   "file_extension": ".py",
   "mimetype": "text/x-python",
   "name": "python",
   "nbconvert_exporter": "python",
   "pygments_lexer": "ipython3",
   "version": "3.6.12"
  }
 },
 "nbformat": 4,
 "nbformat_minor": 4
}
