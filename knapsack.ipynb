{
 "cells": [
  {
   "cell_type": "code",
   "execution_count": 97,
   "metadata": {},
   "outputs": [],
   "source": [
    "import numpy as np\n",
    "import mlrose_hiive as mlrose\n",
    "import random\n",
    "import time\n",
    "import matplotlib.pyplot as plt\n"
   ]
  },
  {
   "cell_type": "code",
   "execution_count": 170,
   "metadata": {},
   "outputs": [],
   "source": [
    "results = {\n",
    "    'problem': 'knapsack',\n",
    "    'r_hill': {\n",
    "        'lengths':[], \n",
    "        'fits':[],\n",
    "        'fit_curves':[],\n",
    "        'iterations': [],\n",
    "        'times': [],\n",
    "        'best_fit': []\n",
    "    },\n",
    "    'GA': {\n",
    "        'lengths':[],\n",
    "        'fits':[],\n",
    "        'fit_curves':[],\n",
    "        'iterations': [],\n",
    "        'times': [],\n",
    "        'best_fit': []\n",
    "    },\n",
    "    'SA': {\n",
    "        'lengths':[],\n",
    "        'fits':[],\n",
    "        'fit_curves':[],\n",
    "        'iterations': [],\n",
    "        'times': [],\n",
    "        'best_fit': []\n",
    "    },\n",
    "    'MIMIC': {\n",
    "        'lengths':[],\n",
    "        'fits':[],\n",
    "        'fit_curves':[],\n",
    "        'iterations': [],\n",
    "        'times': [],\n",
    "        'best_fit': []\n",
    "    },\n",
    "}"
   ]
  },
  {
   "cell_type": "markdown",
   "metadata": {},
   "source": [
    "# Problem Definitions"
   ]
  },
  {
   "cell_type": "code",
   "execution_count": 171,
   "metadata": {},
   "outputs": [],
   "source": [
    "def knapsack_generator(length):\n",
    "    values = []\n",
    "    weights = []\n",
    "    for i in range(length):\n",
    "        values = random.sample(range(1, length+1), length)\n",
    "        weights = random.sample(range(1, length+1), length)\n",
    "    return values, weights"
   ]
  },
  {
   "cell_type": "code",
   "execution_count": 172,
   "metadata": {},
   "outputs": [
    {
     "name": "stdout",
     "output_type": "stream",
     "text": [
      "[([3, 1, 2, 4], [3, 2, 1, 4]), ([6, 3, 5, 4, 1, 2], [3, 4, 5, 1, 2, 6]), ([8, 4, 7, 5, 3, 6, 1, 2], [2, 1, 4, 3, 6, 8, 7, 5]), ([9, 3, 13, 16, 4, 7, 10, 6, 5, 2, 11, 1, 12, 8, 15, 14], [4, 15, 9, 3, 2, 8, 5, 7, 10, 14, 16, 6, 12, 1, 13, 11]), ([14, 21, 20, 29, 27, 10, 17, 4, 19, 11, 3, 25, 22, 7, 13, 23, 31, 9, 18, 12, 8, 28, 1, 6, 15, 32, 24, 2, 5, 30, 26, 16], [27, 1, 13, 21, 17, 2, 6, 4, 8, 10, 22, 29, 16, 15, 30, 9, 25, 14, 28, 11, 18, 5, 23, 31, 26, 3, 7, 19, 32, 20, 24, 12])]\n"
     ]
    }
   ],
   "source": [
    "problem_sets = []\n",
    "lengths = [4, 6, 8, 16, 32]\n",
    "for length in lengths:\n",
    "    problem_sets.append(knapsack_generator(length))\n",
    "print(problem_sets)"
   ]
  },
  {
   "cell_type": "code",
   "execution_count": 173,
   "metadata": {},
   "outputs": [
    {
     "name": "stdout",
     "output_type": "stream",
     "text": [
      "[2, 25, 6, 9, 13, 20, 15, 28, 19, 32, 4, 16, 11, 3, 30, 18, 21, 8, 1, 26, 5, 10, 7, 23, 12, 17, 22, 29, 27, 24, 14, 31]\n",
      "[32, 23, 21, 22, 10, 20, 17, 11, 16, 27, 4, 3, 29, 25, 24, 26, 5, 30, 12, 9, 13, 6, 14, 31, 2, 28, 15, 8, 19, 18, 1, 7]\n"
     ]
    }
   ],
   "source": [
    "length = 32\n",
    "values_bf, weights_bf = knapsack_generator(length)\n",
    "print(values)\n",
    "print(weights)"
   ]
  },
  {
   "cell_type": "code",
   "execution_count": 174,
   "metadata": {},
   "outputs": [],
   "source": [
    "#https://mlrose.readthedocs.io/en/stable/source/tutorial1.html\n",
    "# knapsack\n",
    "#values = [1, 4, 5, 7]\n",
    "#weights = [1, 3 ,4 ,5]\n",
    "\n",
    "max_weight_pct = 0.6\n",
    "fitness_fn = mlrose.Knapsack(weights, values, max_weight_pct)\n",
    "problem = mlrose.DiscreteOpt(length=length, \n",
    "                             fitness_fn=fitness_fn\n",
    "                            )\n"
   ]
  },
  {
   "cell_type": "markdown",
   "metadata": {},
   "source": [
    "# Knapsack Problem"
   ]
  },
  {
   "cell_type": "markdown",
   "metadata": {},
   "source": [
    "## 1.  Random hill climb"
   ]
  },
  {
   "cell_type": "code",
   "execution_count": null,
   "metadata": {},
   "outputs": [],
   "source": []
  },
  {
   "cell_type": "code",
   "execution_count": null,
   "metadata": {},
   "outputs": [],
   "source": []
  },
  {
   "cell_type": "code",
   "execution_count": 184,
   "metadata": {},
   "outputs": [],
   "source": [
    "\n",
    "\n",
    "\n",
    "problem = mlrose.DiscreteOpt(length = length, \n",
    "                             fitness_fn = fitness_fn, \n",
    "                            )\n"
   ]
  },
  {
   "cell_type": "code",
   "execution_count": 189,
   "metadata": {},
   "outputs": [
    {
     "name": "stdout",
     "output_type": "stream",
     "text": [
      "[0 1 1 1 1 1 1 1 0 1 1 1 1 0 1 1 1 0 1 1 1 1 0 0 1 0 1 1 0 0 1 1]\n",
      "398.0\n",
      "26\n"
     ]
    }
   ],
   "source": [
    "max_iters = 10000\n",
    "restarts = 500\n",
    "state, fitness, curve = mlrose.random_hill_climb(problem, \n",
    "                                                   max_attempts=10,\n",
    "                                                   max_iters=max_iters, \n",
    "                                                   restarts=20, \n",
    "                                                   curve=True, \n",
    "                                                   init_state=None, \n",
    "                                                   random_state=13)\n",
    "#results['r_hill']['fit_curves'].append(curve)\n",
    "print(state)\n",
    "print(fitness)\n",
    "print(len(curve))\n"
   ]
  },
  {
   "cell_type": "markdown",
   "metadata": {},
   "source": [
    "# max_attempts"
   ]
  },
  {
   "cell_type": "code",
   "execution_count": 266,
   "metadata": {},
   "outputs": [],
   "source": [
    "def test_param(param_name, param_range, problem, algorithm, args, plot=False, alg_name=\"\", prob_name=\"\"):\n",
    "    fits = []\n",
    "    best_fit = 0\n",
    "    best_arg_val = 0\n",
    "    if param_name == 'decay':\n",
    "        #this is SA, we need to define schedule\n",
    "        for p in param_range:\n",
    "            print(p)\n",
    "            args['schedule'] = mlrose.GeomDecay(init_temp=10, decay=p, min_temp=0.001)\n",
    "            state, fitness, curve = algorithm(**args)\n",
    "            fits.append(fitness)\n",
    "            if fitness > best_fit:\n",
    "                best_fit = fitness\n",
    "                best_arg_val = p\n",
    "    else:\n",
    "        for p in param_range:\n",
    "            args[param_name] = p\n",
    "            state, fitness, curve = algorithm(**args)\n",
    "            fits.append(fitness)\n",
    "            if fitness > best_fit:\n",
    "                best_fit = fitness\n",
    "                best_arg_val = p\n",
    "    print(\"best value for \", param_name, \": \", best_arg_val)\n",
    "    print(\"best fit: \", best_fit)\n",
    "    if plot:\n",
    "        plt.plot(param_range, fits, label=\"r_hill\")\n",
    "        plt.xlabel (param_name)\n",
    "        plt.ylabel ('fit')\n",
    "        plt.legend()\n",
    "        title = \"\" + alg_name + \" \" + param_name + \" fits \" + prob_name\n",
    "        plt.title (title)\n",
    "        plt.show()\n",
    "    return best_arg_val, best_fit\n",
    "    \n",
    "    \n",
    "r_hill_args = {\n",
    "    'problem': problem,\n",
    "    'curve': True,\n",
    "    'random_state': 13,\n",
    "    'max_attempts':400,\n",
    "    'max_iters':10000, \n",
    "    'restarts':20,\n",
    "    \n",
    "}\n",
    "ga_args = {\n",
    "    'problem': problem,\n",
    "    'curve': True,\n",
    "    'random_state': 13,\n",
    "    'pop_size': 200,\n",
    "    'mutation_prob': 0.5,\n",
    "    'max_attempts': 100,\n",
    "    'max_iters': 200,\n",
    "    \n",
    "}\n",
    "sa_args = {\n",
    "    'problem': problem,\n",
    "    'curve': True,\n",
    "    'random_state': 13,\n",
    "    'schedule': mlrose.GeomDecay(init_temp=10, decay=0.99, min_temp=0.001),\n",
    "    'max_attempts': 100,\n",
    "    'max_iters': 10000  \n",
    "}\n",
    "mimic_args = {\n",
    "    'problem': problem,\n",
    "    'curve': True,\n",
    "    'random_state': 13,\n",
    "    'pop_size': 100,\n",
    "    'keep_pct': 0.3,\n",
    "    'max_attempts': 100,\n",
    "    'max_iters': 200,\n",
    "}\n",
    "\n",
    "\n",
    "\n"
   ]
  },
  {
   "cell_type": "code",
   "execution_count": 279,
   "metadata": {},
   "outputs": [
    {
     "name": "stdout",
     "output_type": "stream",
     "text": [
      "best value for  restarts :  256\n",
      "best fit:  436.0\n"
     ]
    },
    {
     "data": {
      "image/png": "[encoded data removed]",
      "text/plain": [
       "<Figure size 432x288 with 1 Axes>"
      ]
     },
     "metadata": {
      "needs_background": "light"
     },
     "output_type": "display_data"
    },
    {
     "name": "stdout",
     "output_type": "stream",
     "text": [
      "best value for  max_iters :  1024\n",
      "best fit:  436.0\n"
     ]
    },
    {
     "data": {
      "image/png": "[encoded data removed]",
      "text/plain": [
       "<Figure size 432x288 with 1 Axes>"
      ]
     },
     "metadata": {
      "needs_background": "light"
     },
     "output_type": "display_data"
    },
    {
     "name": "stdout",
     "output_type": "stream",
     "text": [
      "0.85\n",
      "0.9\n",
      "0.95\n",
      "0.99\n",
      "0.999\n",
      "best value for  decay :  0.99\n",
      "best fit:  430.0\n"
     ]
    },
    {
     "data": {
      "image/png": "[encoded data removed]",
      "text/plain": [
       "<Figure size 432x288 with 1 Axes>"
      ]
     },
     "metadata": {
      "needs_background": "light"
     },
     "output_type": "display_data"
    },
    {
     "name": "stdout",
     "output_type": "stream",
     "text": [
      "best value for  max_iters :  1024\n",
      "best fit:  418.0\n"
     ]
    },
    {
     "data": {
      "image/png": "[encoded data removed]",
      "text/plain": [
       "<Figure size 432x288 with 1 Axes>"
      ]
     },
     "metadata": {
      "needs_background": "light"
     },
     "output_type": "display_data"
    },
    {
     "name": "stdout",
     "output_type": "stream",
     "text": [
      "best value for  max_iters :  32\n",
      "best fit:  466.0\n"
     ]
    },
    {
     "data": {
      "image/png": "[encoded data removed]",
      "text/plain": [
       "<Figure size 432x288 with 1 Axes>"
      ]
     },
     "metadata": {
      "needs_background": "light"
     },
     "output_type": "display_data"
    },
    {
     "name": "stdout",
     "output_type": "stream",
     "text": [
      "best value for  pop_size :  256\n",
      "best fit:  466.0\n"
     ]
    },
    {
     "data": {
      "image/png": "[encoded data removed]",
      "text/plain": [
       "<Figure size 432x288 with 1 Axes>"
      ]
     },
     "metadata": {
      "needs_background": "light"
     },
     "output_type": "display_data"
    },
    {
     "name": "stdout",
     "output_type": "stream",
     "text": [
      "best value for  mutation_prob :  0.1\n",
      "best fit:  466.0\n"
     ]
    },
    {
     "data": {
      "image/png": "[encoded data removed]",
      "text/plain": [
       "<Figure size 432x288 with 1 Axes>"
      ]
     },
     "metadata": {
      "needs_background": "light"
     },
     "output_type": "display_data"
    },
    {
     "name": "stdout",
     "output_type": "stream",
     "text": [
      "best value for  keep_pct :  0.7\n",
      "best fit:  466.0\n"
     ]
    },
    {
     "data": {
      "image/png": "[encoded data removed]",
      "text/plain": [
       "<Figure size 432x288 with 1 Axes>"
      ]
     },
     "metadata": {
      "needs_background": "light"
     },
     "output_type": "display_data"
    },
    {
     "name": "stdout",
     "output_type": "stream",
     "text": [
      "best value for  max_iters :  32\n",
      "best fit:  466.0\n"
     ]
    },
    {
     "data": {
      "image/png": "[encoded data removed]",
      "text/plain": [
       "<Figure size 432x288 with 1 Axes>"
      ]
     },
     "metadata": {
      "needs_background": "light"
     },
     "output_type": "display_data"
    }
   ],
   "source": [
    "length = 64\n",
    "values_bf, weights_bf = knapsack_generator(length)\n",
    "max_weight_pct = 0.6\n",
    "fitness_fn = mlrose.Knapsack(weights, values, max_weight_pct)\n",
    "problem = mlrose.DiscreteOpt(length=len(weights), \n",
    "                             fitness_fn=fitness_fn\n",
    "                            )\n",
    "\n",
    "best_r_hill_fit = 0\n",
    "best_SA_fit = 0\n",
    "best_GA_fit = 0\n",
    "best_MIMIC_fit = 0\n",
    "\n",
    "#r_hill\n",
    "restart_range = [1, 2, 4, 8, 16, 32, 64, 128, 256]\n",
    "arg_val, best_fit = test_param('restarts', restart_range, problem, mlrose.random_hill_climb, r_hill_args, plot=True, alg_name=\"r_hill\", prob_name=\"knapsack\")\n",
    "\n",
    "r_hill_args['restarts'] = arg_val\n",
    "\n",
    "max_iter_range = [1, 2, 4, 8, 16, 32, 64, 128, 256, 512, 1024, 2048]\n",
    "arg_val, best_fit = test_param('max_iters', max_iter_range, problem, mlrose.random_hill_climb, r_hill_args, plot=True, alg_name=\"r_hill\", prob_name=\"knapsack\")\n",
    "\n",
    "r_hill_args['max_iters'] = arg_val\n",
    "best_r_hill_fit = best_fit\n",
    "\n",
    "#Simulated annealing\n",
    "decay_range = [0.85, 0.9, 0.95, 0.99, 0.999]\n",
    "arg_val, best_fit = test_param('decay', decay_range, problem, mlrose.simulated_annealing, sa_args, plot=True, alg_name=\"SA\", prob_name=\"knapsack\")\n",
    "\n",
    "#its hard to dynamicall set this so i played around with decay manually and set it to optimal initially\n",
    "\n",
    "max_iter_range = [1, 2, 4, 8, 16, 32, 64, 128, 256, 512, 1024, 2048, 10000]\n",
    "arg_val, best_fit = test_param('max_iters', max_iter_range, problem, mlrose.simulated_annealing, sa_args, plot=True, alg_name=\"SA\", prob_name=\"knapsack\")\n",
    "\n",
    "sa_args['max_iters'] = arg_val\n",
    "best_SA_fit = best_fit\n",
    "# genetic algorithm\n",
    "\n",
    "max_iter_range = [1, 2, 4, 8, 16, 32, 64, 128, 256, 512, 1024, 2048]\n",
    "arg_val, best_fit = test_param('max_iters', max_iter_range, problem, mlrose.genetic_alg, ga_args, plot=True, alg_name=\"GA\", prob_name=\"knapsack\")\n",
    "\n",
    "ga_args['max_iters'] = arg_val\n",
    "\n",
    "pop_size_range = [256, 512, 1024, 2048]\n",
    "arg_val, best_fit = test_param('pop_size', pop_size_range, problem, mlrose.genetic_alg, ga_args, plot=True, alg_name=\"GA\", prob_name=\"knapsack\")\n",
    "\n",
    "ga_args['pop_size'] = arg_val\n",
    "\n",
    "#mutation_prob_range = np.arange(0.6, 0.9, 0.001)\n",
    "mutation_prob_range = [0.1, 0.2, 0.3, 0.4, 0.5, 0.6, 0.7, 0.8, 0.9, 0.99]\n",
    "arg_val, best_fit = test_param('mutation_prob', mutation_prob_range, problem, mlrose.genetic_alg, ga_args, plot=True, alg_name=\"GA\", prob_name=\"knapsack\")\n",
    "\n",
    "ga_args['mutation_prob'] = arg_val\n",
    "best_GA_fit = best_fit\n",
    "#MIMIC\n",
    "\n",
    "#pop_size_range = [256, 512, 1024, 2048]\n",
    "#arg_val, best_fit = test_param('pop_size', pop_size_range, problem, mlrose.mimic ,mimic_args, plot=True, alg_name=\"MIMIC\", prob_name=\"knapsack\")\n",
    "\n",
    "keep_pct = [0.7, 0.8, 0.9, 0.99]\n",
    "arg_val, best_fit = test_param('keep_pct', keep_pct, problem, mlrose.mimic, mimic_args, plot=True, alg_name=\"MIMIC\", prob_name=\"knapsack\")\n",
    "\n",
    "mimic_args['keep_pct'] = arg_val\n",
    "\n",
    "max_iter_range = [1, 2, 4, 8, 16, 32]\n",
    "arg_val, best_fit = test_param('max_iters', max_iter_range, problem, mlrose.mimic, mimic_args, plot=True, alg_name=\"MIMIC\", prob_name=\"knapsack\")\n",
    "\n",
    "mimic_args['max_iters'] = arg_val\n",
    "best_MIMIC_fit = best_fit"
   ]
  },
  {
   "cell_type": "code",
   "execution_count": 280,
   "metadata": {},
   "outputs": [
    {
     "name": "stdout",
     "output_type": "stream",
     "text": [
      "best r_hill fit:  436.0\n",
      "best SA fit:  418.0\n",
      "best GA fit:  466.0\n",
      "best mimic fit:  466.0\n"
     ]
    },
    {
     "data": {
      "image/png": "[encoded data removed]",
      "text/plain": [
       "<Figure size 432x288 with 1 Axes>"
      ]
     },
     "metadata": {
      "needs_background": "light"
     },
     "output_type": "display_data"
    }
   ],
   "source": [
    "print(\"best r_hill fit: \", best_r_hill_fit)\n",
    "print(\"best SA fit: \", best_SA_fit)\n",
    "print(\"best GA fit: \", best_ga_fit)\n",
    "print(\"best mimic fit: \", best_MIMIC_fit)\n",
    "plt.bar(\"r_hill\", best_r_hill_fit, color='green')\n",
    "plt.bar(\"SA\", best_SA_fit, color='green')\n",
    "plt.bar(\"GA\", best_ga_fit, color='green')\n",
    "plt.bar(\"MIMIC\", best_MIMIC_fit, color='green')\n",
    "plt.xlabel(\"algorithm\")\n",
    "plt.ylabel(\"Best Fit\")\n",
    "plt.title(\"Best fit on 32 obj knapsack\")\n",
    "axes = plt.gca()\n",
    "\n",
    "axes.set_ylim([300,500])\n",
    "plt.show()"
   ]
  },
  {
   "cell_type": "code",
   "execution_count": 193,
   "metadata": {},
   "outputs": [
    {
     "name": "stdout",
     "output_type": "stream",
     "text": [
      "10\n",
      "20\n",
      "30\n",
      "40\n",
      "50\n",
      "60\n",
      "70\n",
      "80\n",
      "90\n",
      "100\n",
      "110\n",
      "120\n",
      "130\n",
      "140\n",
      "150\n",
      "160\n",
      "170\n",
      "180\n",
      "190\n",
      "200\n",
      "210\n",
      "220\n",
      "230\n",
      "240\n",
      "250\n",
      "260\n",
      "270\n",
      "280\n",
      "290\n",
      "300\n",
      "310\n",
      "320\n",
      "330\n",
      "340\n",
      "350\n",
      "360\n",
      "370\n",
      "380\n",
      "390\n",
      "400\n",
      "410\n",
      "420\n",
      "430\n",
      "440\n",
      "450\n",
      "460\n",
      "470\n",
      "480\n",
      "490\n",
      "500\n",
      "510\n",
      "520\n",
      "530\n",
      "540\n",
      "550\n",
      "560\n",
      "570\n",
      "580\n",
      "590\n",
      "600\n",
      "610\n",
      "620\n",
      "630\n",
      "640\n",
      "650\n",
      "660\n",
      "670\n",
      "680\n",
      "690\n",
      "700\n",
      "710\n",
      "720\n",
      "730\n",
      "740\n",
      "750\n",
      "760\n",
      "770\n",
      "780\n",
      "790\n",
      "800\n",
      "810\n",
      "820\n",
      "830\n",
      "840\n",
      "850\n",
      "860\n",
      "870\n",
      "880\n",
      "890\n",
      "900\n",
      "910\n",
      "920\n",
      "930\n",
      "940\n",
      "950\n",
      "960\n",
      "970\n",
      "980\n",
      "990\n",
      "[0 1 0 0 1 0 1 1 1 1 1 1 0 0 1 1 1 1 1 0 0 1 0 1 1 0 1 1 1 1 1 1]\n",
      "422.0\n",
      "1026\n"
     ]
    },
    {
     "data": {
      "image/png": "[encoded data removed]",
      "text/plain": [
       "<Figure size 432x288 with 1 Axes>"
      ]
     },
     "metadata": {
      "needs_background": "light"
     },
     "output_type": "display_data"
    }
   ],
   "source": [
    "attempt_nums = range(10, 1000, 10)\n",
    "max_iters = 10000\n",
    "restarts = 500\n",
    "fits = []\n",
    "for max_attempts in attempt_nums:\n",
    "    #print(max_attempts)\n",
    "    state, fitness, curve = mlrose.random_hill_climb(problem, \n",
    "                                                       max_attempts=max_attempts,\n",
    "                                                       max_iters=max_iters, \n",
    "                                                       restarts=20, \n",
    "                                                       curve=True, \n",
    "                                                       init_state=None, \n",
    "                                                       random_state=13)\n",
    "    fits.append(fitness)\n",
    "#results['r_hill']['fit_curves'].append(curve)\n",
    "print(state)\n",
    "print(fitness)\n",
    "print(len(curve))\n",
    "plt.plot(attempt_nums, fits, label=\"r_hill\")\n",
    "\n",
    "plt.xlabel ('max_attempts')\n",
    "plt.ylabel ('fit')\n",
    "plt.legend()\n",
    "plt.title ('r_hill max_attempts fits knapsack')\n",
    "plt.show()"
   ]
  },
  {
   "cell_type": "code",
   "execution_count": null,
   "metadata": {},
   "outputs": [],
   "source": []
  },
  {
   "cell_type": "code",
   "execution_count": 194,
   "metadata": {},
   "outputs": [
    {
     "name": "stdout",
     "output_type": "stream",
     "text": [
      "10\n",
      "20\n",
      "30\n",
      "40\n",
      "50\n",
      "60\n",
      "70\n",
      "80\n",
      "90\n",
      "100\n",
      "110\n",
      "120\n",
      "130\n",
      "140\n",
      "150\n",
      "160\n",
      "170\n",
      "180\n",
      "190\n",
      "200\n",
      "210\n",
      "220\n",
      "230\n",
      "240\n",
      "250\n",
      "260\n",
      "270\n",
      "280\n",
      "290\n",
      "300\n",
      "310\n",
      "320\n",
      "330\n",
      "340\n",
      "350\n",
      "360\n",
      "370\n",
      "380\n",
      "390\n",
      "400\n",
      "410\n",
      "420\n",
      "430\n",
      "440\n",
      "450\n"
     ]
    },
    {
     "ename": "KeyboardInterrupt",
     "evalue": "",
     "output_type": "error",
     "traceback": [
      "\u001b[1;31m---------------------------------------------------------------------------\u001b[0m",
      "\u001b[1;31mKeyboardInterrupt\u001b[0m                         Traceback (most recent call last)",
      "\u001b[1;32m<ipython-input-194-29959a68f25e>\u001b[0m in \u001b[0;36m<module>\u001b[1;34m\u001b[0m\n\u001b[0;32m     11\u001b[0m                                                        \u001b[0mcurve\u001b[0m\u001b[1;33m=\u001b[0m\u001b[1;32mTrue\u001b[0m\u001b[1;33m,\u001b[0m\u001b[1;33m\u001b[0m\u001b[1;33m\u001b[0m\u001b[0m\n\u001b[0;32m     12\u001b[0m                                                        \u001b[0minit_state\u001b[0m\u001b[1;33m=\u001b[0m\u001b[1;32mNone\u001b[0m\u001b[1;33m,\u001b[0m\u001b[1;33m\u001b[0m\u001b[1;33m\u001b[0m\u001b[0m\n\u001b[1;32m---> 13\u001b[1;33m                                                        random_state=13)\n\u001b[0m\u001b[0;32m     14\u001b[0m     \u001b[0mfits\u001b[0m\u001b[1;33m.\u001b[0m\u001b[0mappend\u001b[0m\u001b[1;33m(\u001b[0m\u001b[0mfitness\u001b[0m\u001b[1;33m)\u001b[0m\u001b[1;33m\u001b[0m\u001b[1;33m\u001b[0m\u001b[0m\n\u001b[0;32m     15\u001b[0m \u001b[1;31m#results['r_hill']['fit_curves'].append(curve)\u001b[0m\u001b[1;33m\u001b[0m\u001b[1;33m\u001b[0m\u001b[1;33m\u001b[0m\u001b[0m\n",
      "\u001b[1;32mc:\\users\\fuers\\anaconda3\\envs\\ml\\lib\\site-packages\\mlrose_hiive\\algorithms\\rhc.py\u001b[0m in \u001b[0;36mrandom_hill_climb\u001b[1;34m(problem, max_attempts, max_iters, restarts, init_state, curve, random_state, state_fitness_callback, callback_user_info)\u001b[0m\n\u001b[0;32m    108\u001b[0m \u001b[1;33m\u001b[0m\u001b[0m\n\u001b[0;32m    109\u001b[0m             \u001b[1;31m# Find random neighbor and evaluate fitness\u001b[0m\u001b[1;33m\u001b[0m\u001b[1;33m\u001b[0m\u001b[1;33m\u001b[0m\u001b[0m\n\u001b[1;32m--> 110\u001b[1;33m             \u001b[0mnext_state\u001b[0m \u001b[1;33m=\u001b[0m \u001b[0mproblem\u001b[0m\u001b[1;33m.\u001b[0m\u001b[0mrandom_neighbor\u001b[0m\u001b[1;33m(\u001b[0m\u001b[1;33m)\u001b[0m\u001b[1;33m\u001b[0m\u001b[1;33m\u001b[0m\u001b[0m\n\u001b[0m\u001b[0;32m    111\u001b[0m             \u001b[0mnext_fitness\u001b[0m \u001b[1;33m=\u001b[0m \u001b[0mproblem\u001b[0m\u001b[1;33m.\u001b[0m\u001b[0meval_fitness\u001b[0m\u001b[1;33m(\u001b[0m\u001b[0mnext_state\u001b[0m\u001b[1;33m)\u001b[0m\u001b[1;33m\u001b[0m\u001b[1;33m\u001b[0m\u001b[0m\n\u001b[0;32m    112\u001b[0m \u001b[1;33m\u001b[0m\u001b[0m\n",
      "\u001b[1;32mc:\\users\\fuers\\anaconda3\\envs\\ml\\lib\\site-packages\\mlrose_hiive\\opt_probs\\discrete_opt.py\u001b[0m in \u001b[0;36mrandom_neighbor\u001b[1;34m(self)\u001b[0m\n\u001b[0;32m    320\u001b[0m             \u001b[0mState\u001b[0m \u001b[0mvector\u001b[0m \u001b[0mof\u001b[0m \u001b[0mrandom\u001b[0m \u001b[0mneighbor\u001b[0m\u001b[1;33m.\u001b[0m\u001b[1;33m\u001b[0m\u001b[1;33m\u001b[0m\u001b[0m\n\u001b[0;32m    321\u001b[0m         \"\"\"\n\u001b[1;32m--> 322\u001b[1;33m         \u001b[0mneighbor\u001b[0m \u001b[1;33m=\u001b[0m \u001b[0mnp\u001b[0m\u001b[1;33m.\u001b[0m\u001b[0mcopy\u001b[0m\u001b[1;33m(\u001b[0m\u001b[0mself\u001b[0m\u001b[1;33m.\u001b[0m\u001b[0mstate\u001b[0m\u001b[1;33m)\u001b[0m\u001b[1;33m\u001b[0m\u001b[1;33m\u001b[0m\u001b[0m\n\u001b[0m\u001b[0;32m    323\u001b[0m         \u001b[0mi\u001b[0m \u001b[1;33m=\u001b[0m \u001b[0mnp\u001b[0m\u001b[1;33m.\u001b[0m\u001b[0mrandom\u001b[0m\u001b[1;33m.\u001b[0m\u001b[0mrandint\u001b[0m\u001b[1;33m(\u001b[0m\u001b[1;36m0\u001b[0m\u001b[1;33m,\u001b[0m \u001b[0mself\u001b[0m\u001b[1;33m.\u001b[0m\u001b[0mlength\u001b[0m\u001b[1;33m)\u001b[0m\u001b[1;33m\u001b[0m\u001b[1;33m\u001b[0m\u001b[0m\n\u001b[0;32m    324\u001b[0m \u001b[1;33m\u001b[0m\u001b[0m\n",
      "\u001b[1;32m<__array_function__ internals>\u001b[0m in \u001b[0;36mcopy\u001b[1;34m(*args, **kwargs)\u001b[0m\n",
      "\u001b[1;32mc:\\users\\fuers\\anaconda3\\envs\\ml\\lib\\site-packages\\numpy\\lib\\function_base.py\u001b[0m in \u001b[0;36mcopy\u001b[1;34m(a, order, subok)\u001b[0m\n\u001b[0;32m    790\u001b[0m \u001b[1;33m\u001b[0m\u001b[0m\n\u001b[0;32m    791\u001b[0m     \"\"\"\n\u001b[1;32m--> 792\u001b[1;33m     \u001b[1;32mreturn\u001b[0m \u001b[0marray\u001b[0m\u001b[1;33m(\u001b[0m\u001b[0ma\u001b[0m\u001b[1;33m,\u001b[0m \u001b[0morder\u001b[0m\u001b[1;33m=\u001b[0m\u001b[0morder\u001b[0m\u001b[1;33m,\u001b[0m \u001b[0msubok\u001b[0m\u001b[1;33m=\u001b[0m\u001b[0msubok\u001b[0m\u001b[1;33m,\u001b[0m \u001b[0mcopy\u001b[0m\u001b[1;33m=\u001b[0m\u001b[1;32mTrue\u001b[0m\u001b[1;33m)\u001b[0m\u001b[1;33m\u001b[0m\u001b[1;33m\u001b[0m\u001b[0m\n\u001b[0m\u001b[0;32m    793\u001b[0m \u001b[1;33m\u001b[0m\u001b[0m\n\u001b[0;32m    794\u001b[0m \u001b[1;31m# Basic operations\u001b[0m\u001b[1;33m\u001b[0m\u001b[1;33m\u001b[0m\u001b[1;33m\u001b[0m\u001b[0m\n",
      "\u001b[1;31mKeyboardInterrupt\u001b[0m: "
     ]
    }
   ],
   "source": [
    "max_iters = range(1, 1000, 1)\n",
    "max_iters = 10000\n",
    "restarts = 500\n",
    "fits = []\n",
    "for max_attempts in attempt_nums:\n",
    "    print(max_attempts)\n",
    "    state, fitness, curve = mlrose.random_hill_climb(problem, \n",
    "                                                       max_attempts=400,\n",
    "                                                       max_iters=max_iters, \n",
    "                                                       restarts=20, \n",
    "                                                       curve=True, \n",
    "                                                       init_state=None, \n",
    "                                                       random_state=13)\n",
    "    fits.append(fitness)\n",
    "#results['r_hill']['fit_curves'].append(curve)\n",
    "print(state)\n",
    "print(fitness)\n",
    "print(len(curve))\n",
    "plt.plot(attempt_nums, fits, label=\"r_hill\")\n",
    "\n",
    "plt.xlabel ('max_attempts')\n",
    "plt.ylabel ('fit')\n",
    "plt.legend()\n",
    "plt.title ('r_hill max_attempts fits knapsack')\n",
    "plt.show()"
   ]
  },
  {
   "cell_type": "markdown",
   "metadata": {},
   "source": [
    "###  1.1 Hyperparam analysis"
   ]
  },
  {
   "cell_type": "markdown",
   "metadata": {},
   "source": [
    "#### 1.1.1 problem complexity"
   ]
  },
  {
   "cell_type": "code",
   "execution_count": 144,
   "metadata": {},
   "outputs": [
    {
     "name": "stdout",
     "output_type": "stream",
     "text": [
      "starting length  4\n",
      "7.0\n",
      "starting length  6\n",
      "18.0\n",
      "starting length  8\n",
      "31.0\n",
      "starting length  16\n",
      "92.0\n",
      "starting length  32\n",
      "372.0\n"
     ]
    }
   ],
   "source": [
    "max_iters = 10000\n",
    "restarts = 5\n",
    "\n",
    "fits = []\n",
    "times = []\n",
    "iterations = []\n",
    "curves = []\n",
    "restarts = [5, 5, 5, 5, 5, 5]\n",
    "i = 0\n",
    "for problem in problem_sets:\n",
    "    \n",
    "    start_time = time.time()\n",
    "    values, weights = problem\n",
    "    length = len(weights)\n",
    "    print(\"starting length \", length)\n",
    "    fitness_fn = mlrose.Knapsack(weights, values, max_weight_pct)\n",
    "    problem = mlrose.DiscreteOpt(length =length, \n",
    "                                 fitness_fn = fitness_fn\n",
    "                                )\n",
    "    state, fitness, curve = mlrose.random_hill_climb(problem, \n",
    "                                                     max_attempts = max_attempts, \n",
    "                                                     max_iters=max_iters, \n",
    "                                                     restarts=restarts[i], \n",
    "                                                     curve=True, \n",
    "                                                     random_state=13\n",
    "                                                    )\n",
    "    print(fitness)\n",
    "   \n",
    "    time_elapsed = time.time() - start_time\n",
    "    fits.append(fitness)\n",
    "    times.append(time_elapsed)\n",
    "    iterations.append(len(curve))\n",
    "    curves.append(curve)\n",
    "    i+=1"
   ]
  },
  {
   "cell_type": "code",
   "execution_count": 145,
   "metadata": {},
   "outputs": [
    {
     "name": "stdout",
     "output_type": "stream",
     "text": [
      "[4, 6, 8, 16, 32]\n",
      "[7.0, 18.0, 31.0, 92.0, 372.0]\n",
      "[1.8341081142425537, 1.829843282699585, 1.9396421909332275, 1.8533947467803955, 2.062044143676758]\n",
      "[10000, 10000, 10000, 10000, 10000]\n"
     ]
    }
   ],
   "source": [
    "print(lengths)\n",
    "print(fits)\n",
    "print(times)\n",
    "print(iterations)"
   ]
  },
  {
   "cell_type": "code",
   "execution_count": 146,
   "metadata": {},
   "outputs": [
    {
     "data": {
      "image/png": "[encoded data removed]",
      "text/plain": [
       "<Figure size 432x288 with 1 Axes>"
      ]
     },
     "metadata": {
      "needs_background": "light"
     },
     "output_type": "display_data"
    }
   ],
   "source": [
    "plt.plot(iterations,times)\n",
    "plt.show()"
   ]
  },
  {
   "cell_type": "code",
   "execution_count": 147,
   "metadata": {},
   "outputs": [],
   "source": [
    "results['r_hill']['fits'] = fits\n",
    "results['r_hill']['fit_curves'] = curves\n",
    "results['r_hill']['iterations'] = iterations\n",
    "results['r_hill']['times'] = times\n",
    "results['r_hill']['lengths'] = lengths\n"
   ]
  },
  {
   "cell_type": "code",
   "execution_count": null,
   "metadata": {},
   "outputs": [],
   "source": []
  },
  {
   "cell_type": "markdown",
   "metadata": {},
   "source": [
    "## 2. Genetic Algorithm"
   ]
  },
  {
   "cell_type": "code",
   "execution_count": 148,
   "metadata": {},
   "outputs": [],
   "source": [
    "values = [1, 4, 5, 7]\n",
    "weights = [1, 3 ,4 ,5]\n",
    "\n",
    "population_size = 100\n",
    "mutation_prob = 0.5\n",
    "max_attempts = 100\n",
    "max_iters = 200\n",
    "\n",
    "length = len(weights)\n",
    "\n",
    "fitness_fn = mlrose.Knapsack(weights, values, max_weight_pct)\n",
    "problem = mlrose.DiscreteOpt(length =length, \n",
    "                             fitness_fn = fitness_fn, \n",
    "                            )\n",
    "state, fitness, curve = mlrose.genetic_alg(problem, \n",
    "                                           pop_size=population_size, \n",
    "                                           mutation_prob=mutation_prob, \n",
    "                                           max_attempts=max_attempts, \n",
    "                                           max_iters=max_iters, \n",
    "                                           curve=True, \n",
    "                                           random_state=13\n",
    "                                          )"
   ]
  },
  {
   "cell_type": "code",
   "execution_count": 149,
   "metadata": {},
   "outputs": [
    {
     "name": "stdout",
     "output_type": "stream",
     "text": [
      "[0 1 0 1]\n",
      "11.0\n"
     ]
    }
   ],
   "source": [
    "print(state)\n",
    "print(fitness)\n"
   ]
  },
  {
   "cell_type": "markdown",
   "metadata": {},
   "source": [
    "## 2.1 Hyperparam Analysis"
   ]
  },
  {
   "cell_type": "code",
   "execution_count": null,
   "metadata": {},
   "outputs": [],
   "source": []
  },
  {
   "cell_type": "code",
   "execution_count": 150,
   "metadata": {},
   "outputs": [
    {
     "name": "stdout",
     "output_type": "stream",
     "text": [
      "starting length  4\n",
      "7.0\n",
      "starting length  6\n",
      "18.0\n",
      "starting length  8\n",
      "32.0\n",
      "starting length  16\n",
      "115.0\n",
      "starting length  32\n",
      "466.0\n"
     ]
    }
   ],
   "source": [
    "population_size = 100\n",
    "mutation_prob = 0.5\n",
    "max_attempts = 100\n",
    "max_iters = 10000\n",
    "\n",
    "fits = []\n",
    "times = []\n",
    "iterations = []\n",
    "curves = []\n",
    "restarts = [5, 5, 5, 5, 5, 5]\n",
    "\n",
    "i = 0\n",
    "for problem in problem_sets:\n",
    "    start_time = time.time()\n",
    "    values, weights = problem\n",
    "    length = len(weights)\n",
    "    print(\"starting length \", length)\n",
    "    fitness_fn = mlrose.Knapsack(weights, values, max_weight_pct)\n",
    "    problem = mlrose.DiscreteOpt(length =length, \n",
    "                                 fitness_fn = fitness_fn, \n",
    "                                )\n",
    "    state, fitness, curve = mlrose.genetic_alg(problem, \n",
    "                                               max_iters=max_iters, \n",
    "                                               curve=True, \n",
    "                                               random_state=13\n",
    "                                              )\n",
    "    print(fitness)\n",
    "   \n",
    "    time_elapsed = time.time() - start_time\n",
    "    fits.append(fitness)\n",
    "    times.append(time_elapsed)\n",
    "    iterations.append(len(curve))\n",
    "    curves.append(curve)\n",
    "    i+=1"
   ]
  },
  {
   "cell_type": "code",
   "execution_count": 151,
   "metadata": {},
   "outputs": [
    {
     "name": "stdout",
     "output_type": "stream",
     "text": [
      "[4, 6, 8, 16, 32]\n",
      "[7.0, 18.0, 32.0, 115.0, 466.0]\n",
      "[0.16215133666992188, 0.18894219398498535, 0.16332721710205078, 0.27506422996520996, 0.5262446403503418]\n",
      "[11, 11, 11, 18, 32]\n"
     ]
    }
   ],
   "source": [
    "print(lengths)\n",
    "print(fits)\n",
    "print(times)\n",
    "print(iterations)"
   ]
  },
  {
   "cell_type": "code",
   "execution_count": 152,
   "metadata": {},
   "outputs": [],
   "source": [
    "results['GA']['fits'] = fits\n",
    "results['GA']['fit_curves'] = curves\n",
    "results['GA']['iterations'] = iterations\n",
    "results['GA']['times'] = times\n",
    "results['GA']['lengths'] = lengths\n"
   ]
  },
  {
   "cell_type": "markdown",
   "metadata": {},
   "source": [
    "## Simulated Annealing"
   ]
  },
  {
   "cell_type": "code",
   "execution_count": 153,
   "metadata": {},
   "outputs": [],
   "source": [
    "mutation_prob = 0.2\n",
    "max_attempts = 100\n",
    "max_iters = 10000\n",
    "\n",
    "values = [1, 4, 5, 7]\n",
    "weights = [1, 3 ,4 ,5]\n",
    "length = 4\n",
    "\n",
    "fitness_fn = mlrose.Knapsack(weights, values, max_weight_pct)\n",
    "problem = mlrose.DiscreteOpt(length =length, \n",
    "                             fitness_fn = fitness_fn, \n",
    "                            )\n",
    "schedule = mlrose.GeomDecay(init_temp=10, decay=0.95, min_temp=0.001)\n",
    "state, fitness, curve = mlrose.simulated_annealing(problem, \n",
    "                                                   schedule=schedule,\n",
    "                                                   max_attempts=max_attempts, \n",
    "                                                   max_iters=max_iters, \n",
    "                                                   curve=True, \n",
    "                                                   random_state=13\n",
    "                                                  )"
   ]
  },
  {
   "cell_type": "code",
   "execution_count": 154,
   "metadata": {},
   "outputs": [
    {
     "name": "stdout",
     "output_type": "stream",
     "text": [
      "[1 1 1 0]\n",
      "10.0\n",
      "157\n"
     ]
    }
   ],
   "source": [
    "print(state)\n",
    "print(fitness)\n",
    "print(len(curve))\n"
   ]
  },
  {
   "cell_type": "code",
   "execution_count": null,
   "metadata": {},
   "outputs": [],
   "source": []
  },
  {
   "cell_type": "code",
   "execution_count": null,
   "metadata": {},
   "outputs": [],
   "source": []
  },
  {
   "cell_type": "code",
   "execution_count": 155,
   "metadata": {},
   "outputs": [
    {
     "name": "stdout",
     "output_type": "stream",
     "text": [
      "starting length  4\n",
      "6.0\n",
      "starting length  6\n",
      "15.0\n",
      "starting length  8\n",
      "32.0\n",
      "starting length  16\n",
      "106.0\n",
      "starting length  32\n",
      "396.0\n"
     ]
    }
   ],
   "source": [
    "\n",
    "\n",
    "fits = []\n",
    "times = []\n",
    "iterations = []\n",
    "curves = []\n",
    "restarts = [5, 5, 5, 5, 5, 5]\n",
    "i = 0\n",
    "for problem in problem_sets:\n",
    "    start_time = time.time()\n",
    "    values, weights = problem\n",
    "    length = len(weights)\n",
    "    print(\"starting length \", length)\n",
    "    fitness_fn = mlrose.Knapsack(weights, values, max_weight_pct)\n",
    "    problem = mlrose.DiscreteOpt(length =length, \n",
    "                                 fitness_fn = fitness_fn, \n",
    "                                )\n",
    "    schedule = mlrose.GeomDecay(init_temp=10, decay=0.95, min_temp=0.001)\n",
    "    state, fitness, curve = mlrose.simulated_annealing(problem, \n",
    "                                                       schedule=schedule,\n",
    "                                                       max_attempts=max_attempts, \n",
    "                                                       max_iters=max_iters, \n",
    "                                                       curve=True, \n",
    "                                                       random_state=13\n",
    "                                                      )\n",
    "    print(fitness)\n",
    "   \n",
    "    time_elapsed = time.time() - start_time\n",
    "    fits.append(fitness)\n",
    "    times.append(time_elapsed)\n",
    "    iterations.append(len(curve))\n",
    "    curves.append(curve)\n",
    "    i+=1"
   ]
  },
  {
   "cell_type": "code",
   "execution_count": 156,
   "metadata": {},
   "outputs": [
    {
     "name": "stdout",
     "output_type": "stream",
     "text": [
      "[4, 6, 8, 16, 32]\n",
      "[6.0, 15.0, 32.0, 106.0, 396.0]\n",
      "[0.008052349090576172, 0.005950927734375, 0.008014917373657227, 0.0069828033447265625, 0.006939411163330078]\n",
      "[162, 144, 173, 135, 148]\n"
     ]
    }
   ],
   "source": [
    "print(lengths)\n",
    "print(fits)\n",
    "print(times)\n",
    "print(iterations)"
   ]
  },
  {
   "cell_type": "code",
   "execution_count": 157,
   "metadata": {},
   "outputs": [],
   "source": [
    "results['SA']['fits'] = fits\n",
    "results['SA']['fit_curves'] = curves\n",
    "results['SA']['iterations'] = iterations\n",
    "results['SA']['times'] = times\n",
    "results['SA']['lengths'] = lengths"
   ]
  },
  {
   "cell_type": "code",
   "execution_count": null,
   "metadata": {},
   "outputs": [],
   "source": []
  },
  {
   "cell_type": "markdown",
   "metadata": {},
   "source": [
    "## MIMIC"
   ]
  },
  {
   "cell_type": "code",
   "execution_count": 158,
   "metadata": {},
   "outputs": [],
   "source": [
    "population_size = 100\n",
    "max_attempts = 100\n",
    "max_iters = 100\n",
    "keep_pct = 0.3\n",
    "\n",
    "values = [1, 4, 5, 7]\n",
    "weights = [1, 3 ,4 ,5]\n",
    "length = 4\n",
    "\n",
    "\n",
    "fitness_fn = mlrose.Knapsack(weights, values, max_weight_pct)\n",
    "problem = mlrose.DiscreteOpt(length =length, \n",
    "                             fitness_fn = fitness_fn, \n",
    "                            \n",
    "                            )\n",
    "state,fitness, curve = mlrose.mimic(problem, \n",
    "                                    pop_size = population_size, \n",
    "                                    keep_pct = keep_pct, \n",
    "                                    max_attempts = max_attempts, \n",
    "                                    max_iters = max_iters,  \n",
    "                                    curve = True, \n",
    "                                    random_state = 1\n",
    "                                   )"
   ]
  },
  {
   "cell_type": "code",
   "execution_count": 159,
   "metadata": {},
   "outputs": [
    {
     "name": "stdout",
     "output_type": "stream",
     "text": [
      "[0 1 0 1]\n",
      "11.0\n",
      "100\n"
     ]
    }
   ],
   "source": [
    "print(state)\n",
    "print(fitness)\n",
    "print(len(curve))"
   ]
  },
  {
   "cell_type": "code",
   "execution_count": null,
   "metadata": {},
   "outputs": [],
   "source": []
  },
  {
   "cell_type": "code",
   "execution_count": null,
   "metadata": {},
   "outputs": [],
   "source": []
  },
  {
   "cell_type": "code",
   "execution_count": 160,
   "metadata": {
    "scrolled": true
   },
   "outputs": [
    {
     "name": "stdout",
     "output_type": "stream",
     "text": [
      "starting length  4\n",
      "7.0\n",
      "starting length  6\n",
      "18.0\n",
      "starting length  8\n",
      "32.0\n",
      "starting length  16\n",
      "115.0\n",
      "starting length  32\n",
      "466.0\n"
     ]
    }
   ],
   "source": [
    "population_size = 100\n",
    "max_attempts = 100\n",
    "max_iters = 100\n",
    "keep_pct = 0.3\n",
    "\n",
    "\n",
    "\n",
    "fits = []\n",
    "times = []\n",
    "iterations = []\n",
    "curves = []\n",
    "restarts = [5, 5, 5, 5, 5, 5]\n",
    "i = 0\n",
    "for problem in problem_sets:\n",
    "    start_time = time.time()\n",
    "    values, weights = problem\n",
    "    length = len(weights)\n",
    "    print(\"starting length \", length)\n",
    "    fitness_fn = mlrose.Knapsack(weights, values, max_weight_pct)\n",
    "    problem = mlrose.DiscreteOpt(length =length, \n",
    "                                 fitness_fn = fitness_fn, \n",
    "                                )\n",
    "    state,fitness, curve = mlrose.mimic(problem, \n",
    "                                    pop_size = population_size, \n",
    "                                    keep_pct = keep_pct, \n",
    "                                    max_attempts = max_attempts, \n",
    "                                    max_iters = max_iters,  \n",
    "                                    curve = True, \n",
    "                                    random_state = 1\n",
    "                                   )\n",
    "    print(fitness)\n",
    "   \n",
    "    time_elapsed = time.time() - start_time\n",
    "    fits.append(fitness)\n",
    "    times.append(time_elapsed)\n",
    "    iterations.append(len(curve))\n",
    "    curves.append(curve)\n",
    "    i+=1                             \n",
    "                        "
   ]
  },
  {
   "cell_type": "code",
   "execution_count": 161,
   "metadata": {},
   "outputs": [
    {
     "name": "stdout",
     "output_type": "stream",
     "text": [
      "[4, 6, 8, 16, 32]\n",
      "[7.0, 18.0, 32.0, 115.0, 466.0]\n",
      "[0.7118840217590332, 1.3730897903442383, 2.2590558528900146, 8.350223064422607, 33.882548809051514]\n",
      "[100, 100, 100, 100, 100]\n"
     ]
    }
   ],
   "source": [
    "print(lengths)\n",
    "print(fits)\n",
    "print(times)\n",
    "print(iterations)"
   ]
  },
  {
   "cell_type": "code",
   "execution_count": 162,
   "metadata": {},
   "outputs": [],
   "source": [
    "results['MIMIC']['fits'] = fits\n",
    "results['MIMIC']['fit_curves'] = curves\n",
    "results['MIMIC']['iterations'] = iterations\n",
    "results['MIMIC']['times'] = times\n",
    "results['MIMIC']['lengths'] = lengths"
   ]
  },
  {
   "cell_type": "markdown",
   "metadata": {},
   "source": [
    "# Analysis"
   ]
  },
  {
   "cell_type": "code",
   "execution_count": null,
   "metadata": {},
   "outputs": [],
   "source": []
  },
  {
   "cell_type": "code",
   "execution_count": 164,
   "metadata": {},
   "outputs": [
    {
     "name": "stdout",
     "output_type": "stream",
     "text": [
      "[4, 6, 8, 16, 32]\n"
     ]
    },
    {
     "data": {
      "image/png": "[encoded data removed]",
      "text/plain": [
       "<Figure size 432x288 with 1 Axes>"
      ]
     },
     "metadata": {
      "needs_background": "light"
     },
     "output_type": "display_data"
    }
   ],
   "source": [
    "print(results['SA']['lengths'])\n",
    "\n",
    "plt.plot(results['r_hill']['lengths'],results['r_hill']['times'], label=\"r_hill\")\n",
    "plt.plot(results['SA']['lengths'],results['SA']['times'], label=\"SA\")\n",
    "plt.plot(results['GA']['lengths'],results['GA']['times'], label=\"GA\")\n",
    "plt.plot(results['MIMIC']['lengths'],results['MIMIC']['times'], label=\"MIMIC\")\n",
    "plt.xlabel ('Problem Size(n queens, n*n grid)')\n",
    "plt.ylabel ('Time/Sec')\n",
    "plt.legend()\n",
    "plt.title ('N Queens Time/Problem Complexity')\n",
    "plt.show()"
   ]
  },
  {
   "cell_type": "markdown",
   "metadata": {},
   "source": [
    "# Finding Best Fit"
   ]
  },
  {
   "cell_type": "code",
   "execution_count": null,
   "metadata": {},
   "outputs": [],
   "source": []
  },
  {
   "cell_type": "code",
   "execution_count": null,
   "metadata": {},
   "outputs": [],
   "source": []
  },
  {
   "cell_type": "code",
   "execution_count": 168,
   "metadata": {},
   "outputs": [
    {
     "data": {
      "image/png": "[encoded data removed]",
      "text/plain": [
       "<Figure size 432x288 with 1 Axes>"
      ]
     },
     "metadata": {
      "needs_background": "light"
     },
     "output_type": "display_data"
    }
   ],
   "source": [
    "plt.bar(\"r_hill\", results['r_hill']['fits'][4], color='green')\n",
    "plt.bar(\"SA\", results['SA']['fits'][4], color='green')\n",
    "plt.bar(\"GA\", results['GA']['fits'][4], color='green')\n",
    "plt.bar(\"MIMIC\", results['MIMIC']['fits'][4], color='green')\n",
    "plt.xlabel(\"Energy Source\")\n",
    "plt.ylabel(\"Energy Output (GJ)\")\n",
    "plt.title(\"Best fit on 32 obj knapsack\")\n",
    "plt.show()"
   ]
  },
  {
   "cell_type": "code",
   "execution_count": null,
   "metadata": {},
   "outputs": [],
   "source": []
  },
  {
   "cell_type": "code",
   "execution_count": null,
   "metadata": {},
   "outputs": [],
   "source": []
  },
  {
   "cell_type": "markdown",
   "metadata": {},
   "source": [
    "# Traveling Salesman"
   ]
  },
  {
   "cell_type": "code",
   "execution_count": 24,
   "metadata": {},
   "outputs": [],
   "source": []
  },
  {
   "cell_type": "code",
   "execution_count": 48,
   "metadata": {},
   "outputs": [],
   "source": [
    "def tsp_generator(grid_size, num_cities):\n",
    "    coords = []\n",
    "    for i in range(num_cities):\n",
    "        x = random.randint(0, grid_size[0]-1)\n",
    "        y = random.randint(0, grid_size[1]-1)\n",
    "        coords.append((x, y))\n",
    "    return coords"
   ]
  },
  {
   "cell_type": "code",
   "execution_count": 49,
   "metadata": {},
   "outputs": [
    {
     "name": "stdout",
     "output_type": "stream",
     "text": [
      "[(5, 0), (7, 4), (1, 4), (4, 2), (6, 7), (8, 8), (7, 2), (7, 0)]\n"
     ]
    }
   ],
   "source": [
    "coords = tsp_generator((9, 9), 8)\n",
    "print(coords)"
   ]
  },
  {
   "cell_type": "code",
   "execution_count": 50,
   "metadata": {},
   "outputs": [],
   "source": [
    "fitness_coords = mlrose.TravellingSales(\n",
    "                                        coords = [\n",
    "                                                  (1, 1), (4, 2), \n",
    "                                                  (5, 2), (6, 4), \n",
    "                                                  (4, 4), (3, 6), \n",
    "                                                  (1, 5), (2, 3)\n",
    "                                                 ]\n",
    "                                        )"
   ]
  },
  {
   "cell_type": "code",
   "execution_count": 53,
   "metadata": {},
   "outputs": [],
   "source": [
    "fitness = mlrose.TSPOpt(\n",
    "                        length = 8, \n",
    "                        fitness_fn = fitness_coords, \n",
    "                        maximize=False\n",
    "                       )"
   ]
  },
  {
   "cell_type": "markdown",
   "metadata": {},
   "source": [
    "## Random Hill Climb"
   ]
  },
  {
   "cell_type": "code",
   "execution_count": 54,
   "metadata": {},
   "outputs": [],
   "source": [
    "\n"
   ]
  },
  {
   "cell_type": "code",
   "execution_count": null,
   "metadata": {},
   "outputs": [],
   "source": []
  },
  {
   "cell_type": "code",
   "execution_count": null,
   "metadata": {},
   "outputs": [],
   "source": []
  },
  {
   "cell_type": "code",
   "execution_count": 52,
   "metadata": {},
   "outputs": [
    {
     "ename": "ValueError",
     "evalue": "too many values to unpack (expected 2)",
     "output_type": "error",
     "traceback": [
      "\u001b[1;31m---------------------------------------------------------------------------\u001b[0m",
      "\u001b[1;31mValueError\u001b[0m                                Traceback (most recent call last)",
      "\u001b[1;32m<ipython-input-52-c26ba8048dd0>\u001b[0m in \u001b[0;36m<module>\u001b[1;34m\u001b[0m\n\u001b[0;32m      1\u001b[0m state, fitness = mlrose.genetic_alg(\n\u001b[0;32m      2\u001b[0m                                     \u001b[0mproblem_fit\u001b[0m\u001b[1;33m,\u001b[0m\u001b[1;33m\u001b[0m\u001b[1;33m\u001b[0m\u001b[0m\n\u001b[1;32m----> 3\u001b[1;33m                                     \u001b[0mrandom_state\u001b[0m \u001b[1;33m=\u001b[0m \u001b[1;36m13\u001b[0m\u001b[1;33m\u001b[0m\u001b[1;33m\u001b[0m\u001b[0m\n\u001b[0m\u001b[0;32m      4\u001b[0m                                    )\n\u001b[0;32m      5\u001b[0m \u001b[0mprint\u001b[0m\u001b[1;33m(\u001b[0m\u001b[0mstate\u001b[0m\u001b[1;33m)\u001b[0m\u001b[1;33m\u001b[0m\u001b[1;33m\u001b[0m\u001b[0m\n",
      "\u001b[1;31mValueError\u001b[0m: too many values to unpack (expected 2)"
     ]
    }
   ],
   "source": [
    "state, fitness = mlrose.genetic_alg(\n",
    "                                    problem_fit, \n",
    "                                    random_state = 13\n",
    "                                   )\n",
    "print(state)\n",
    "print(fitness)"
   ]
  },
  {
   "cell_type": "code",
   "execution_count": null,
   "metadata": {},
   "outputs": [],
   "source": []
  }
 ],
 "metadata": {
  "kernelspec": {
   "display_name": "Python 3",
   "language": "python",
   "name": "python3"
  },
  "language_info": {
   "codemirror_mode": {
    "name": "ipython",
    "version": 3
   },
   "file_extension": ".py",
   "mimetype": "text/x-python",
   "name": "python",
   "nbconvert_exporter": "python",
   "pygments_lexer": "ipython3",
   "version": "3.6.12"
  }
 },
 "nbformat": 4,
 "nbformat_minor": 4
}
