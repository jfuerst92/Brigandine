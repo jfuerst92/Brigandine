{
 "cells": [
  {
   "cell_type": "code",
   "execution_count": 401,
   "metadata": {},
   "outputs": [],
   "source": [
    "import numpy as np\n",
    "import mlrose_hiive as mlrose\n",
    "import random\n",
    "import time\n",
    "import matplotlib.pyplot as plt\n"
   ]
  },
  {
   "cell_type": "code",
   "execution_count": 402,
   "metadata": {},
   "outputs": [],
   "source": [
    "results = {\n",
    "    'problem': 'n_queens',\n",
    "    'r_hill': {\n",
    "        'lengths':[], \n",
    "        'fits':[],\n",
    "        'fit_curves':[],\n",
    "        'iterations': [],\n",
    "        'times': [],\n",
    "    },\n",
    "    'GA': {\n",
    "        'lengths':[],\n",
    "        'fits':[],\n",
    "        'fit_curves':[],\n",
    "        'iterations': [],\n",
    "        'times': [],\n",
    "    },\n",
    "    'SA': {\n",
    "        'lengths':[],\n",
    "        'fits':[],\n",
    "        'fit_curves':[],\n",
    "        'iterations': [],\n",
    "        'times': [],\n",
    "    },\n",
    "    'MIMIC': {\n",
    "        'lengths':[],\n",
    "        'fits':[],\n",
    "        'fit_curves':[],\n",
    "        'iterations': [],\n",
    "        'times': [],\n",
    "    },\n",
    "}"
   ]
  },
  {
   "cell_type": "markdown",
   "metadata": {},
   "source": [
    "# Problem Definitions"
   ]
  },
  {
   "cell_type": "code",
   "execution_count": 403,
   "metadata": {},
   "outputs": [],
   "source": [
    "#https://mlrose.readthedocs.io/en/stable/source/tutorial1.html\n",
    "# N-QUEENS\n",
    "queens_prob = {\n",
    "    'fitness': mlrose.Queens(),\n",
    "    'max_iters': 100,\n",
    "    'max_attempts': 20,\n",
    "    'max_val': 8,\n",
    "    'length': 8,\n",
    "    'maximize': False,\n",
    "    'restarts': 5,\n",
    "    'schedule': mlrose.GeomDecay(init_temp=10, decay=0.95, min_temp=1)\n",
    "}\n",
    "travelling_sales_prob = {\n",
    "    'fitness_coords': mlrose.TravellingSales(coords = [(1, 1), (4, 2), (5, 2), (6, 4), (4, 4), (3, 6), (1, 5), (2, 3)])\n",
    "}\n",
    "\n",
    "lengths = [4, 8, 16, 32, 64, 128]"
   ]
  },
  {
   "cell_type": "markdown",
   "metadata": {},
   "source": [
    "# N Queens Problem"
   ]
  },
  {
   "cell_type": "markdown",
   "metadata": {},
   "source": [
    "## 1.  Random hill climb"
   ]
  },
  {
   "cell_type": "code",
   "execution_count": 404,
   "metadata": {},
   "outputs": [],
   "source": [
    "#maximization fitness fn from mlrose: https://mlrose.readthedocs.io/en/stable/source/tutorial1.html\n",
    "def queens_max(state):\n",
    "    fitness_cnt = 0\n",
    "    for i in range(len(state) - 1):\n",
    "        for j in range(i + 1, len(state)):\n",
    "\n",
    "            # Check for horizontal, diagonal-up and diagonal-down attacks\n",
    "            if (state[j] != state[i]) \\\n",
    "                and (state[j] != state[i] + (j - i)) \\\n",
    "                and (state[j] != state[i] - (j - i)):\n",
    "\n",
    "                # If no attacks, then increment counter\n",
    "                fitness_cnt += 1\n",
    "\n",
    "    return fitness_cnt\n",
    "\n",
    "def print_board(state):\n",
    "    for i in range(len(state)):\n",
    "        row = []\n",
    "        for j in range(len(state)):\n",
    "\n",
    "            if state[i] == j:\n",
    "                row.append('[X]')\n",
    "            else:\n",
    "                row.append('[_]')\n",
    "        print(''.join(row))\n",
    "    "
   ]
  },
  {
   "cell_type": "code",
   "execution_count": 405,
   "metadata": {},
   "outputs": [],
   "source": [
    "\n",
    "\n",
    "\n",
    "#fitness_fn = mlrose.CustomFitness(queens_max)\n",
    "fitness_fn = mlrose.Queens()\n",
    "\n",
    "#p = queens_prob\n",
    "\n",
    "length = 8\n",
    "maximize = False\n",
    "max_val = 8\n",
    "max_iters = 200\n",
    "restarts = 5\n",
    "problem = mlrose.DiscreteOpt(length =length, \n",
    "                             fitness_fn = fitness_fn, \n",
    "                             maximize = maximize, \n",
    "                             max_val = max_val\n",
    "                            )\n"
   ]
  },
  {
   "cell_type": "code",
   "execution_count": 406,
   "metadata": {},
   "outputs": [],
   "source": [
    "state, fitness, curve = mlrose.random_hill_climb(problem, \n",
    "                                                 max_attempts = max_attempts, \n",
    "                                                 max_iters=max_iters, \n",
    "                                                 restarts=restarts, \n",
    "                                                 curve=True, \n",
    "                                                 random_state=13\n",
    "                                                )"
   ]
  },
  {
   "cell_type": "code",
   "execution_count": 407,
   "metadata": {},
   "outputs": [
    {
     "name": "stdout",
     "output_type": "stream",
     "text": [
      "[2 0 6 4 7 1 3 5]\n",
      "0.0\n",
      "179\n",
      "[_][_][X][_][_][_][_][_]\n",
      "[X][_][_][_][_][_][_][_]\n",
      "[_][_][_][_][_][_][X][_]\n",
      "[_][_][_][_][X][_][_][_]\n",
      "[_][_][_][_][_][_][_][X]\n",
      "[_][X][_][_][_][_][_][_]\n",
      "[_][_][_][X][_][_][_][_]\n",
      "[_][_][_][_][_][X][_][_]\n"
     ]
    }
   ],
   "source": [
    "#results['r_hill']['fit_curves'].append(curve)\n",
    "print(state)\n",
    "print(fitness)\n",
    "print(len(curve))\n",
    "print_board(state)"
   ]
  },
  {
   "cell_type": "markdown",
   "metadata": {},
   "source": [
    "###  1.1 Hyperparam analysis"
   ]
  },
  {
   "cell_type": "markdown",
   "metadata": {},
   "source": [
    "#### 1.1.1 problem complexity"
   ]
  },
  {
   "cell_type": "code",
   "execution_count": 408,
   "metadata": {},
   "outputs": [
    {
     "name": "stdout",
     "output_type": "stream",
     "text": [
      "starting length  4\n",
      "<class 'int'>\n",
      "0.0\n",
      "starting length  8\n",
      "<class 'int'>\n",
      "0.0\n",
      "starting length  16\n",
      "<class 'int'>\n",
      "1.0\n",
      "starting length  32\n",
      "<class 'int'>\n",
      "5.0\n",
      "starting length  64\n",
      "<class 'int'>\n",
      "15.0\n"
     ]
    }
   ],
   "source": [
    "#length = 8\n",
    "maximize = False\n",
    "#max_val = 8\n",
    "max_iters = 10000\n",
    "restarts = 5\n",
    "\n",
    "fits = []\n",
    "times = []\n",
    "iterations = []\n",
    "curves = []\n",
    "restarts = [5, 5, 5, 5, 5, 5]\n",
    "i = 0\n",
    "for length in lengths:\n",
    "    print(\"starting length \", length)\n",
    "    start_time = time.time()\n",
    "\n",
    "    max_val = length\n",
    "    print(type(max_val))\n",
    "    problem = mlrose.DiscreteOpt(length =length, \n",
    "                                 fitness_fn = fitness_fn, \n",
    "                                 maximize = maximize, \n",
    "                                 max_val = max_val\n",
    "                                )\n",
    "    state, fitness, curve = mlrose.random_hill_climb(problem, \n",
    "                                                     max_attempts = max_attempts, \n",
    "                                                     max_iters=max_iters, \n",
    "                                                     restarts=restarts[i], \n",
    "                                                     curve=True, \n",
    "                                                     random_state=13\n",
    "                                                    )\n",
    "    print(fitness)\n",
    "   \n",
    "    time_elapsed = time.time() - start_time\n",
    "    fits.append(fitness)\n",
    "    times.append(time_elapsed)\n",
    "    iterations.append(len(curve))\n",
    "    curves.append(curve)\n",
    "    i+=1"
   ]
  },
  {
   "cell_type": "code",
   "execution_count": 409,
   "metadata": {},
   "outputs": [
    {
     "name": "stdout",
     "output_type": "stream",
     "text": [
      "[4, 8, 16, 32, 64]\n",
      "[0.0, 0.0, 1.0, 5.0, 15.0]\n",
      "[0.09275650978088379, 0.19050049781799316, 0.5893781185150146, 1.3424086570739746, 4.369363307952881]\n",
      "[139, 179, 301, 446, 624]\n"
     ]
    }
   ],
   "source": [
    "print(lengths)\n",
    "print(fits)\n",
    "print(times)\n",
    "print(iterations)"
   ]
  },
  {
   "cell_type": "code",
   "execution_count": 410,
   "metadata": {},
   "outputs": [
    {
     "data": {
      "image/png": "[encoded data removed]",
      "text/plain": [
       "<Figure size 432x288 with 1 Axes>"
      ]
     },
     "metadata": {
      "needs_background": "light"
     },
     "output_type": "display_data"
    }
   ],
   "source": [
    "plt.plot(iterations,times)\n",
    "plt.show()"
   ]
  },
  {
   "cell_type": "code",
   "execution_count": 411,
   "metadata": {},
   "outputs": [],
   "source": [
    "results['r_hill']['fits'] = fits\n",
    "results['r_hill']['fit_curves'] = curves\n",
    "results['r_hill']['iterations'] = iterations\n",
    "results['r_hill']['times'] = times\n",
    "results['r_hill']['lengths'] = lengths\n"
   ]
  },
  {
   "cell_type": "code",
   "execution_count": null,
   "metadata": {},
   "outputs": [],
   "source": []
  },
  {
   "cell_type": "markdown",
   "metadata": {},
   "source": [
    "## 2. Genetic Algorithm"
   ]
  },
  {
   "cell_type": "code",
   "execution_count": 412,
   "metadata": {},
   "outputs": [],
   "source": [
    "population_size = 100\n",
    "mutation_prob = 0.5\n",
    "max_attempts = 100\n",
    "max_iters = 200\n",
    "\n",
    "length = 8\n",
    "max_val = 8\n",
    "\n",
    "problem = mlrose.DiscreteOpt(length =length, \n",
    "                             fitness_fn = fitness_fn, \n",
    "                             maximize = maximize, \n",
    "                             max_val = max_val\n",
    "                            )\n",
    "state, fitness, curve = mlrose.genetic_alg(problem, \n",
    "                                           pop_size=population_size, \n",
    "                                           mutation_prob=mutation_prob, \n",
    "                                           max_attempts=max_attempts, \n",
    "                                           max_iters=max_iters, \n",
    "                                           curve=True, \n",
    "                                           random_state=13\n",
    "                                          )"
   ]
  },
  {
   "cell_type": "code",
   "execution_count": 413,
   "metadata": {},
   "outputs": [
    {
     "name": "stdout",
     "output_type": "stream",
     "text": [
      "[4 2 4 6 1 3 5 7]\n",
      "1.0\n",
      "[_][_][_][_][X][_][_][_]\n",
      "[_][_][X][_][_][_][_][_]\n",
      "[_][_][_][_][X][_][_][_]\n",
      "[_][_][_][_][_][_][X][_]\n",
      "[_][X][_][_][_][_][_][_]\n",
      "[_][_][_][X][_][_][_][_]\n",
      "[_][_][_][_][_][X][_][_]\n",
      "[_][_][_][_][_][_][_][X]\n"
     ]
    }
   ],
   "source": [
    "print(state)\n",
    "print(fitness)\n",
    "print_board(state)"
   ]
  },
  {
   "cell_type": "markdown",
   "metadata": {},
   "source": [
    "## 2.1 Hyperparam Analysis"
   ]
  },
  {
   "cell_type": "code",
   "execution_count": null,
   "metadata": {},
   "outputs": [],
   "source": []
  },
  {
   "cell_type": "code",
   "execution_count": 414,
   "metadata": {},
   "outputs": [
    {
     "name": "stdout",
     "output_type": "stream",
     "text": [
      "starting length  4\n",
      "<class 'int'>\n",
      "0.0\n",
      "starting length  8\n",
      "<class 'int'>\n",
      "1.0\n",
      "starting length  16\n",
      "<class 'int'>\n",
      "7.0\n",
      "starting length  32\n",
      "<class 'int'>\n",
      "17.0\n",
      "starting length  64\n",
      "<class 'int'>\n",
      "32.0\n"
     ]
    }
   ],
   "source": [
    "population_size = 100\n",
    "mutation_prob = 0.5\n",
    "max_attempts = 100\n",
    "max_iters = 10000\n",
    "\n",
    "fits = []\n",
    "times = []\n",
    "iterations = []\n",
    "curves = []\n",
    "restarts = [5, 5, 5, 5, 5, 5]\n",
    "\n",
    "i = 0\n",
    "for length in lengths:\n",
    "    print(\"starting length \", length)\n",
    "    start_time = time.time()\n",
    "\n",
    "    max_val = length\n",
    "    print(type(max_val))\n",
    "    problem = mlrose.DiscreteOpt(length =length, \n",
    "                                 fitness_fn = fitness_fn, \n",
    "                                 maximize = maximize, \n",
    "                                 max_val = max_val\n",
    "                                )\n",
    "    state, fitness, curve = mlrose.genetic_alg(problem, \n",
    "                                               max_iters=max_iters, \n",
    "                                               curve=True, \n",
    "                                               random_state=13\n",
    "                                              )\n",
    "    print(fitness)\n",
    "   \n",
    "    time_elapsed = time.time() - start_time\n",
    "    fits.append(fitness)\n",
    "    times.append(time_elapsed)\n",
    "    iterations.append(len(curve))\n",
    "    curves.append(curve)\n",
    "    i+=1"
   ]
  },
  {
   "cell_type": "code",
   "execution_count": 415,
   "metadata": {},
   "outputs": [
    {
     "name": "stdout",
     "output_type": "stream",
     "text": [
      "[4, 8, 16, 32, 64]\n",
      "[0.0, 1.0, 7.0, 17.0, 32.0]\n",
      "[0.40192604064941406, 0.8088366985321045, 0.9714021682739258, 2.7207231521606445, 8.682826042175293]\n",
      "[11, 14, 11, 15, 30]\n"
     ]
    }
   ],
   "source": [
    "print(lengths)\n",
    "print(fits)\n",
    "print(times)\n",
    "print(iterations)"
   ]
  },
  {
   "cell_type": "code",
   "execution_count": 416,
   "metadata": {},
   "outputs": [],
   "source": [
    "results['GA']['fits'] = fits\n",
    "results['GA']['fit_curves'] = curves\n",
    "results['GA']['iterations'] = iterations\n",
    "results['GA']['times'] = times\n",
    "results['GA']['lengths'] = lengths\n"
   ]
  },
  {
   "cell_type": "markdown",
   "metadata": {},
   "source": [
    "## Simulated Annealing"
   ]
  },
  {
   "cell_type": "code",
   "execution_count": 417,
   "metadata": {},
   "outputs": [],
   "source": [
    "mutation_prob = 0.2\n",
    "max_attempts = 100\n",
    "max_iters = 10000\n",
    "\n",
    "length = 8\n",
    "max_val = 8\n",
    "\n",
    "problem = mlrose.DiscreteOpt(length =length, \n",
    "                             fitness_fn = fitness_fn, \n",
    "                             maximize = maximize, \n",
    "                             max_val = max_val\n",
    "                            )\n",
    "schedule = mlrose.GeomDecay(init_temp=10, decay=0.95, min_temp=0.001)\n",
    "state, fitness, curve = mlrose.simulated_annealing(problem, \n",
    "                                                   schedule=schedule,\n",
    "                                                   max_attempts=max_attempts, \n",
    "                                                   max_iters=max_iters, \n",
    "                                                   curve=True, \n",
    "                                                   random_state=13\n",
    "                                                  )"
   ]
  },
  {
   "cell_type": "code",
   "execution_count": 418,
   "metadata": {},
   "outputs": [
    {
     "name": "stdout",
     "output_type": "stream",
     "text": [
      "[0 6 4 7 1 3 5 2]\n",
      "0.0\n",
      "1409\n",
      "[X][_][_][_][_][_][_][_]\n",
      "[_][_][_][_][_][_][X][_]\n",
      "[_][_][_][_][X][_][_][_]\n",
      "[_][_][_][_][_][_][_][X]\n",
      "[_][X][_][_][_][_][_][_]\n",
      "[_][_][_][X][_][_][_][_]\n",
      "[_][_][_][_][_][X][_][_]\n",
      "[_][_][X][_][_][_][_][_]\n"
     ]
    }
   ],
   "source": [
    "print(state)\n",
    "print(fitness)\n",
    "print(len(curve))\n",
    "print_board(state)"
   ]
  },
  {
   "cell_type": "code",
   "execution_count": null,
   "metadata": {},
   "outputs": [],
   "source": []
  },
  {
   "cell_type": "code",
   "execution_count": null,
   "metadata": {},
   "outputs": [],
   "source": []
  },
  {
   "cell_type": "code",
   "execution_count": 419,
   "metadata": {},
   "outputs": [
    {
     "name": "stdout",
     "output_type": "stream",
     "text": [
      "starting length  4\n",
      "<class 'int'>\n",
      "0.0\n",
      "starting length  8\n",
      "<class 'int'>\n",
      "0.0\n",
      "starting length  16\n",
      "<class 'int'>\n",
      "2.0\n",
      "starting length  32\n",
      "<class 'int'>\n",
      "5.0\n",
      "starting length  64\n",
      "<class 'int'>\n",
      "7.0\n"
     ]
    }
   ],
   "source": [
    "\n",
    "\n",
    "fits = []\n",
    "times = []\n",
    "iterations = []\n",
    "curves = []\n",
    "restarts = [5, 5, 5, 5, 5, 5]\n",
    "i = 0\n",
    "for length in lengths:\n",
    "    print(\"starting length \", length)\n",
    "    start_time = time.time()\n",
    "\n",
    "    max_val = length\n",
    "    print(type(max_val))\n",
    "    problem = mlrose.DiscreteOpt(length =length, \n",
    "                                 fitness_fn = fitness_fn, \n",
    "                                 maximize = maximize, \n",
    "                                 max_val = max_val\n",
    "                                )\n",
    "    schedule = mlrose.GeomDecay(init_temp=10, decay=0.95, min_temp=0.001)\n",
    "    state, fitness, curve = mlrose.simulated_annealing(problem, \n",
    "                                                       schedule=schedule,\n",
    "                                                       max_attempts=max_attempts, \n",
    "                                                       max_iters=max_iters, \n",
    "                                                       curve=True, \n",
    "                                                       random_state=13\n",
    "                                                      )\n",
    "    print(fitness)\n",
    "   \n",
    "    time_elapsed = time.time() - start_time\n",
    "    fits.append(fitness)\n",
    "    times.append(time_elapsed)\n",
    "    iterations.append(len(curve))\n",
    "    curves.append(curve)\n",
    "    i+=1"
   ]
  },
  {
   "cell_type": "code",
   "execution_count": 420,
   "metadata": {},
   "outputs": [
    {
     "name": "stdout",
     "output_type": "stream",
     "text": [
      "[4, 8, 16, 32, 64]\n",
      "[0.0, 0.0, 2.0, 5.0, 7.0]\n",
      "[0.03194570541381836, 0.37898850440979004, 0.35202622413635254, 0.4278860092163086, 6.251298189163208]\n",
      "[159, 1409, 843, 564, 4196]\n"
     ]
    }
   ],
   "source": [
    "print(lengths)\n",
    "print(fits)\n",
    "print(times)\n",
    "print(iterations)"
   ]
  },
  {
   "cell_type": "code",
   "execution_count": 421,
   "metadata": {},
   "outputs": [],
   "source": [
    "results['SA']['fits'] = fits\n",
    "results['SA']['fit_curves'] = curves\n",
    "results['SA']['iterations'] = iterations\n",
    "results['SA']['times'] = times\n",
    "results['SA']['lengths'] = lengths"
   ]
  },
  {
   "cell_type": "code",
   "execution_count": null,
   "metadata": {},
   "outputs": [],
   "source": []
  },
  {
   "cell_type": "markdown",
   "metadata": {},
   "source": [
    "## MIMIC"
   ]
  },
  {
   "cell_type": "code",
   "execution_count": 422,
   "metadata": {},
   "outputs": [],
   "source": [
    "population_size = 100\n",
    "max_attempts = 100\n",
    "max_iters = 100\n",
    "keep_pct = 0.3\n",
    "\n",
    "length = 8\n",
    "max_val = 8\n",
    "\n",
    "problem = mlrose.DiscreteOpt(length =length, \n",
    "                             fitness_fn = fitness_fn, \n",
    "                             maximize = maximize, \n",
    "                             max_val = max_val\n",
    "                            )\n",
    "state,fitness, curve = mlrose.mimic(problem, \n",
    "                                    pop_size = population_size, \n",
    "                                    keep_pct = keep_pct, \n",
    "                                    max_attempts = max_attempts, \n",
    "                                    max_iters = max_iters,  \n",
    "                                    curve = True, \n",
    "                                    random_state = 1\n",
    "                                   )"
   ]
  },
  {
   "cell_type": "code",
   "execution_count": 423,
   "metadata": {},
   "outputs": [
    {
     "name": "stdout",
     "output_type": "stream",
     "text": [
      "[1 5 7 1 6 0 6 4]\n",
      "2.0\n",
      "100\n",
      "[_][X][_][_][_][_][_][_]\n",
      "[_][_][_][_][_][X][_][_]\n",
      "[_][_][_][_][_][_][_][X]\n",
      "[_][X][_][_][_][_][_][_]\n",
      "[_][_][_][_][_][_][X][_]\n",
      "[X][_][_][_][_][_][_][_]\n",
      "[_][_][_][_][_][_][X][_]\n",
      "[_][_][_][_][X][_][_][_]\n"
     ]
    }
   ],
   "source": [
    "print(state)\n",
    "print(fitness)\n",
    "print(len(curve))\n",
    "print_board(state)"
   ]
  },
  {
   "cell_type": "code",
   "execution_count": null,
   "metadata": {},
   "outputs": [],
   "source": []
  },
  {
   "cell_type": "code",
   "execution_count": null,
   "metadata": {},
   "outputs": [],
   "source": []
  },
  {
   "cell_type": "code",
   "execution_count": 424,
   "metadata": {},
   "outputs": [
    {
     "name": "stdout",
     "output_type": "stream",
     "text": [
      "starting length  4\n",
      "<class 'int'>\n",
      "0.0\n",
      "starting length  8\n",
      "<class 'int'>\n",
      "2.0\n",
      "starting length  16\n",
      "<class 'int'>\n",
      "4.0\n",
      "starting length  32\n",
      "<class 'int'>\n",
      "18.0\n",
      "starting length  64\n",
      "<class 'int'>\n",
      "50.0\n"
     ]
    }
   ],
   "source": [
    "population_size = 100\n",
    "max_attempts = 100\n",
    "max_iters = 100\n",
    "keep_pct = 0.3\n",
    "\n",
    "\n",
    "\n",
    "fits = []\n",
    "times = []\n",
    "iterations = []\n",
    "curves = []\n",
    "restarts = [5, 5, 5, 5, 5, 5]\n",
    "i = 0\n",
    "for length in lengths:\n",
    "    print(\"starting length \", length)\n",
    "    start_time = time.time()\n",
    "\n",
    "    max_val = length\n",
    "    print(type(max_val))\n",
    "    problem = mlrose.DiscreteOpt(length =length, \n",
    "                                 fitness_fn = fitness_fn, \n",
    "                                 maximize = maximize, \n",
    "                                 max_val = max_val\n",
    "                                )\n",
    "    state,fitness, curve = mlrose.mimic(problem, \n",
    "                                    pop_size = population_size, \n",
    "                                    keep_pct = keep_pct, \n",
    "                                    max_attempts = max_attempts, \n",
    "                                    max_iters = max_iters,  \n",
    "                                    curve = True, \n",
    "                                    random_state = 1\n",
    "                                   )\n",
    "    print(fitness)\n",
    "   \n",
    "    time_elapsed = time.time() - start_time\n",
    "    fits.append(fitness)\n",
    "    times.append(time_elapsed)\n",
    "    iterations.append(len(curve))\n",
    "    curves.append(curve)\n",
    "    i+=1                             \n",
    "                        "
   ]
  },
  {
   "cell_type": "code",
   "execution_count": 425,
   "metadata": {},
   "outputs": [
    {
     "name": "stdout",
     "output_type": "stream",
     "text": [
      "[4, 8, 16, 32, 64]\n",
      "[0.0, 2.0, 4.0, 18.0, 50.0]\n",
      "[1.7782440185546875, 4.226696491241455, 13.249565839767456, 45.529271841049194, 167.84208607673645]\n",
      "[100, 100, 100, 100, 100]\n"
     ]
    }
   ],
   "source": [
    "print(lengths)\n",
    "print(fits)\n",
    "print(times)\n",
    "print(iterations)"
   ]
  },
  {
   "cell_type": "code",
   "execution_count": 426,
   "metadata": {},
   "outputs": [],
   "source": [
    "results['MIMIC']['fits'] = fits\n",
    "results['MIMIC']['fit_curves'] = curves\n",
    "results['MIMIC']['iterations'] = iterations\n",
    "results['MIMIC']['times'] = times\n",
    "results['MIMIC']['lengths'] = lengths"
   ]
  },
  {
   "cell_type": "markdown",
   "metadata": {},
   "source": [
    "# Analysis"
   ]
  },
  {
   "cell_type": "code",
   "execution_count": 359,
   "metadata": {},
   "outputs": [
    {
     "data": {
      "text/plain": [
       "\"\\nresults = {\\n    'problem': 'n_queens',\\n    'r_hill': {\\n        'lengths':[], \\n        'fits':[],\\n        'fit_curves':[],\\n        'iterations': [],\\n        'times': [],\\n    },\\n    'GA': {\\n        'lengths':[],\\n        'fits':[],\\n        'fit_curves':[],\\n        'iterations': [],\\n        'times': [],\\n    },\\n    'SA': {\\n        'lengths':[],\\n        'fits':[],\\n        'fit_curves':[],\\n        'iterations': [],\\n        'times': [],\\n    },\\n    'MIMIC': {\\n        'lengths':[],\\n        'fits':[],\\n        'fit_curves':[],\\n        'iterations': [],\\n        'times': [],\\n    },\\n}\\n\""
      ]
     },
     "execution_count": 359,
     "metadata": {},
     "output_type": "execute_result"
    }
   ],
   "source": [
    "\"\"\"\n",
    "results = {\n",
    "    'problem': 'n_queens',\n",
    "    'r_hill': {\n",
    "        'lengths':[], \n",
    "        'fits':[],\n",
    "        'fit_curves':[],\n",
    "        'iterations': [],\n",
    "        'times': [],\n",
    "    },\n",
    "    'GA': {\n",
    "        'lengths':[],\n",
    "        'fits':[],\n",
    "        'fit_curves':[],\n",
    "        'iterations': [],\n",
    "        'times': [],\n",
    "    },\n",
    "    'SA': {\n",
    "        'lengths':[],\n",
    "        'fits':[],\n",
    "        'fit_curves':[],\n",
    "        'iterations': [],\n",
    "        'times': [],\n",
    "    },\n",
    "    'MIMIC': {\n",
    "        'lengths':[],\n",
    "        'fits':[],\n",
    "        'fit_curves':[],\n",
    "        'iterations': [],\n",
    "        'times': [],\n",
    "    },\n",
    "}\n",
    "\"\"\""
   ]
  },
  {
   "cell_type": "code",
   "execution_count": 427,
   "metadata": {},
   "outputs": [
    {
     "name": "stdout",
     "output_type": "stream",
     "text": [
      "[4, 8, 16, 32, 64]\n"
     ]
    },
    {
     "data": {
      "image/png": "[encoded data removed]",
      "text/plain": [
       "<Figure size 432x288 with 1 Axes>"
      ]
     },
     "metadata": {
      "needs_background": "light"
     },
     "output_type": "display_data"
    }
   ],
   "source": [
    "print(results['SA']['lengths'])\n",
    "\n",
    "plt.plot(results['r_hill']['lengths'],results['r_hill']['times'], label=\"r_hill\")\n",
    "plt.plot(results['SA']['lengths'],results['SA']['times'], label=\"SA\")\n",
    "plt.plot(results['GA']['lengths'],results['GA']['times'], label=\"GA\")\n",
    "plt.plot(results['MIMIC']['lengths'],results['MIMIC']['times'], label=\"MIMIC\")\n",
    "plt.xlabel ('Problem Size(n queens, n*n grid)')\n",
    "plt.ylabel ('Time/Sec')\n",
    "plt.legend()\n",
    "plt.title ('N Queens Time/Problem Complexity')\n",
    "plt.show()"
   ]
  },
  {
   "cell_type": "code",
   "execution_count": null,
   "metadata": {},
   "outputs": [],
   "source": []
  },
  {
   "cell_type": "code",
   "execution_count": null,
   "metadata": {},
   "outputs": [],
   "source": []
  },
  {
   "cell_type": "code",
   "execution_count": null,
   "metadata": {},
   "outputs": [],
   "source": []
  },
  {
   "cell_type": "markdown",
   "metadata": {},
   "source": [
    "# Traveling Salesman"
   ]
  },
  {
   "cell_type": "code",
   "execution_count": 24,
   "metadata": {},
   "outputs": [],
   "source": []
  },
  {
   "cell_type": "code",
   "execution_count": 48,
   "metadata": {},
   "outputs": [],
   "source": [
    "def tsp_generator(grid_size, num_cities):\n",
    "    coords = []\n",
    "    for i in range(num_cities):\n",
    "        x = random.randint(0, grid_size[0]-1)\n",
    "        y = random.randint(0, grid_size[1]-1)\n",
    "        coords.append((x, y))\n",
    "    return coords"
   ]
  },
  {
   "cell_type": "code",
   "execution_count": 49,
   "metadata": {},
   "outputs": [
    {
     "name": "stdout",
     "output_type": "stream",
     "text": [
      "[(5, 0), (7, 4), (1, 4), (4, 2), (6, 7), (8, 8), (7, 2), (7, 0)]\n"
     ]
    }
   ],
   "source": [
    "coords = tsp_generator((9, 9), 8)\n",
    "print(coords)"
   ]
  },
  {
   "cell_type": "code",
   "execution_count": 50,
   "metadata": {},
   "outputs": [],
   "source": [
    "fitness_coords = mlrose.TravellingSales(\n",
    "                                        coords = [\n",
    "                                                  (1, 1), (4, 2), \n",
    "                                                  (5, 2), (6, 4), \n",
    "                                                  (4, 4), (3, 6), \n",
    "                                                  (1, 5), (2, 3)\n",
    "                                                 ]\n",
    "                                        )"
   ]
  },
  {
   "cell_type": "code",
   "execution_count": 53,
   "metadata": {},
   "outputs": [],
   "source": [
    "fitness = mlrose.TSPOpt(\n",
    "                        length = 8, \n",
    "                        fitness_fn = fitness_coords, \n",
    "                        maximize=False\n",
    "                       )"
   ]
  },
  {
   "cell_type": "markdown",
   "metadata": {},
   "source": [
    "## Random Hill Climb"
   ]
  },
  {
   "cell_type": "code",
   "execution_count": 54,
   "metadata": {},
   "outputs": [],
   "source": [
    "\n",
    "length = 8\n",
    "maximize = False\n",
    "max_val = 8\n",
    "max_attempts = 20\n",
    "max_iters = 100\n",
    "restarts = 5\n",
    "problem = mlrose.DiscreteOpt(length =length, \n",
    "                             fitness_fn = fitness, \n",
    "                             maximize = maximize, \n",
    "                             max_val = max_val\n",
    "                            )"
   ]
  },
  {
   "cell_type": "code",
   "execution_count": 55,
   "metadata": {},
   "outputs": [
    {
     "ename": "AttributeError",
     "evalue": "'TSPOpt' object has no attribute 'evaluate'",
     "output_type": "error",
     "traceback": [
      "\u001b[1;31m---------------------------------------------------------------------------\u001b[0m",
      "\u001b[1;31mAttributeError\u001b[0m                            Traceback (most recent call last)",
      "\u001b[1;32m<ipython-input-55-679311092043>\u001b[0m in \u001b[0;36m<module>\u001b[1;34m\u001b[0m\n\u001b[0;32m      4\u001b[0m                                                  \u001b[0mrestarts\u001b[0m\u001b[1;33m=\u001b[0m\u001b[0mrestarts\u001b[0m\u001b[1;33m,\u001b[0m\u001b[1;33m\u001b[0m\u001b[1;33m\u001b[0m\u001b[0m\n\u001b[0;32m      5\u001b[0m                                                  \u001b[0mcurve\u001b[0m\u001b[1;33m=\u001b[0m\u001b[1;32mTrue\u001b[0m\u001b[1;33m,\u001b[0m\u001b[1;33m\u001b[0m\u001b[1;33m\u001b[0m\u001b[0m\n\u001b[1;32m----> 6\u001b[1;33m                                                  \u001b[0mrandom_state\u001b[0m\u001b[1;33m=\u001b[0m\u001b[1;36m13\u001b[0m\u001b[1;33m\u001b[0m\u001b[1;33m\u001b[0m\u001b[0m\n\u001b[0m\u001b[0;32m      7\u001b[0m                                                 )\n",
      "\u001b[1;32mc:\\users\\fuers\\anaconda3\\envs\\ml\\lib\\site-packages\\mlrose_hiive\\algorithms\\rhc.py\u001b[0m in \u001b[0;36mrandom_hill_climb\u001b[1;34m(problem, max_attempts, max_iters, restarts, init_state, curve, random_state, state_fitness_callback, callback_user_info)\u001b[0m\n\u001b[0;32m     88\u001b[0m         \u001b[1;31m# Initialize optimization problem and attempts counter\u001b[0m\u001b[1;33m\u001b[0m\u001b[1;33m\u001b[0m\u001b[1;33m\u001b[0m\u001b[0m\n\u001b[0;32m     89\u001b[0m         \u001b[1;32mif\u001b[0m \u001b[0minit_state\u001b[0m \u001b[1;32mis\u001b[0m \u001b[1;32mNone\u001b[0m\u001b[1;33m:\u001b[0m\u001b[1;33m\u001b[0m\u001b[1;33m\u001b[0m\u001b[0m\n\u001b[1;32m---> 90\u001b[1;33m             \u001b[0mproblem\u001b[0m\u001b[1;33m.\u001b[0m\u001b[0mreset\u001b[0m\u001b[1;33m(\u001b[0m\u001b[1;33m)\u001b[0m\u001b[1;33m\u001b[0m\u001b[1;33m\u001b[0m\u001b[0m\n\u001b[0m\u001b[0;32m     91\u001b[0m         \u001b[1;32melse\u001b[0m\u001b[1;33m:\u001b[0m\u001b[1;33m\u001b[0m\u001b[1;33m\u001b[0m\u001b[0m\n\u001b[0;32m     92\u001b[0m             \u001b[0mproblem\u001b[0m\u001b[1;33m.\u001b[0m\u001b[0mset_state\u001b[0m\u001b[1;33m(\u001b[0m\u001b[0minit_state\u001b[0m\u001b[1;33m)\u001b[0m\u001b[1;33m\u001b[0m\u001b[1;33m\u001b[0m\u001b[0m\n",
      "\u001b[1;32mc:\\users\\fuers\\anaconda3\\envs\\ml\\lib\\site-packages\\mlrose_hiive\\opt_probs\\discrete_opt.py\u001b[0m in \u001b[0;36mreset\u001b[1;34m(self)\u001b[0m\n\u001b[0;32m    397\u001b[0m         \"\"\"\n\u001b[0;32m    398\u001b[0m         \u001b[0mself\u001b[0m\u001b[1;33m.\u001b[0m\u001b[0mstate\u001b[0m \u001b[1;33m=\u001b[0m \u001b[0mself\u001b[0m\u001b[1;33m.\u001b[0m\u001b[0mrandom\u001b[0m\u001b[1;33m(\u001b[0m\u001b[1;33m)\u001b[0m\u001b[1;33m\u001b[0m\u001b[1;33m\u001b[0m\u001b[0m\n\u001b[1;32m--> 399\u001b[1;33m         \u001b[0mself\u001b[0m\u001b[1;33m.\u001b[0m\u001b[0mfitness\u001b[0m \u001b[1;33m=\u001b[0m \u001b[0mself\u001b[0m\u001b[1;33m.\u001b[0m\u001b[0meval_fitness\u001b[0m\u001b[1;33m(\u001b[0m\u001b[0mself\u001b[0m\u001b[1;33m.\u001b[0m\u001b[0mstate\u001b[0m\u001b[1;33m)\u001b[0m\u001b[1;33m\u001b[0m\u001b[1;33m\u001b[0m\u001b[0m\n\u001b[0m\u001b[0;32m    400\u001b[0m \u001b[1;33m\u001b[0m\u001b[0m\n\u001b[0;32m    401\u001b[0m     \u001b[1;32mdef\u001b[0m \u001b[0msample_pop\u001b[0m\u001b[1;33m(\u001b[0m\u001b[0mself\u001b[0m\u001b[1;33m,\u001b[0m \u001b[0msample_size\u001b[0m\u001b[1;33m)\u001b[0m\u001b[1;33m:\u001b[0m\u001b[1;33m\u001b[0m\u001b[1;33m\u001b[0m\u001b[0m\n",
      "\u001b[1;32mc:\\users\\fuers\\anaconda3\\envs\\ml\\lib\\site-packages\\mlrose_hiive\\opt_probs\\_opt_prob.py\u001b[0m in \u001b[0;36meval_fitness\u001b[1;34m(self, state)\u001b[0m\n\u001b[0;32m     92\u001b[0m             \u001b[1;32mraise\u001b[0m \u001b[0mException\u001b[0m\u001b[1;33m(\u001b[0m\u001b[1;34m\"state length must match problem length\"\u001b[0m\u001b[1;33m)\u001b[0m\u001b[1;33m\u001b[0m\u001b[1;33m\u001b[0m\u001b[0m\n\u001b[0;32m     93\u001b[0m \u001b[1;33m\u001b[0m\u001b[0m\n\u001b[1;32m---> 94\u001b[1;33m         \u001b[0mfitness\u001b[0m \u001b[1;33m=\u001b[0m \u001b[0mself\u001b[0m\u001b[1;33m.\u001b[0m\u001b[0mmaximize\u001b[0m\u001b[1;33m*\u001b[0m\u001b[0mself\u001b[0m\u001b[1;33m.\u001b[0m\u001b[0mfitness_fn\u001b[0m\u001b[1;33m.\u001b[0m\u001b[0mevaluate\u001b[0m\u001b[1;33m(\u001b[0m\u001b[0mstate\u001b[0m\u001b[1;33m)\u001b[0m\u001b[1;33m\u001b[0m\u001b[1;33m\u001b[0m\u001b[0m\n\u001b[0m\u001b[0;32m     95\u001b[0m \u001b[1;33m\u001b[0m\u001b[0m\n\u001b[0;32m     96\u001b[0m         \u001b[1;32mreturn\u001b[0m \u001b[0mfitness\u001b[0m\u001b[1;33m\u001b[0m\u001b[1;33m\u001b[0m\u001b[0m\n",
      "\u001b[1;31mAttributeError\u001b[0m: 'TSPOpt' object has no attribute 'evaluate'"
     ]
    }
   ],
   "source": [
    "state, fitness, curve = mlrose.random_hill_climb(problem, \n",
    "                                                 max_attempts = max_attempts, \n",
    "                                                 max_iters=max_iters, \n",
    "                                                 restarts=restarts, \n",
    "                                                 curve=True, \n",
    "                                                 random_state=13\n",
    "                                                )"
   ]
  },
  {
   "cell_type": "code",
   "execution_count": null,
   "metadata": {},
   "outputs": [],
   "source": []
  },
  {
   "cell_type": "code",
   "execution_count": 52,
   "metadata": {},
   "outputs": [
    {
     "ename": "ValueError",
     "evalue": "too many values to unpack (expected 2)",
     "output_type": "error",
     "traceback": [
      "\u001b[1;31m---------------------------------------------------------------------------\u001b[0m",
      "\u001b[1;31mValueError\u001b[0m                                Traceback (most recent call last)",
      "\u001b[1;32m<ipython-input-52-c26ba8048dd0>\u001b[0m in \u001b[0;36m<module>\u001b[1;34m\u001b[0m\n\u001b[0;32m      1\u001b[0m state, fitness = mlrose.genetic_alg(\n\u001b[0;32m      2\u001b[0m                                     \u001b[0mproblem_fit\u001b[0m\u001b[1;33m,\u001b[0m\u001b[1;33m\u001b[0m\u001b[1;33m\u001b[0m\u001b[0m\n\u001b[1;32m----> 3\u001b[1;33m                                     \u001b[0mrandom_state\u001b[0m \u001b[1;33m=\u001b[0m \u001b[1;36m13\u001b[0m\u001b[1;33m\u001b[0m\u001b[1;33m\u001b[0m\u001b[0m\n\u001b[0m\u001b[0;32m      4\u001b[0m                                    )\n\u001b[0;32m      5\u001b[0m \u001b[0mprint\u001b[0m\u001b[1;33m(\u001b[0m\u001b[0mstate\u001b[0m\u001b[1;33m)\u001b[0m\u001b[1;33m\u001b[0m\u001b[1;33m\u001b[0m\u001b[0m\n",
      "\u001b[1;31mValueError\u001b[0m: too many values to unpack (expected 2)"
     ]
    }
   ],
   "source": [
    "state, fitness = mlrose.genetic_alg(\n",
    "                                    problem_fit, \n",
    "                                    random_state = 13\n",
    "                                   )\n",
    "print(state)\n",
    "print(fitness)"
   ]
  },
  {
   "cell_type": "code",
   "execution_count": null,
   "metadata": {},
   "outputs": [],
   "source": []
  }
 ],
 "metadata": {
  "kernelspec": {
   "display_name": "Python 3",
   "language": "python",
   "name": "python3"
  },
  "language_info": {
   "codemirror_mode": {
    "name": "ipython",
    "version": 3
   },
   "file_extension": ".py",
   "mimetype": "text/x-python",
   "name": "python",
   "nbconvert_exporter": "python",
   "pygments_lexer": "ipython3",
   "version": "3.6.12"
  }
 },
 "nbformat": 4,
 "nbformat_minor": 4
}
