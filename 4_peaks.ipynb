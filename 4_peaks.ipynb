{
 "cells": [
  {
   "cell_type": "code",
   "execution_count": 37,
   "metadata": {},
   "outputs": [],
   "source": [
    "import numpy as np\n",
    "import mlrose_hiive as mlrose\n",
    "import random\n",
    "import time\n",
    "import matplotlib.pyplot as plt"
   ]
  },
  {
   "cell_type": "code",
   "execution_count": 38,
   "metadata": {},
   "outputs": [],
   "source": [
    "results = {\n",
    "    'problem': 'four_peaks',\n",
    "    'r_hill': {\n",
    "        'lengths':[], \n",
    "        'fits':[],\n",
    "        'fit_curves':[],\n",
    "        'iterations': [],\n",
    "        'times': [],\n",
    "    },\n",
    "    'GA': {\n",
    "        'lengths':[],\n",
    "        'fits':[],\n",
    "        'fit_curves':[],\n",
    "        'iterations': [],\n",
    "        'times': [],\n",
    "    },\n",
    "    'SA': {\n",
    "        'lengths':[],\n",
    "        'fits':[],\n",
    "        'fit_curves':[],\n",
    "        'iterations': [],\n",
    "        'times': [],\n",
    "    },\n",
    "    'MIMIC': {\n",
    "        'lengths':[],\n",
    "        'fits':[],\n",
    "        'fit_curves':[],\n",
    "        'iterations': [],\n",
    "        'times': [],\n",
    "    },\n",
    "}"
   ]
  },
  {
   "cell_type": "markdown",
   "metadata": {},
   "source": [
    "# Problem Definitions"
   ]
  },
  {
   "cell_type": "code",
   "execution_count": 28,
   "metadata": {},
   "outputs": [],
   "source": [
    "#https://mlrose.readthedocs.io/en/stable/source/tutorial1.html\n",
    "# 4_peaks\n",
    "\n",
    "lengths = [4, 8, 16, 32, 64, 128]\n",
    "fitness_fn = mlrose.FourPeaks(t_pct=0.10)\n",
    "problem = mlrose.DiscreteOpt(length=8, \n",
    "                             fitness_fn=fitness_fn, \n",
    "                             maximize=True\n",
    "                            )"
   ]
  },
  {
   "cell_type": "markdown",
   "metadata": {},
   "source": [
    "# 4 Peaks Problem"
   ]
  },
  {
   "cell_type": "markdown",
   "metadata": {},
   "source": [
    "## 1. Random Hill Climb"
   ]
  },
  {
   "cell_type": "code",
   "execution_count": 30,
   "metadata": {},
   "outputs": [
    {
     "name": "stdout",
     "output_type": "stream",
     "text": [
      "Best Fitness: 28.0, Wall time: 0.2628717999999992s\n"
     ]
    }
   ],
   "source": [
    "start = timeit.default_timer()\n",
    "best_state, best_fitness, rhc_curve = mlrose.random_hill_climb(problem, max_attempts = max_attempts, max_iters=max_iters, restarts=3, curve=True, init_state = None, random_state=1)\n",
    "end = timeit.default_timer()\n",
    "\n",
    "print(f'Best Fitness: {best_fitness}, Wall time: {end-start}s')"
   ]
  },
  {
   "cell_type": "code",
   "execution_count": 34,
   "metadata": {},
   "outputs": [
    {
     "name": "stdout",
     "output_type": "stream",
     "text": [
      "Best Fitness: 158.0, Wall time: 1.0647159000000102s\n"
     ]
    }
   ],
   "source": [
    "start = timeit.default_timer()\n",
    "schedule = mlrose.ArithDecay(init_temp=100, decay=0.95, min_temp=1)\n",
    "best_state, best_fitness, sa_curve = mlrose.simulated_annealing(problem=problem, \n",
    "                                                                schedule=schedule,\n",
    "                                                                max_attempts=100, \n",
    "                                                                max_iters=max_iters, \n",
    "                                                                curve=True, \n",
    "                                                                random_state=None)\n",
    "end = timeit.default_timer()\n",
    "\n",
    "print(f'Best Fitness: {best_fitness}, Wall time: {end-start}s')"
   ]
  },
  {
   "cell_type": "code",
   "execution_count": 35,
   "metadata": {},
   "outputs": [
    {
     "name": "stdout",
     "output_type": "stream",
     "text": [
      "Best Fitness: 145.0, Wall time: 16.007831200000055s\n"
     ]
    }
   ],
   "source": [
    "start = timeit.default_timer()\n",
    "best_state, best_fitness, ga_curve = mlrose.genetic_alg(problem=problem, pop_size=200, mutation_prob=0.3, max_attempts=100, max_iters=max_iters, curve=True, random_state=None)\n",
    "end = timeit.default_timer()\n",
    "\n",
    "print(f'Best Fitness: {best_fitness}, Wall time: {end-start}s')"
   ]
  },
  {
   "cell_type": "code",
   "execution_count": 36,
   "metadata": {},
   "outputs": [
    {
     "name": "stdout",
     "output_type": "stream",
     "text": [
      "Best Fitness: 54.0, Wall time: 142.68513600000006s\n"
     ]
    }
   ],
   "source": [
    "start = timeit.default_timer()\n",
    "best_state, best_fitness, mimic_curve = mlrose.mimic(problem, pop_size = 300, keep_pct = 0.2, max_attempts = max_attempts, \n",
    "                                                     max_iters = max_iters,  curve = True, random_state = 1)\n",
    "end = timeit.default_timer()\n",
    "\n",
    "print(f'Best Fitness: {best_fitness}, Wall time: {end-start}s')"
   ]
  },
  {
   "cell_type": "code",
   "execution_count": null,
   "metadata": {},
   "outputs": [],
   "source": []
  },
  {
   "cell_type": "code",
   "execution_count": null,
   "metadata": {},
   "outputs": [],
   "source": []
  },
  {
   "cell_type": "code",
   "execution_count": null,
   "metadata": {},
   "outputs": [],
   "source": []
  },
  {
   "cell_type": "code",
   "execution_count": null,
   "metadata": {},
   "outputs": [],
   "source": []
  },
  {
   "cell_type": "code",
   "execution_count": null,
   "metadata": {},
   "outputs": [],
   "source": []
  }
 ],
 "metadata": {
  "kernelspec": {
   "display_name": "Python 3",
   "language": "python",
   "name": "python3"
  },
  "language_info": {
   "codemirror_mode": {
    "name": "ipython",
    "version": 3
   },
   "file_extension": ".py",
   "mimetype": "text/x-python",
   "name": "python",
   "nbconvert_exporter": "python",
   "pygments_lexer": "ipython3",
   "version": "3.6.12"
  }
 },
 "nbformat": 4,
 "nbformat_minor": 2
}
