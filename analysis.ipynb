{
 "cells": [
  {
   "cell_type": "code",
   "execution_count": 26,
   "metadata": {},
   "outputs": [],
   "source": [
    "import numpy as np\n",
    "import mlrose_hiive as mlrose\n",
    "import random\n",
    "import time\n",
    "import matplotlib.pyplot as plt\n"
   ]
  },
  {
   "cell_type": "code",
   "execution_count": 27,
   "metadata": {},
   "outputs": [],
   "source": [
    "def knapsack_generator(length):\n",
    "    values = []\n",
    "    weights = []\n",
    "    for i in range(length):\n",
    "        values = random.sample(range(1, length+1), length)\n",
    "        weights = random.sample(range(1, length+1), length)\n",
    "    return values, weights\n",
    "\n",
    "def fit_iteration_test(problem, algorithm, args, plot=False, alg_name=\"\", prob_name=\"\"):\n",
    "    return algorithm(**args)\n",
    "    \n",
    "\n",
    "def time_iteration_test(iter_range, problem, algorithm, args, plot=False, alg_name=\"\", prob_name=\"\"):\n",
    "    times = []\n",
    "    for max_iters in iter_range:\n",
    "        start_time = time.time()\n",
    "        args['max_iters'] = max_iters\n",
    "        args['max_attempts'] = max_iters\n",
    "        state, fitness, curve = algorithm(**args)\n",
    "        time_elapsed = time.time() - start_time\n",
    "        times.append(time_elapsed)\n",
    "    if plot:\n",
    "        plt.plot(param_range, fits, label=alg_name)\n",
    "        plt.xlabel (param_name)\n",
    "        plt.ylabel ('fit')\n",
    "        plt.legend()\n",
    "        title = \"\" + alg_name + \" \" + param_name + \" fits \" + prob_name\n",
    "        plt.title (title)\n",
    "        plt.show()\n",
    "    return times\n",
    "\n",
    "def test_param(param_name, param_range, problem, algorithm, args, plot=False, alg_name=\"\", prob_name=\"\"):\n",
    "    fits = []\n",
    "    best_fit = 0\n",
    "    best_arg_val = 0\n",
    "    if param_name == 'decay':\n",
    "        #this is SA, we need to define schedule\n",
    "        for p in param_range:\n",
    "            print(p)\n",
    "            args['schedule'] = mlrose.GeomDecay(init_temp=10, decay=p, min_temp=0.001)\n",
    "            state, fitness, curve = algorithm(**args)\n",
    "            fits.append(fitness)\n",
    "            if fitness > best_fit:\n",
    "                best_fit = fitness\n",
    "                best_arg_val = p\n",
    "    else:\n",
    "        for p in param_range:\n",
    "            args[param_name] = p\n",
    "            state, fitness, curve = algorithm(**args)\n",
    "            fits.append(fitness)\n",
    "            if fitness > best_fit:\n",
    "                best_fit = fitness\n",
    "                best_arg_val = p\n",
    "    print(\"best value for \", param_name, \": \", best_arg_val)\n",
    "    print(\"best fit: \", best_fit)\n",
    "    if plot:\n",
    "        plt.plot(param_range, fits, label=alg_name)\n",
    "        plt.xlabel (param_name)\n",
    "        plt.ylabel ('fit')\n",
    "        plt.legend()\n",
    "        title = \"\" + alg_name + \" \" + param_name + \" fits \" + prob_name\n",
    "        plt.title (title)\n",
    "        plt.show()\n",
    "    return best_arg_val, best_fit\n",
    "    \n",
    "    \n",
    "r_hill_args = {\n",
    "    'problem': problem,\n",
    "    'curve': True,\n",
    "    'random_state': 13,\n",
    "    'max_attempts':10,\n",
    "    'max_iters':10000, \n",
    "    'restarts':20,\n",
    "    \n",
    "}\n",
    "ga_args = {\n",
    "    'problem': problem,\n",
    "    'curve': True,\n",
    "    'random_state': 13,\n",
    "    'pop_size': 200,\n",
    "    'mutation_prob': 0.5,\n",
    "    'max_attempts': 10,\n",
    "    'max_iters': 10000,\n",
    "    \n",
    "}\n",
    "sa_args = {\n",
    "    'problem': problem,\n",
    "    'curve': True,\n",
    "    'random_state': 13,\n",
    "    'schedule': mlrose.GeomDecay(init_temp=10, decay=0.99, min_temp=0.001),\n",
    "    'max_attempts': 10,\n",
    "    'max_iters': 10000  \n",
    "}\n",
    "mimic_args = {\n",
    "    'problem': problem,\n",
    "    'curve': True,\n",
    "    'random_state': 13,\n",
    "    'pop_size': 100,\n",
    "    'keep_pct': 0.3,\n",
    "    'max_attempts': 10,\n",
    "    'max_iters': 10000,\n",
    "}\n",
    "\n",
    "times_per_iterations = {\n",
    "    'OneMax':{\n",
    "        'r_hill': [],\n",
    "        'SA': [],\n",
    "        'GA': [],\n",
    "        'MIMIC': []\n",
    "    },\n",
    "    'FourPeaks':{\n",
    "        'r_hill': [],\n",
    "        'SA': [],\n",
    "        'GA': [],\n",
    "        'MIMIC': []\n",
    "    },\n",
    "    'Knapsack':{\n",
    "        'r_hill': [],\n",
    "        'SA': [],\n",
    "        'GA': [],\n",
    "        'MIMIC': []\n",
    "    },\n",
    "}\n",
    "fit_per_iterations = {\n",
    "    'OneMax':{\n",
    "        'r_hill': [],\n",
    "        'SA': [],\n",
    "        'GA': [],\n",
    "        'MIMIC': []\n",
    "    },\n",
    "    'FourPeaks':{\n",
    "        'r_hill': [],\n",
    "        'SA': [],\n",
    "        'GA': [],\n",
    "        'MIMIC': []\n",
    "    },\n",
    "    'Knapsack':{\n",
    "        'r_hill': [],\n",
    "        'SA': [],\n",
    "        'GA': [],\n",
    "        'MIMIC': []\n",
    "    }\n",
    "}"
   ]
  },
  {
   "cell_type": "markdown",
   "metadata": {},
   "source": [
    "# OneMax"
   ]
  },
  {
   "cell_type": "code",
   "execution_count": null,
   "metadata": {},
   "outputs": [],
   "source": []
  },
  {
   "cell_type": "code",
   "execution_count": 28,
   "metadata": {},
   "outputs": [
    {
     "name": "stdout",
     "output_type": "stream",
     "text": [
      "best value for  restarts :  256\n",
      "best fit:  49.0\n"
     ]
    },
    {
     "data": {
      "image/png": "[encoded data removed]",
      "text/plain": [
       "<Figure size 432x288 with 1 Axes>"
      ]
     },
     "metadata": {
      "needs_background": "light"
     },
     "output_type": "display_data"
    },
    {
     "name": "stdout",
     "output_type": "stream",
     "text": [
      "best value for  max_iters :  128\n",
      "best fit:  49.0\n"
     ]
    },
    {
     "data": {
      "image/png": "[encoded data removed]",
      "text/plain": [
       "<Figure size 432x288 with 1 Axes>"
      ]
     },
     "metadata": {
      "needs_background": "light"
     },
     "output_type": "display_data"
    },
    {
     "name": "stdout",
     "output_type": "stream",
     "text": [
      "0.85\n",
      "0.9\n",
      "0.95\n",
      "0.99\n",
      "0.999\n",
      "best value for  decay :  0.85\n",
      "best fit:  46.0\n"
     ]
    },
    {
     "data": {
      "image/png": "[encoded data removed]",
      "text/plain": [
       "<Figure size 432x288 with 1 Axes>"
      ]
     },
     "metadata": {
      "needs_background": "light"
     },
     "output_type": "display_data"
    },
    {
     "name": "stdout",
     "output_type": "stream",
     "text": [
      "best value for  max_iters :  4096\n",
      "best fit:  40.0\n"
     ]
    },
    {
     "data": {
      "image/png": "[encoded data removed]",
      "text/plain": [
       "<Figure size 432x288 with 1 Axes>"
      ]
     },
     "metadata": {
      "needs_background": "light"
     },
     "output_type": "display_data"
    },
    {
     "name": "stdout",
     "output_type": "stream",
     "text": [
      "best value for  max_iters :  32\n",
      "best fit:  50.0\n"
     ]
    },
    {
     "data": {
      "image/png": "[encoded data removed]",
      "text/plain": [
       "<Figure size 432x288 with 1 Axes>"
      ]
     },
     "metadata": {
      "needs_background": "light"
     },
     "output_type": "display_data"
    },
    {
     "name": "stdout",
     "output_type": "stream",
     "text": [
      "best value for  pop_size :  256\n",
      "best fit:  50.0\n"
     ]
    },
    {
     "data": {
      "image/png": "[encoded data removed]",
      "text/plain": [
       "<Figure size 432x288 with 1 Axes>"
      ]
     },
     "metadata": {
      "needs_background": "light"
     },
     "output_type": "display_data"
    },
    {
     "name": "stdout",
     "output_type": "stream",
     "text": [
      "best value for  mutation_prob :  0.1\n",
      "best fit:  50.0\n"
     ]
    },
    {
     "data": {
      "image/png": "[encoded data removed]",
      "text/plain": [
       "<Figure size 432x288 with 1 Axes>"
      ]
     },
     "metadata": {
      "needs_background": "light"
     },
     "output_type": "display_data"
    },
    {
     "name": "stdout",
     "output_type": "stream",
     "text": [
      "best value for  keep_pct :  0.7\n",
      "best fit:  50.0\n"
     ]
    },
    {
     "data": {
      "image/png": "[encoded data removed]",
      "text/plain": [
       "<Figure size 432x288 with 1 Axes>"
      ]
     },
     "metadata": {
      "needs_background": "light"
     },
     "output_type": "display_data"
    },
    {
     "name": "stdout",
     "output_type": "stream",
     "text": [
      "best value for  max_iters :  32\n",
      "best fit:  50.0\n"
     ]
    },
    {
     "data": {
      "image/png": "[encoded data removed]",
      "text/plain": [
       "<Figure size 432x288 with 1 Axes>"
      ]
     },
     "metadata": {
      "needs_background": "light"
     },
     "output_type": "display_data"
    }
   ],
   "source": [
    "length = 50\n",
    "fitness_fn = mlrose.OneMax()\n",
    "problem = mlrose.DiscreteOpt(length=length, \n",
    "                             fitness_fn=fitness_fn\n",
    "                            )\n",
    "\n",
    "\n",
    "best_r_hill_fit = 0\n",
    "best_SA_fit = 0\n",
    "best_GA_fit = 0\n",
    "best_MIMIC_fit = 0\n",
    "\n",
    "#r_hill\n",
    "restart_range = [1, 2, 4, 8, 16, 32, 64, 128, 256]\n",
    "arg_val, best_fit = test_param('restarts', restart_range, problem, mlrose.random_hill_climb, r_hill_args, plot=True, alg_name=\"r_hill\", prob_name=\"OneMax\")\n",
    "\n",
    "r_hill_args['restarts'] = arg_val\n",
    "\n",
    "max_iter_range = [1, 2, 4, 8, 16, 32, 64, 128, 256, 512, 1024, 2048, 4096, 8192]\n",
    "arg_val, best_fit = test_param('max_iters', max_iter_range, problem, mlrose.random_hill_climb, r_hill_args, plot=True, alg_name=\"r_hill\", prob_name=\"OneMax\")\n",
    "\n",
    "r_hill_args['max_iters'] = arg_val\n",
    "best_r_hill_fit = best_fit\n",
    "\n",
    "#Simulated annealing\n",
    "decay_range = [0.85, 0.9, 0.95, 0.99, 0.999]\n",
    "arg_val, best_fit = test_param('decay', decay_range, problem, mlrose.simulated_annealing, sa_args, plot=True, alg_name=\"SA\", prob_name=\"OneMax\")\n",
    "\n",
    "#its hard to dynamicall set this so i played around with decay manually and set it to optimal initially\n",
    "\n",
    "max_iter_range = [1, 2, 4, 8, 16, 32, 64, 128, 256, 512, 1024, 2048, 4096, 8192]\n",
    "arg_val, best_fit = test_param('max_iters', max_iter_range, problem, mlrose.simulated_annealing, sa_args, plot=True, alg_name=\"SA\", prob_name=\"OneMax\")\n",
    "\n",
    "sa_args['max_iters'] = arg_val\n",
    "best_SA_fit = best_fit\n",
    "# genetic algorithm\n",
    "\n",
    "max_iter_range = [1, 2, 4, 8, 16, 32, 64, 128, 256, 512, 1024, 2048, 4096, 8192]\n",
    "arg_val, best_fit = test_param('max_iters', max_iter_range, problem, mlrose.genetic_alg, ga_args, plot=True, alg_name=\"GA\", prob_name=\"OneMax\")\n",
    "\n",
    "ga_args['max_iters'] = arg_val\n",
    "\n",
    "pop_size_range = [256, 512, 1024, 2048]\n",
    "arg_val, best_fit = test_param('pop_size', pop_size_range, problem, mlrose.genetic_alg, ga_args, plot=True, alg_name=\"GA\", prob_name=\"OneMax\")\n",
    "\n",
    "ga_args['pop_size'] = arg_val\n",
    "\n",
    "#mutation_prob_range = np.arange(0.6, 0.9, 0.001)\n",
    "mutation_prob_range = [0.1, 0.2, 0.3, 0.4, 0.5, 0.6, 0.7, 0.8, 0.9, 0.99]\n",
    "arg_val, best_fit = test_param('mutation_prob', mutation_prob_range, problem, mlrose.genetic_alg, ga_args, plot=True, alg_name=\"GA\", prob_name=\"OneMax\")\n",
    "\n",
    "ga_args['mutation_prob'] = arg_val\n",
    "best_GA_fit = best_fit\n",
    "#MIMIC\n",
    "\n",
    "#pop_size_range = [256, 512, 1024, 2048]\n",
    "#arg_val, best_fit = test_param('pop_size', pop_size_range, problem, mlrose.mimic ,mimic_args, plot=True, alg_name=\"MIMIC\", prob_name=\"OneMax\")\n",
    "\n",
    "keep_pct = [0.7, 0.8, 0.9, 0.99]\n",
    "arg_val, best_fit = test_param('keep_pct', keep_pct, problem, mlrose.mimic, mimic_args, plot=True, alg_name=\"MIMIC\", prob_name=\"OneMax\")\n",
    "\n",
    "mimic_args['keep_pct'] = arg_val\n",
    "\n",
    "max_iter_range = [1, 2, 4, 8, 16, 32, 64, 128, 256, 512, 1024, 2048, 4096, 8192]\n",
    "arg_val, best_fit = test_param('max_iters', max_iter_range, problem, mlrose.mimic, mimic_args, plot=True, alg_name=\"MIMIC\", prob_name=\"OneMax\")\n",
    "\n",
    "mimic_args['max_iters'] = arg_val\n",
    "best_MIMIC_fit = best_fit"
   ]
  },
  {
   "cell_type": "markdown",
   "metadata": {},
   "source": [
    "## timer"
   ]
  },
  {
   "cell_type": "code",
   "execution_count": null,
   "metadata": {},
   "outputs": [],
   "source": [
    "length = 50\n",
    "fitness_fn = mlrose.OneMax()\n",
    "problem = mlrose.DiscreteOpt(length=length, \n",
    "                             fitness_fn=fitness_fn\n",
    "                            )\n",
    "\n",
    "max_iter_range = [1, 2, 4, 8, 16, 32, 64]#, 128, 256, 512, 1024, 2048, 4096, 8192]\n",
    "times = time_iteration_test(max_iter_range, problem, mlrose.random_hill_climb, r_hill_args, plot=False, alg_name=\"r_hill\", prob_name=\"OneMax\")\n",
    "times_per_iterations['OneMax']['r_hill'] = times\n",
    "times = time_iteration_test(max_iter_range, problem, mlrose.simulated_annealing, sa_args, plot=False, alg_name=\"SA\", prob_name=\"OneMax\")\n",
    "times_per_iterations['OneMax']['SA'] = times\n",
    "times = time_iteration_test(max_iter_range, problem, mlrose.genetic_alg, ga_args, plot=False, alg_name=\"GA\", prob_name=\"OneMax\")\n",
    "times_per_iterations['OneMax']['GA'] = times\n",
    "times = time_iteration_test(max_iter_range, problem, mlrose.mimic, mimic_args, plot=False, alg_name=\"MIMIC\", prob_name=\"OneMax\")\n",
    "times_per_iterations['OneMax']['MIMIC'] = times\n",
    "\n"
   ]
  },
  {
   "cell_type": "code",
   "execution_count": null,
   "metadata": {},
   "outputs": [],
   "source": [
    "state, fitness, curve = fit_iteration_test(problem, mlrose.random_hill_climb, r_hill_args, plot=False, alg_name=\"r_hill\", prob_name=\"OneMax\")\n",
    "fit_per_iterations['OneMax']['r_hill'] = curve\n",
    "state, fitness, curve = fit_iteration_test(problem, mlrose.simulated_annealing, sa_args, plot=False, alg_name=\"SA\", prob_name=\"OneMax\")\n",
    "fit_per_iterations['OneMax']['SA'] = curve\n",
    "state, fitness, curve = fit_iteration_test(problem, mlrose.genetic_alg, ga_args, plot=False, alg_name=\"GA\", prob_name=\"OneMax\")\n",
    "fit_per_iterations['OneMax']['GA'] = curve    \n",
    "state, fitness, curve = fit_iteration_test(problem, mlrose.mimic, mimic_args, plot=False, alg_name=\"MIMIC\", prob_name=\"OneMax\")\n",
    "fit_per_iterations['OneMax']['MIMIC'] = curve"
   ]
  },
  {
   "cell_type": "markdown",
   "metadata": {},
   "source": [
    "# Four Peaks"
   ]
  },
  {
   "cell_type": "code",
   "execution_count": null,
   "metadata": {},
   "outputs": [],
   "source": [
    "length = 64\n",
    "fitness_fn = mlrose.FourPeaks()#t_pct=0.10\n",
    "problem = mlrose.DiscreteOpt(length=length, \n",
    "                             fitness_fn=fitness_fn, \n",
    "                             maximize=True\n",
    "                            )\n",
    "best_r_hill_fit = 0\n",
    "best_SA_fit = 0\n",
    "best_GA_fit = 0\n",
    "best_MIMIC_fit = 0\n",
    "\n",
    "#r_hill\n",
    "restart_range = [1, 2, 4, 8, 16, 32, 64, 128, 256]\n",
    "arg_val, best_fit = test_param('restarts', restart_range, problem, mlrose.random_hill_climb, r_hill_args, plot=True, alg_name=\"r_hill\", prob_name=\"four_peaks\")\n",
    "\n",
    "r_hill_args['restarts'] = arg_val\n",
    "\n",
    "max_iter_range = [1, 2, 4, 8, 16, 32, 64, 128, 256, 512, 1024, 2048, 4096, 8192]\n",
    "arg_val, best_fit = test_param('max_iters', max_iter_range, problem, mlrose.random_hill_climb, r_hill_args, plot=True, alg_name=\"r_hill\", prob_name=\"four_peaks\")\n",
    "\n",
    "r_hill_args['max_iters'] = arg_val\n",
    "best_r_hill_fit = best_fit\n",
    "\n",
    "#Simulated annealing\n",
    "decay_range = [0.85, 0.9, 0.95, 0.99, 0.999]\n",
    "arg_val, best_fit = test_param('decay', decay_range, problem, mlrose.simulated_annealing, sa_args, plot=True, alg_name=\"SA\", prob_name=\"four_peaks\")\n",
    "\n",
    "#its hard to dynamicall set this so i played around with decay manually and set it to optimal initially\n",
    "\n",
    "max_iter_range = [1, 2, 4, 8, 16, 32, 64, 128, 256, 512, 1024, 2048, 4096, 8192]\n",
    "arg_val, best_fit = test_param('max_iters', max_iter_range, problem, mlrose.simulated_annealing, sa_args, plot=True, alg_name=\"SA\", prob_name=\"four_peaks\")\n",
    "\n",
    "sa_args['max_iters'] = arg_val\n",
    "best_SA_fit = best_fit\n",
    "# genetic algorithm\n",
    "\n",
    "max_iter_range = [1, 2, 4, 8, 16, 32, 64, 128, 256, 512, 1024, 2048, 4096, 8192]\n",
    "arg_val, best_fit = test_param('max_iters', max_iter_range, problem, mlrose.genetic_alg, ga_args, plot=True, alg_name=\"GA\", prob_name=\"four_peaks\")\n",
    "\n",
    "ga_args['max_iters'] = arg_val\n",
    "\n",
    "pop_size_range = [256, 512, 1024, 2048]\n",
    "arg_val, best_fit = test_param('pop_size', pop_size_range, problem, mlrose.genetic_alg, ga_args, plot=True, alg_name=\"GA\", prob_name=\"four_peaks\")\n",
    "\n",
    "ga_args['pop_size'] = arg_val\n",
    "\n",
    "#mutation_prob_range = np.arange(0.6, 0.9, 0.001)\n",
    "mutation_prob_range = [0.1, 0.2, 0.3, 0.4, 0.5, 0.6, 0.7, 0.8, 0.9, 0.99]\n",
    "arg_val, best_fit = test_param('mutation_prob', mutation_prob_range, problem, mlrose.genetic_alg, ga_args, plot=True, alg_name=\"GA\", prob_name=\"four_peaks\")\n",
    "\n",
    "ga_args['mutation_prob'] = arg_val\n",
    "best_GA_fit = best_fit\n",
    "#MIMIC\n",
    "\n",
    "#pop_size_range = [256, 512, 1024, 2048]\n",
    "#arg_val, best_fit = test_param('pop_size', pop_size_range, problem, mlrose.mimic ,mimic_args, plot=True, alg_name=\"MIMIC\", prob_name=\"knapsack\")\n",
    "\n",
    "keep_pct = [0.7, 0.8, 0.9, 0.99]\n",
    "arg_val, best_fit = test_param('keep_pct', keep_pct, problem, mlrose.mimic, mimic_args, plot=True, alg_name=\"MIMIC\", prob_name=\"four_peaks\")\n",
    "\n",
    "mimic_args['keep_pct'] = arg_val\n",
    "\n",
    "max_iter_range = [1, 2, 4, 8, 16, 32, 64, 128, 256, 512, 1024, 2048, 4096, 8192]\n",
    "arg_val, best_fit = test_param('max_iters', max_iter_range, problem, mlrose.mimic, mimic_args, plot=True, alg_name=\"MIMIC\", prob_name=\"four_peaks\")\n",
    "\n",
    "mimic_args['max_iters'] = arg_val\n",
    "best_MIMIC_fit = best_fit"
   ]
  },
  {
   "cell_type": "code",
   "execution_count": null,
   "metadata": {},
   "outputs": [],
   "source": [
    "length = 64\n",
    "fitness_fn = mlrose.FourPeaks()#t_pct=0.10\n",
    "problem = mlrose.DiscreteOpt(length=length, \n",
    "                             fitness_fn=fitness_fn, \n",
    "                            )\n",
    "\n",
    "\n",
    "max_iter_range = [1, 2, 4, 8, 16, 32, 64]#, 128, 256, 512, 1024, 2048, 4096, 8192]\n",
    "times = time_iteration_test(max_iter_range, problem, mlrose.random_hill_climb, r_hill_args, plot=False, alg_name=\"r_hill\", prob_name='FourPeaks')\n",
    "times_per_iterations['FourPeaks']['r_hill'] = times\n",
    "times = time_iteration_test(max_iter_range, problem, mlrose.simulated_annealing, sa_args, plot=False, alg_name=\"SA\", prob_name='FourPeaks')\n",
    "times_per_iterations['FourPeaks']['SA'] = times\n",
    "times = time_iteration_test(max_iter_range, problem, mlrose.genetic_alg, ga_args, plot=False, alg_name=\"GA\", prob_name='FourPeaks')\n",
    "times_per_iterations['FourPeaks']['GA'] = times\n",
    "times = time_iteration_test(max_iter_range, problem, mlrose.mimic, mimic_args, plot=False, alg_name=\"MIMIC\", prob_name='FourPeaks')\n",
    "times_per_iterations['FourPeaks']['MIMIC'] = times"
   ]
  },
  {
   "cell_type": "code",
   "execution_count": null,
   "metadata": {},
   "outputs": [],
   "source": [
    "state, fitness, curve = fit_iteration_test(problem, mlrose.random_hill_climb, r_hill_args, plot=False, alg_name=\"r_hill\", prob_name='FourPeaks')\n",
    "fit_per_iterations['FourPeaks']['r_hill'] = curve\n",
    "state, fitness, curve = fit_iteration_test(problem, mlrose.simulated_annealing, sa_args, plot=False, alg_name=\"SA\", prob_name='FourPeaks')\n",
    "fit_per_iterations['FourPeaks']['SA'] = curve\n",
    "state, fitness, curve = fit_iteration_test(problem, mlrose.genetic_alg, ga_args, plot=False, alg_name=\"GA\", prob_name='FourPeaks')\n",
    "fit_per_iterations['FourPeaks']['GA'] = curve    \n",
    "state, fitness, curve = fit_iteration_test(problem, mlrose.mimic, mimic_args, plot=False, alg_name=\"MIMIC\", prob_name='FourPeaks')\n",
    "fit_per_iterations['FourPeaks']['MIMIC'] = curve"
   ]
  },
  {
   "cell_type": "markdown",
   "metadata": {},
   "source": [
    "# Knapsack"
   ]
  },
  {
   "cell_type": "code",
   "execution_count": null,
   "metadata": {},
   "outputs": [],
   "source": [
    "length = 64\n",
    "values, weights = knapsack_generator(length)\n",
    "max_weight_pct = 0.6\n",
    "fitness_fn = mlrose.Knapsack(weights, values, max_weight_pct)\n",
    "problem = mlrose.DiscreteOpt(length=len(weights), \n",
    "                             fitness_fn=fitness_fn\n",
    "                            )\n",
    "\n",
    "best_r_hill_fit = 0\n",
    "best_SA_fit = 0\n",
    "best_GA_fit = 0\n",
    "best_MIMIC_fit = 0\n",
    "\n",
    "#r_hill\n",
    "restart_range = [1, 2, 4, 8, 16, 32, 64, 128, 256]\n",
    "arg_val, best_fit = test_param('restarts', restart_range, problem, mlrose.random_hill_climb, r_hill_args, plot=True, alg_name=\"r_hill\", prob_name=\"knapsack\")\n",
    "\n",
    "r_hill_args['restarts'] = arg_val\n",
    "\n",
    "max_iter_range = [1, 2, 4, 8, 16, 32, 64, 128, 256, 512, 1024, 2048, 4096, 8192]\n",
    "arg_val, best_fit = test_param('max_iters', max_iter_range, problem, mlrose.random_hill_climb, r_hill_args, plot=True, alg_name=\"r_hill\", prob_name=\"knapsack\")\n",
    "\n",
    "r_hill_args['max_iters'] = arg_val\n",
    "best_r_hill_fit = best_fit\n",
    "\n",
    "#Simulated annealing\n",
    "decay_range = [0.85, 0.9, 0.95, 0.99, 0.999]\n",
    "arg_val, best_fit = test_param('decay', decay_range, problem, mlrose.simulated_annealing, sa_args, plot=True, alg_name=\"SA\", prob_name=\"knapsack\")\n",
    "\n",
    "#its hard to dynamicall set this so i played around with decay manually and set it to optimal initially\n",
    "\n",
    "max_iter_range = [1, 2, 4, 8, 16, 32, 64, 128, 256, 512, 1024, 2048, 4096, 8192]\n",
    "arg_val, best_fit = test_param('max_iters', max_iter_range, problem, mlrose.simulated_annealing, sa_args, plot=True, alg_name=\"SA\", prob_name=\"knapsack\")\n",
    "\n",
    "sa_args['max_iters'] = arg_val\n",
    "best_SA_fit = best_fit\n",
    "# genetic algorithm\n",
    "\n",
    "max_iter_range = [1, 2, 4, 8, 16, 32, 64, 128, 256, 512, 1024, 2048, 4096, 8192]\n",
    "arg_val, best_fit = test_param('max_iters', max_iter_range, problem, mlrose.genetic_alg, ga_args, plot=True, alg_name=\"GA\", prob_name=\"knapsack\")\n",
    "\n",
    "ga_args['max_iters'] = arg_val\n",
    "\n",
    "pop_size_range = [256, 512, 1024, 2048]\n",
    "arg_val, best_fit = test_param('pop_size', pop_size_range, problem, mlrose.genetic_alg, ga_args, plot=True, alg_name=\"GA\", prob_name=\"knapsack\")\n",
    "\n",
    "ga_args['pop_size'] = arg_val\n",
    "\n",
    "#mutation_prob_range = np.arange(0.6, 0.9, 0.001)\n",
    "mutation_prob_range = [0.1, 0.2, 0.3, 0.4, 0.5, 0.6, 0.7, 0.8, 0.9, 0.99]\n",
    "arg_val, best_fit = test_param('mutation_prob', mutation_prob_range, problem, mlrose.genetic_alg, ga_args, plot=True, alg_name=\"GA\", prob_name=\"knapsack\")\n",
    "\n",
    "ga_args['mutation_prob'] = arg_val\n",
    "best_GA_fit = best_fit\n",
    "#MIMIC\n",
    "\n",
    "#pop_size_range = [256, 512, 1024, 2048]\n",
    "#arg_val, best_fit = test_param('pop_size', pop_size_range, problem, mlrose.mimic ,mimic_args, plot=True, alg_name=\"MIMIC\", prob_name=\"knapsack\")\n",
    "\n",
    "keep_pct = [0.7, 0.8, 0.9, 0.99]\n",
    "arg_val, best_fit = test_param('keep_pct', keep_pct, problem, mlrose.mimic, mimic_args, plot=True, alg_name=\"MIMIC\", prob_name=\"knapsack\")\n",
    "\n",
    "mimic_args['keep_pct'] = arg_val\n",
    "\n",
    "max_iter_range = [1, 2, 4, 8, 16, 32, 64, 128, 256, 512, 1024, 2048, 4096, 8192]\n",
    "arg_val, best_fit = test_param('max_iters', max_iter_range, problem, mlrose.mimic, mimic_args, plot=True, alg_name=\"MIMIC\", prob_name=\"knapsack\")\n",
    "\n",
    "mimic_args['max_iters'] = arg_val\n",
    "best_MIMIC_fit = best_fit"
   ]
  },
  {
   "cell_type": "code",
   "execution_count": null,
   "metadata": {},
   "outputs": [],
   "source": [
    "length = 64\n",
    "values, weights = knapsack_generator(length)\n",
    "max_weight_pct = 0.6\n",
    "fitness_fn = mlrose.Knapsack(weights, values, max_weight_pct)\n",
    "problem = mlrose.DiscreteOpt(length=len(weights), \n",
    "                             fitness_fn=fitness_fn\n",
    "                            )\n",
    "\n",
    "max_iter_range = [1, 2, 4, 8, 16, 32, 64]#, 128, 256, 512, 1024, 2048, 4096, 8192]\n",
    "times = time_iteration_test(max_iter_range, problem, mlrose.random_hill_climb, r_hill_args, plot=False, alg_name=\"r_hill\", prob_name='Knapsack')\n",
    "times_per_iterations['Knapsack']['r_hill'] = times\n",
    "times = time_iteration_test(max_iter_range, problem, mlrose.simulated_annealing, sa_args, plot=False, alg_name=\"SA\", prob_name='Knapsack')\n",
    "times_per_iterations['Knapsack']['SA'] = times\n",
    "times = time_iteration_test(max_iter_range, problem, mlrose.genetic_alg, ga_args, plot=False, alg_name=\"GA\", prob_name='Knapsack')\n",
    "times_per_iterations['Knapsack']['GA'] = times\n",
    "times = time_iteration_test(max_iter_range, problem, mlrose.mimic, mimic_args, plot=False, alg_name=\"MIMIC\", prob_name='Knapsack')\n",
    "times_per_iterations['Knapsack']['MIMIC'] = times"
   ]
  },
  {
   "cell_type": "code",
   "execution_count": null,
   "metadata": {},
   "outputs": [],
   "source": [
    "state, fitness, curve = fit_iteration_test(problem, mlrose.random_hill_climb, r_hill_args, plot=False, alg_name=\"r_hill\", prob_name='Knapsack')\n",
    "fit_per_iterations['Knapsack']['r_hill'] = curve\n",
    "state, fitness, curve = fit_iteration_test(problem, mlrose.simulated_annealing, sa_args, plot=False, alg_name=\"SA\", prob_name='Knapsack')\n",
    "fit_per_iterations['Knapsack']['SA'] = curve\n",
    "state, fitness, curve = fit_iteration_test(problem, mlrose.genetic_alg, ga_args, plot=False, alg_name=\"GA\", prob_name='Knapsack')\n",
    "fit_per_iterations['Knapsack']['GA'] = curve    \n",
    "state, fitness, curve = fit_iteration_test(problem, mlrose.mimic, mimic_args, plot=False, alg_name=\"MIMIC\", prob_name='Knapsack')\n",
    "fit_per_iterations['Knapsack']['MIMIC'] = curve"
   ]
  },
  {
   "cell_type": "markdown",
   "metadata": {},
   "source": [
    "# Analysis"
   ]
  },
  {
   "cell_type": "code",
   "execution_count": null,
   "metadata": {},
   "outputs": [],
   "source": [
    "iters = range(1, 10000, 1)\n",
    "\n",
    "plt.plot(times_per_iterations['Knapsack']['r_hill'],iters, label=\"r_hill\")\n",
    "plt.plot(times_per_iterations['Knapsack']['SA'],iters, label=\"SA\")\n",
    "plt.plot(times_per_iterations['Knapsack']['GA'],iters, label=\"GA\")\n",
    "plt.plot(times_per_iterations['Knapsack']['MIMIC'],iters, label=\"MIMIC\")\n",
    "plt.xlabel ('Iterations')\n",
    "plt.ylabel ('Time/Sec')\n",
    "plt.legend()\n",
    "plt.title ('Knapsack time/num iterations')\n",
    "plt.show()"
   ]
  },
  {
   "cell_type": "code",
   "execution_count": null,
   "metadata": {},
   "outputs": [],
   "source": [
    "plt.plot(fit_per_iterations['Knapsack']['r_hill'],iters, label=\"r_hill\")\n",
    "plt.plot(fit_per_iterations['Knapsack']['SA'],iters, label=\"SA\")\n",
    "plt.plot(fit_per_iterations['Knapsack']['GA'],iters, label=\"GA\")\n",
    "plt.plot(fit_per_iterations['Knapsack']['MIMIC'],iters, label=\"MIMIC\")\n",
    "plt.xlabel ('Iterations')\n",
    "plt.ylabel ('fit')\n",
    "plt.legend()\n",
    "plt.title ('Knapsack fit/num iterations')\n",
    "plt.show()"
   ]
  }
 ],
 "metadata": {
  "kernelspec": {
   "display_name": "Python 3",
   "language": "python",
   "name": "python3"
  }
 },
 "nbformat": 4,
 "nbformat_minor": 4
}
