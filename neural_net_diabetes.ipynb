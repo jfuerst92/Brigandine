{
 "cells": [
  {
   "cell_type": "code",
   "execution_count": null,
   "metadata": {},
   "outputs": [],
   "source": []
  },
  {
   "cell_type": "code",
   "execution_count": 17,
   "metadata": {},
   "outputs": [],
   "source": [
    "import numpy as np\n",
    "import pandas as pd\n",
    "import math, time\n",
    "import matplotlib.pyplot as plt\n",
    "import seaborn as sns\n",
    "from sklearn.model_selection import train_test_split\n",
    "import tensorflow.keras as keras\n",
    "import mlrose_hiive as mlrose\n",
    "from sklearn.metrics import accuracy_score\n"
   ]
  },
  {
   "cell_type": "code",
   "execution_count": 18,
   "metadata": {},
   "outputs": [],
   "source": [
    "args = {\n",
    "    'gradient_descent': {\n",
    "         'hidden_nodes': [64], \n",
    "         'activation': 'relu',\n",
    "         'algorithm': 'gradient_descent', \n",
    "         'max_iters': 1200,\n",
    "         'bias': True, \n",
    "         'is_classifier': True, \n",
    "         'learning_rate': 0.0001,\n",
    "         'early_stopping': True, \n",
    "         'clip_max': 5, \n",
    "         'max_attempts': 500,\n",
    "         'random_state': 3, \n",
    "         'curve': True\n",
    "    },\n",
    "    'random_hill_climb': {\n",
    "         'hidden_nodes': [64], \n",
    "         'activation': 'relu',\n",
    "         'algorithm': 'random_hill_climb', \n",
    "         'max_iters': 1200,\n",
    "         'bias': True, \n",
    "         'is_classifier': True, \n",
    "         'learning_rate': 0.0001,\n",
    "         'early_stopping': True, \n",
    "         'clip_max': 5, \n",
    "         'max_attempts': 500,\n",
    "         'random_state': 3, \n",
    "         'restarts': 0,\n",
    "         'curve': True\n",
    "    },\n",
    "    'simulated_annealing': {\n",
    "         'hidden_nodes': [64], \n",
    "         'activation': 'relu',\n",
    "         'algorithm': 'simulated_annealing', \n",
    "         'max_iters': 1200,\n",
    "         'bias': True, \n",
    "         'is_classifier': True, \n",
    "         'learning_rate': 0.0001,\n",
    "         'early_stopping': True, \n",
    "         'clip_max': 5, \n",
    "         'max_attempts': 500,\n",
    "         'random_state': 3, \n",
    "         'schedule': mlrose.GeomDecay(init_temp=10, decay=0.95, min_temp=0.001),\n",
    "         'curve': True\n",
    "    },\n",
    "    'genetic_alg': {\n",
    "         'hidden_nodes': [64], \n",
    "         'activation': 'relu',\n",
    "         'algorithm': 'genetic_alg', \n",
    "         'max_iters': 1200,\n",
    "         'bias': True, \n",
    "         'is_classifier': True, \n",
    "         'learning_rate': 0.0001,\n",
    "         'early_stopping': True, \n",
    "         'clip_max': 5, \n",
    "         'max_attempts': 500,\n",
    "         'random_state': 3, \n",
    "         'pop_size': 200,\n",
    "         'mutation_prob': 0.1,\n",
    "         'curve': True\n",
    "    },\n",
    "}\n",
    "test_args = {\n",
    "    'gradient_descent': {\n",
    "         'hidden_nodes': [64], \n",
    "         'activation': 'relu',\n",
    "         'algorithm': 'gradient_descent', \n",
    "         'max_iters': 10,\n",
    "         'bias': True, \n",
    "         'is_classifier': True, \n",
    "         'learning_rate': 0.0001,\n",
    "         'early_stopping': True, \n",
    "         'clip_max': 5, \n",
    "         'max_attempts': 500,\n",
    "         'random_state': 3, \n",
    "         'curve': True\n",
    "    },\n",
    "    'random_hill_climb': {\n",
    "         'hidden_nodes': [64], \n",
    "         'activation': 'relu',\n",
    "         'algorithm': 'random_hill_climb', \n",
    "         'max_iters': 10,\n",
    "         'bias': True, \n",
    "         'is_classifier': True, \n",
    "         'learning_rate': 0.0001,\n",
    "         'early_stopping': True, \n",
    "         'clip_max': 5, \n",
    "         'max_attempts': 500,\n",
    "         'random_state': 3, \n",
    "         'restarts': 0,\n",
    "         'curve': True\n",
    "    },\n",
    "    'simulated_annealing': {\n",
    "         'hidden_nodes': [64], \n",
    "         'activation': 'relu',\n",
    "         'algorithm': 'simulated_annealing', \n",
    "         'max_iters': 10,\n",
    "         'bias': True, \n",
    "         'is_classifier': True, \n",
    "         'learning_rate': 0.0001,\n",
    "         'early_stopping': True, \n",
    "         'clip_max': 5, \n",
    "         'max_attempts': 500,\n",
    "         'random_state': 3, \n",
    "         'schedule': mlrose.GeomDecay(init_temp=10, decay=0.95, min_temp=0.001),\n",
    "         'curve': True\n",
    "    },\n",
    "    'genetic_alg': {\n",
    "         'hidden_nodes': [64], \n",
    "         'activation': 'relu',\n",
    "         'algorithm': 'genetic_alg', \n",
    "         'max_iters': 10,\n",
    "         'bias': True, \n",
    "         'is_classifier': True, \n",
    "         'learning_rate': 0.0001,\n",
    "         'early_stopping': True, \n",
    "         'clip_max': 5, \n",
    "         'max_attempts': 500,\n",
    "         'random_state': 3, \n",
    "         'pop_size': 200,\n",
    "         'mutation_prob': 0.1,\n",
    "         'curve': True\n",
    "    },\n",
    "}"
   ]
  },
  {
   "cell_type": "code",
   "execution_count": 50,
   "metadata": {},
   "outputs": [],
   "source": [
    "def plot_single(x_vals, y_vals, x_label, y_label, title):\n",
    "    \n",
    "    plt.plot(x_vals, y_vals)\n",
    "    plt.xlabel (x_label)\n",
    "    plt.ylabel (y_label)\n",
    "    plt.legend()\n",
    "    plt.title (title)\n",
    "    plt.show()\n",
    "\n",
    "def test_arg(arg_name, arg_range, alg_name, args):\n",
    "    arg_accs = []\n",
    "    for arg_val in arg_range:\n",
    "        args[alg_name][arg_name] = arg_val\n",
    "        start_time = time.time()\n",
    "        model = mlrose.NeuralNetwork(**args[alg_name])\n",
    "        time_elapsed = time.time() - start_time\n",
    "        model.fit(X_train, y_train)\n",
    "        y_train_pred = model.predict(X_train)\n",
    "        y_train_accuracy = accuracy_score(y_train, y_train_pred)\n",
    "        y_pred = model.predict(X_test)\n",
    "        y_test_accuracy = accuracy_score(y_test, y_pred)\n",
    "        arg_accs.append(y_train_accuracy)\n",
    "    return arg_accs\n",
    "        \n",
    "    \n",
    "\n",
    "def load_data():\n",
    "    data_directory = \"data/\"\n",
    "    filename = \"diabetes.csv\"\n",
    "    df = pd.read_csv(data_directory + filename)\n",
    "    \n",
    "    plt.show()\n",
    "    cols = list(df.columns.values)\n",
    "    cols.remove('Outcome')\n",
    "    X = (df[cols]).values\n",
    "    y = df['Outcome'].values\n",
    "    #scaler = StandardScaler()\n",
    "    #scaler.fit(X)\n",
    "    #X = scaler.transform(X)\n",
    "    \n",
    "    #plt.savefig(\"./output/label_count_mnist.png\")\n",
    "    return(X, y)\n",
    "\n",
    "def split_data(X, y, data_size=1.0, train_size=0.8, strat=False):\n",
    "    if strat:\n",
    "        sss = StratifiedShuffleSplit(n_splits=1, random_state=0, train_size=train_size)\n",
    "        for train_index, test_index in sss.split(X, y):\n",
    "            print(\"hm\")\n",
    "            X_train = X[train_index]\n",
    "            X_test = X[test_index]\n",
    "            y_train, y_test = y[train_index], y[test_index]\n",
    "    else:\n",
    "        X_train, X_test, y_train, y_test = train_test_split(X, y, train_size=train_size)\n",
    "    return(X_train, y_train, X_test, y_test)"
   ]
  },
  {
   "cell_type": "code",
   "execution_count": 20,
   "metadata": {},
   "outputs": [],
   "source": [
    "X, y = load_data()"
   ]
  },
  {
   "cell_type": "code",
   "execution_count": 21,
   "metadata": {},
   "outputs": [
    {
     "name": "stdout",
     "output_type": "stream",
     "text": [
      "(691, 8)\n",
      "(691,)\n",
      "(77, 8)\n",
      "(77,)\n"
     ]
    }
   ],
   "source": [
    "X_train, y_train, X_test, y_test = split_data(X, y, train_size=0.9)\n",
    "print(X_train.shape)\n",
    "print(y_train.shape)\n",
    "print(X_test.shape)\n",
    "print(y_test.shape)\n"
   ]
  },
  {
   "cell_type": "code",
   "execution_count": 22,
   "metadata": {},
   "outputs": [],
   "source": [
    "num_category = 2 \n",
    "\n",
    "y_train = keras.utils.to_categorical(y_train, num_category)\n",
    "y_test = keras.utils.to_categorical(y_test, num_category)"
   ]
  },
  {
   "cell_type": "markdown",
   "metadata": {},
   "source": [
    "# Backprop "
   ]
  },
  {
   "cell_type": "code",
   "execution_count": 31,
   "metadata": {},
   "outputs": [],
   "source": [
    "back_prop_time_elapsed = 0\n",
    "r_hill_time_elapsed = 0\n",
    "SA_time_elapsed = 0\n",
    "GA_time_elapsed = 0\n",
    "#args = test_args"
   ]
  },
  {
   "cell_type": "code",
   "execution_count": 32,
   "metadata": {},
   "outputs": [
    {
     "name": "stdout",
     "output_type": "stream",
     "text": [
      "0.05085635185241699\n",
      "0.6425470332850941\n",
      "0.7402597402597403\n"
     ]
    }
   ],
   "source": [
    "start_time = time.time()\n",
    "nn_model1 = mlrose.NeuralNetwork(**args['gradient_descent'])\n",
    "\n",
    "nn_model1.fit(X_train, y_train)\n",
    "time_elapsed = time.time() - start_time\n",
    "y_train_pred = nn_model1.predict(X_train)\n",
    "y_train_accuracy = accuracy_score(y_train, y_train_pred)\n",
    "y_pred = nn_model1.predict(X_test)\n",
    "y_test_accuracy = accuracy_score(y_test, y_pred)\n",
    "print(time_elapsed)\n",
    "print(y_train_accuracy)\n",
    "print(y_test_accuracy)\n",
    "back_prop_time_elapsed = time_elapsed"
   ]
  },
  {
   "cell_type": "code",
   "execution_count": 33,
   "metadata": {},
   "outputs": [
    {
     "name": "stdout",
     "output_type": "stream",
     "text": [
      "0.02496623992919922\n",
      "0.61794500723589\n",
      "0.6883116883116883\n"
     ]
    }
   ],
   "source": [
    "start_time = time.time()\n",
    "nn_model1 = mlrose.NeuralNetwork(**args['random_hill_climb'])\n",
    "\n",
    "nn_model1.fit(X_train, y_train)\n",
    "time_elapsed = time.time() - start_time\n",
    "y_train_pred = nn_model1.predict(X_train)\n",
    "y_train_accuracy = accuracy_score(y_train, y_train_pred)\n",
    "y_pred = nn_model1.predict(X_test)\n",
    "y_test_accuracy = accuracy_score(y_test, y_pred)\n",
    "print(time_elapsed)\n",
    "print(y_train_accuracy)\n",
    "print(y_test_accuracy)\n",
    "r_hill_time_elapsed = time_elapsed"
   ]
  },
  {
   "cell_type": "code",
   "execution_count": 34,
   "metadata": {},
   "outputs": [
    {
     "name": "stdout",
     "output_type": "stream",
     "text": [
      "0.04288530349731445\n",
      "0.61794500723589\n",
      "0.6883116883116883\n"
     ]
    }
   ],
   "source": [
    "start_time = time.time()\n",
    "nn_model1 = mlrose.NeuralNetwork(**args['simulated_annealing'])\n",
    "\n",
    "nn_model1.fit(X_train, y_train)\n",
    "time_elapsed = time.time() - start_time\n",
    "y_train_pred = nn_model1.predict(X_train)\n",
    "y_train_accuracy = accuracy_score(y_train, y_train_pred)\n",
    "y_pred = nn_model1.predict(X_test)\n",
    "y_test_accuracy = accuracy_score(y_test, y_pred)\n",
    "print(time_elapsed)\n",
    "print(y_train_accuracy)\n",
    "print(y_test_accuracy)\n",
    "SA_time_elapsed = time_elapsed"
   ]
  },
  {
   "cell_type": "code",
   "execution_count": 35,
   "metadata": {},
   "outputs": [
    {
     "name": "stdout",
     "output_type": "stream",
     "text": [
      "4.419220685958862\n",
      "0.6772793053545586\n",
      "0.7402597402597403\n"
     ]
    }
   ],
   "source": [
    "start_time = time.time()\n",
    "nn_model1 = mlrose.NeuralNetwork(**args['genetic_alg'])\n",
    "\n",
    "nn_model1.fit(X_train, y_train)\n",
    "time_elapsed = time.time() - start_time\n",
    "y_train_pred = nn_model1.predict(X_train)\n",
    "y_train_accuracy = accuracy_score(y_train, y_train_pred)\n",
    "y_pred = nn_model1.predict(X_test)\n",
    "y_test_accuracy = accuracy_score(y_test, y_pred)\n",
    "print(time_elapsed)\n",
    "print(y_train_accuracy)\n",
    "print(y_test_accuracy)\n",
    "GA_time_elapsed = time_elapsed"
   ]
  },
  {
   "cell_type": "markdown",
   "metadata": {},
   "source": [
    "# Learning Rate"
   ]
  },
  {
   "cell_type": "code",
   "execution_count": 36,
   "metadata": {},
   "outputs": [
    {
     "ename": "NameError",
     "evalue": "name 'learning_rates' is not defined",
     "output_type": "error",
     "traceback": [
      "\u001b[1;31m---------------------------------------------------------------------------\u001b[0m",
      "\u001b[1;31mNameError\u001b[0m                                 Traceback (most recent call last)",
      "\u001b[1;32m<ipython-input-36-91c429e3dfc2>\u001b[0m in \u001b[0;36m<module>\u001b[1;34m\u001b[0m\n\u001b[0;32m      1\u001b[0m \u001b[0mlearning_rates_standard\u001b[0m \u001b[1;33m=\u001b[0m \u001b[1;33m[\u001b[0m\u001b[1;36m0.1\u001b[0m\u001b[1;33m,\u001b[0m \u001b[1;36m0.01\u001b[0m\u001b[1;33m,\u001b[0m \u001b[1;36m0.001\u001b[0m\u001b[1;33m,\u001b[0m \u001b[1;36m0.0001\u001b[0m\u001b[1;33m]\u001b[0m\u001b[1;33m\u001b[0m\u001b[1;33m\u001b[0m\u001b[0m\n\u001b[0;32m      2\u001b[0m \u001b[0mtrain_accs_lr\u001b[0m \u001b[1;33m=\u001b[0m \u001b[1;33m[\u001b[0m\u001b[1;33m]\u001b[0m\u001b[1;33m\u001b[0m\u001b[1;33m\u001b[0m\u001b[0m\n\u001b[1;32m----> 3\u001b[1;33m \u001b[1;32mfor\u001b[0m \u001b[0mlearning_rate\u001b[0m \u001b[1;32min\u001b[0m \u001b[0mlearning_rates\u001b[0m\u001b[1;33m:\u001b[0m\u001b[1;33m\u001b[0m\u001b[1;33m\u001b[0m\u001b[0m\n\u001b[0m\u001b[0;32m      4\u001b[0m     \u001b[0mprint\u001b[0m\u001b[1;33m(\u001b[0m\u001b[0mlearning_rate\u001b[0m\u001b[1;33m)\u001b[0m\u001b[1;33m\u001b[0m\u001b[1;33m\u001b[0m\u001b[0m\n\u001b[0;32m      5\u001b[0m     model = mlrose.NeuralNetwork(hidden_nodes = [64], \n",
      "\u001b[1;31mNameError\u001b[0m: name 'learning_rates' is not defined"
     ]
    }
   ],
   "source": [
    "learning_rates_standard = [0.1, 0.01, 0.001, 0.0001]\n",
    "train_accs_lr = []\n",
    "for learning_rate in learning_rates:\n",
    "    print(learning_rate)\n",
    "    model = mlrose.NeuralNetwork(hidden_nodes = [64], \n",
    "                                 activation = 'relu',\n",
    "                                 algorithm = 'gradient_descent', \n",
    "                                 max_iters = 1200,\n",
    "                                 bias = True, \n",
    "                                 is_classifier = True, \n",
    "                                 learning_rate = learning_rate,\n",
    "                                 early_stopping = True, \n",
    "                                 clip_max = 5, \n",
    "                                 max_attempts = 500,\n",
    "                                 random_state = 3, \n",
    "                                 curve = True\n",
    "                                )\n",
    "    model.fit(X_train, y_train)\n",
    "    y_train_pred = model.predict(X_train)\n",
    "    y_train_accuracy = accuracy_score(y_train, y_train_pred)\n",
    "    y_pred = model.predict(X_test)\n",
    "    y_test_accuracy = accuracy_score(y_test, y_pred)\n",
    "    print(y_train_accuracy)\n",
    "    print(y_test_accuracy)\n",
    "    train_accs_lr.append(y_train_accuracy)\n",
    "\n"
   ]
  },
  {
   "cell_type": "code",
   "execution_count": null,
   "metadata": {},
   "outputs": [],
   "source": [
    "plt.plot(max_iter_range, times_per_iterations['Knapsack']['r_hill'], label=\"r_hill\")\n",
    "plt.xlabel ('Iterations')\n",
    "plt.ylabel ('time(s)')\n",
    "plt.legend()\n",
    "plt.title ('Knapsack time/num iterations')\n",
    "plt.show()"
   ]
  },
  {
   "cell_type": "markdown",
   "metadata": {},
   "source": [
    "# Hidden Node"
   ]
  },
  {
   "cell_type": "code",
   "execution_count": 39,
   "metadata": {},
   "outputs": [
    {
     "name": "stdout",
     "output_type": "stream",
     "text": [
      "0.6657018813314037\n",
      "0.7272727272727273\n",
      "0.6483357452966715\n",
      "0.7142857142857143\n",
      "0.6570188133140377\n",
      "0.7532467532467533\n",
      "0.6845151953690304\n",
      "0.7402597402597403\n",
      "0.6946454413892909\n",
      "0.6883116883116883\n"
     ]
    }
   ],
   "source": [
    "hidden_node_count = [64, 128, 256, 512, 1024]\n",
    "train_accs_hn = []\n",
    "test_accs_hn = []\n",
    "for node_cnt in hidden_node_count:\n",
    "    \n",
    "    model = mlrose.NeuralNetwork(hidden_nodes = [node_cnt], \n",
    "                                 activation = 'relu',\n",
    "                                 algorithm = 'gradient_descent', \n",
    "                                 max_iters = 1200,\n",
    "                                 bias = True, \n",
    "                                 is_classifier = True, \n",
    "                                 learning_rate = 0.0001,\n",
    "                                 early_stopping = True, \n",
    "                                 clip_max = 5, \n",
    "                                 max_attempts = 500,\n",
    "                                 random_state = 3, \n",
    "                                 curve = True\n",
    "                                )\n",
    "    model.fit(X_train, y_train)\n",
    "    y_train_pred = model.predict(X_train)\n",
    "    y_train_accuracy = accuracy_score(y_train, y_train_pred)\n",
    "    y_pred = model.predict(X_test)\n",
    "    y_test_accuracy = accuracy_score(y_test, y_pred)\n",
    "    print(y_train_accuracy)\n",
    "    print(y_test_accuracy)\n",
    "    train_accs_hn.append(y_train_accuracy)\n",
    "    test_accs_hn.append(y_train_accuracy)\n"
   ]
  },
  {
   "cell_type": "code",
   "execution_count": null,
   "metadata": {},
   "outputs": [],
   "source": []
  },
  {
   "cell_type": "markdown",
   "metadata": {},
   "source": [
    "# Randomized Hill Climbing"
   ]
  },
  {
   "cell_type": "code",
   "execution_count": 51,
   "metadata": {},
   "outputs": [
    {
     "name": "stdout",
     "output_type": "stream",
     "text": [
      "0.07827380952380952\n",
      "0.07023809523809524\n"
     ]
    }
   ],
   "source": [
    "nn_r_hill = mlrose.NeuralNetwork(hidden_nodes = [64], \n",
    "                                 activation = 'relu',\n",
    "                                 algorithm = 'random_hill_climb', \n",
    "                                 max_iters = 1200,\n",
    "                                 bias = True, \n",
    "                                 is_classifier = True,\n",
    "                                 learning_rate = 0.0001, \n",
    "                                 early_stopping = True, \n",
    "                                 random_state = 3,\n",
    "                                 restarts = 0\n",
    "                                )\n",
    "\n",
    "\n",
    "nn_r_hill.fit(X_train, y_train)\n",
    "y_train_pred = nn_r_hill.predict(X_train)\n",
    "y_train_accuracy = accuracy_score(y_train, y_train_pred)\n",
    "y_pred = nn_r_hill.predict(X_test)\n",
    "y_test_accuracy = accuracy_score(y_test, y_pred)\n",
    "print(y_train_accuracy)\n",
    "print(y_test_accuracy)\n"
   ]
  },
  {
   "cell_type": "code",
   "execution_count": 56,
   "metadata": {},
   "outputs": [
    {
     "name": "stdout",
     "output_type": "stream",
     "text": [
      "[2, 4, 8, 16, 32, 64]\n",
      "0.04107142857142857\n",
      "0.03333333333333333\n",
      "[2, 4, 8, 16, 32, 64]\n",
      "0.04107142857142857\n",
      "0.03333333333333333\n",
      "[2, 4, 8, 16, 32, 64]\n",
      "0.04107142857142857\n",
      "0.03333333333333333\n",
      "[2, 4, 8, 16, 32, 64]\n"
     ]
    },
    {
     "ename": "KeyboardInterrupt",
     "evalue": "",
     "output_type": "error",
     "traceback": [
      "\u001b[1;31m---------------------------------------------------------------------------\u001b[0m",
      "\u001b[1;31mKeyboardInterrupt\u001b[0m                         Traceback (most recent call last)",
      "\u001b[1;32m<ipython-input-56-ac8fd4fad349>\u001b[0m in \u001b[0;36m<module>\u001b[1;34m\u001b[0m\n\u001b[0;32m     17\u001b[0m                                  \u001b[0mcurve\u001b[0m \u001b[1;33m=\u001b[0m \u001b[1;32mTrue\u001b[0m\u001b[1;33m\u001b[0m\u001b[1;33m\u001b[0m\u001b[0m\n\u001b[0;32m     18\u001b[0m                                 )\n\u001b[1;32m---> 19\u001b[1;33m     \u001b[0mmodel\u001b[0m\u001b[1;33m.\u001b[0m\u001b[0mfit\u001b[0m\u001b[1;33m(\u001b[0m\u001b[0mX_train\u001b[0m\u001b[1;33m,\u001b[0m \u001b[0my_train\u001b[0m\u001b[1;33m)\u001b[0m\u001b[1;33m\u001b[0m\u001b[1;33m\u001b[0m\u001b[0m\n\u001b[0m\u001b[0;32m     20\u001b[0m     \u001b[0my_train_pred\u001b[0m \u001b[1;33m=\u001b[0m \u001b[0mmodel\u001b[0m\u001b[1;33m.\u001b[0m\u001b[0mpredict\u001b[0m\u001b[1;33m(\u001b[0m\u001b[0mX_train\u001b[0m\u001b[1;33m)\u001b[0m\u001b[1;33m\u001b[0m\u001b[1;33m\u001b[0m\u001b[0m\n\u001b[0;32m     21\u001b[0m     \u001b[0my_train_accuracy\u001b[0m \u001b[1;33m=\u001b[0m \u001b[0maccuracy_score\u001b[0m\u001b[1;33m(\u001b[0m\u001b[0my_train\u001b[0m\u001b[1;33m,\u001b[0m \u001b[0my_train_pred\u001b[0m\u001b[1;33m)\u001b[0m\u001b[1;33m\u001b[0m\u001b[1;33m\u001b[0m\u001b[0m\n",
      "\u001b[1;32mc:\\users\\fuers\\anaconda3\\envs\\ml\\lib\\site-packages\\mlrose_hiive\\neural\\_nn_core.py\u001b[0m in \u001b[0;36mfit\u001b[1;34m(self, X, y, init_weights)\u001b[0m\n\u001b[0;32m    151\u001b[0m \u001b[1;33m\u001b[0m\u001b[0m\n\u001b[0;32m    152\u001b[0m         \u001b[1;32mif\u001b[0m \u001b[0mself\u001b[0m\u001b[1;33m.\u001b[0m\u001b[0malgorithm\u001b[0m \u001b[1;33m==\u001b[0m \u001b[1;34m'random_hill_climb'\u001b[0m\u001b[1;33m:\u001b[0m\u001b[1;33m\u001b[0m\u001b[1;33m\u001b[0m\u001b[0m\n\u001b[1;32m--> 153\u001b[1;33m             \u001b[0mfitness_curve\u001b[0m\u001b[1;33m,\u001b[0m \u001b[0mfitted_weights\u001b[0m\u001b[1;33m,\u001b[0m \u001b[0mloss\u001b[0m \u001b[1;33m=\u001b[0m \u001b[0mself\u001b[0m\u001b[1;33m.\u001b[0m\u001b[0m__run_with_rhc\u001b[0m\u001b[1;33m(\u001b[0m\u001b[0minit_weights\u001b[0m\u001b[1;33m,\u001b[0m \u001b[0mnum_nodes\u001b[0m\u001b[1;33m,\u001b[0m \u001b[0mproblem\u001b[0m\u001b[1;33m)\u001b[0m\u001b[1;33m\u001b[0m\u001b[1;33m\u001b[0m\u001b[0m\n\u001b[0m\u001b[0;32m    154\u001b[0m \u001b[1;33m\u001b[0m\u001b[0m\n\u001b[0;32m    155\u001b[0m         \u001b[1;32melif\u001b[0m \u001b[0mself\u001b[0m\u001b[1;33m.\u001b[0m\u001b[0malgorithm\u001b[0m \u001b[1;33m==\u001b[0m \u001b[1;34m'simulated_annealing'\u001b[0m\u001b[1;33m:\u001b[0m\u001b[1;33m\u001b[0m\u001b[1;33m\u001b[0m\u001b[0m\n",
      "\u001b[1;32mc:\\users\\fuers\\anaconda3\\envs\\ml\\lib\\site-packages\\mlrose_hiive\\neural\\_nn_core.py\u001b[0m in \u001b[0;36m__run_with_rhc\u001b[1;34m(self, init_weights, num_nodes, problem)\u001b[0m\n\u001b[0;32m    247\u001b[0m                                       \u001b[0mmax_iters\u001b[0m\u001b[1;33m=\u001b[0m\u001b[0mself\u001b[0m\u001b[1;33m.\u001b[0m\u001b[0mmax_iters\u001b[0m\u001b[1;33m,\u001b[0m\u001b[1;33m\u001b[0m\u001b[1;33m\u001b[0m\u001b[0m\n\u001b[0;32m    248\u001b[0m                                       \u001b[0mrestarts\u001b[0m\u001b[1;33m=\u001b[0m\u001b[1;36m0\u001b[0m\u001b[1;33m,\u001b[0m \u001b[0minit_state\u001b[0m\u001b[1;33m=\u001b[0m\u001b[0minit_weights\u001b[0m\u001b[1;33m,\u001b[0m\u001b[1;33m\u001b[0m\u001b[1;33m\u001b[0m\u001b[0m\n\u001b[1;32m--> 249\u001b[1;33m                                       curve=self.curve)\n\u001b[0m\u001b[0;32m    250\u001b[0m             \u001b[1;32melse\u001b[0m\u001b[1;33m:\u001b[0m\u001b[1;33m\u001b[0m\u001b[1;33m\u001b[0m\u001b[0m\n\u001b[0;32m    251\u001b[0m                 current_weights, current_loss, _ = random_hill_climb(\n",
      "\u001b[1;32mc:\\users\\fuers\\anaconda3\\envs\\ml\\lib\\site-packages\\mlrose_hiive\\algorithms\\rhc.py\u001b[0m in \u001b[0;36mrandom_hill_climb\u001b[1;34m(problem, max_attempts, max_iters, restarts, init_state, curve, random_state, state_fitness_callback, callback_user_info)\u001b[0m\n\u001b[0;32m    115\u001b[0m             \u001b[0mcurrent_fitness\u001b[0m \u001b[1;33m=\u001b[0m \u001b[0mproblem\u001b[0m\u001b[1;33m.\u001b[0m\u001b[0mget_fitness\u001b[0m\u001b[1;33m(\u001b[0m\u001b[1;33m)\u001b[0m\u001b[1;33m\u001b[0m\u001b[1;33m\u001b[0m\u001b[0m\n\u001b[0;32m    116\u001b[0m             \u001b[1;32mif\u001b[0m \u001b[0mnext_fitness\u001b[0m \u001b[1;33m>\u001b[0m \u001b[0mcurrent_fitness\u001b[0m\u001b[1;33m:\u001b[0m\u001b[1;33m\u001b[0m\u001b[1;33m\u001b[0m\u001b[0m\n\u001b[1;32m--> 117\u001b[1;33m                 \u001b[0mproblem\u001b[0m\u001b[1;33m.\u001b[0m\u001b[0mset_state\u001b[0m\u001b[1;33m(\u001b[0m\u001b[0mnext_state\u001b[0m\u001b[1;33m)\u001b[0m\u001b[1;33m\u001b[0m\u001b[1;33m\u001b[0m\u001b[0m\n\u001b[0m\u001b[0;32m    118\u001b[0m                 \u001b[0mattempts\u001b[0m \u001b[1;33m=\u001b[0m \u001b[1;36m0\u001b[0m\u001b[1;33m\u001b[0m\u001b[1;33m\u001b[0m\u001b[0m\n\u001b[0;32m    119\u001b[0m             \u001b[1;32melse\u001b[0m\u001b[1;33m:\u001b[0m\u001b[1;33m\u001b[0m\u001b[1;33m\u001b[0m\u001b[0m\n",
      "\u001b[1;32mc:\\users\\fuers\\anaconda3\\envs\\ml\\lib\\site-packages\\mlrose_hiive\\opt_probs\\_opt_prob.py\u001b[0m in \u001b[0;36mset_state\u001b[1;34m(self, new_state)\u001b[0m\n\u001b[0;32m    234\u001b[0m \u001b[1;33m\u001b[0m\u001b[0m\n\u001b[0;32m    235\u001b[0m         \u001b[0mself\u001b[0m\u001b[1;33m.\u001b[0m\u001b[0mstate\u001b[0m \u001b[1;33m=\u001b[0m \u001b[0mnew_state\u001b[0m\u001b[1;33m\u001b[0m\u001b[1;33m\u001b[0m\u001b[0m\n\u001b[1;32m--> 236\u001b[1;33m         \u001b[0mself\u001b[0m\u001b[1;33m.\u001b[0m\u001b[0mfitness\u001b[0m \u001b[1;33m=\u001b[0m \u001b[0mself\u001b[0m\u001b[1;33m.\u001b[0m\u001b[0meval_fitness\u001b[0m\u001b[1;33m(\u001b[0m\u001b[0mself\u001b[0m\u001b[1;33m.\u001b[0m\u001b[0mstate\u001b[0m\u001b[1;33m)\u001b[0m\u001b[1;33m\u001b[0m\u001b[1;33m\u001b[0m\u001b[0m\n\u001b[0m\u001b[0;32m    237\u001b[0m \u001b[1;33m\u001b[0m\u001b[0m\n\u001b[0;32m    238\u001b[0m     \u001b[1;32mdef\u001b[0m \u001b[0mcan_stop\u001b[0m\u001b[1;33m(\u001b[0m\u001b[0mself\u001b[0m\u001b[1;33m)\u001b[0m\u001b[1;33m:\u001b[0m\u001b[1;33m\u001b[0m\u001b[1;33m\u001b[0m\u001b[0m\n",
      "\u001b[1;32mc:\\users\\fuers\\anaconda3\\envs\\ml\\lib\\site-packages\\mlrose_hiive\\opt_probs\\_opt_prob.py\u001b[0m in \u001b[0;36meval_fitness\u001b[1;34m(self, state)\u001b[0m\n\u001b[0;32m     92\u001b[0m             \u001b[1;32mraise\u001b[0m \u001b[0mException\u001b[0m\u001b[1;33m(\u001b[0m\u001b[1;34m\"state length must match problem length\"\u001b[0m\u001b[1;33m)\u001b[0m\u001b[1;33m\u001b[0m\u001b[1;33m\u001b[0m\u001b[0m\n\u001b[0;32m     93\u001b[0m \u001b[1;33m\u001b[0m\u001b[0m\n\u001b[1;32m---> 94\u001b[1;33m         \u001b[0mfitness\u001b[0m \u001b[1;33m=\u001b[0m \u001b[0mself\u001b[0m\u001b[1;33m.\u001b[0m\u001b[0mmaximize\u001b[0m\u001b[1;33m*\u001b[0m\u001b[0mself\u001b[0m\u001b[1;33m.\u001b[0m\u001b[0mfitness_fn\u001b[0m\u001b[1;33m.\u001b[0m\u001b[0mevaluate\u001b[0m\u001b[1;33m(\u001b[0m\u001b[0mstate\u001b[0m\u001b[1;33m)\u001b[0m\u001b[1;33m\u001b[0m\u001b[1;33m\u001b[0m\u001b[0m\n\u001b[0m\u001b[0;32m     95\u001b[0m \u001b[1;33m\u001b[0m\u001b[0m\n\u001b[0;32m     96\u001b[0m         \u001b[1;32mreturn\u001b[0m \u001b[0mfitness\u001b[0m\u001b[1;33m\u001b[0m\u001b[1;33m\u001b[0m\u001b[0m\n",
      "\u001b[1;32mc:\\users\\fuers\\anaconda3\\envs\\ml\\lib\\site-packages\\mlrose_hiive\\neural\\fitness\\network_weights.py\u001b[0m in \u001b[0;36mevaluate\u001b[1;34m(self, state)\u001b[0m\n\u001b[0;32m    145\u001b[0m \u001b[1;33m\u001b[0m\u001b[0m\n\u001b[0;32m    146\u001b[0m         \u001b[1;31m# Evaluate loss function\u001b[0m\u001b[1;33m\u001b[0m\u001b[1;33m\u001b[0m\u001b[1;33m\u001b[0m\u001b[0m\n\u001b[1;32m--> 147\u001b[1;33m         \u001b[0mfitness\u001b[0m \u001b[1;33m=\u001b[0m \u001b[0mself\u001b[0m\u001b[1;33m.\u001b[0m\u001b[0mloss\u001b[0m\u001b[1;33m(\u001b[0m\u001b[0mself\u001b[0m\u001b[1;33m.\u001b[0m\u001b[0my_true\u001b[0m\u001b[1;33m,\u001b[0m \u001b[0mself\u001b[0m\u001b[1;33m.\u001b[0m\u001b[0my_pred\u001b[0m\u001b[1;33m)\u001b[0m\u001b[1;33m\u001b[0m\u001b[1;33m\u001b[0m\u001b[0m\n\u001b[0m\u001b[0;32m    148\u001b[0m \u001b[1;33m\u001b[0m\u001b[0m\n\u001b[0;32m    149\u001b[0m         \u001b[1;32mreturn\u001b[0m \u001b[0mfitness\u001b[0m\u001b[1;33m\u001b[0m\u001b[1;33m\u001b[0m\u001b[0m\n",
      "\u001b[1;32mc:\\users\\fuers\\anaconda3\\envs\\ml\\lib\\site-packages\\sklearn\\utils\\validation.py\u001b[0m in \u001b[0;36minner_f\u001b[1;34m(*args, **kwargs)\u001b[0m\n\u001b[0;32m     70\u001b[0m                           FutureWarning)\n\u001b[0;32m     71\u001b[0m         \u001b[0mkwargs\u001b[0m\u001b[1;33m.\u001b[0m\u001b[0mupdate\u001b[0m\u001b[1;33m(\u001b[0m\u001b[1;33m{\u001b[0m\u001b[0mk\u001b[0m\u001b[1;33m:\u001b[0m \u001b[0marg\u001b[0m \u001b[1;32mfor\u001b[0m \u001b[0mk\u001b[0m\u001b[1;33m,\u001b[0m \u001b[0marg\u001b[0m \u001b[1;32min\u001b[0m \u001b[0mzip\u001b[0m\u001b[1;33m(\u001b[0m\u001b[0msig\u001b[0m\u001b[1;33m.\u001b[0m\u001b[0mparameters\u001b[0m\u001b[1;33m,\u001b[0m \u001b[0margs\u001b[0m\u001b[1;33m)\u001b[0m\u001b[1;33m}\u001b[0m\u001b[1;33m)\u001b[0m\u001b[1;33m\u001b[0m\u001b[1;33m\u001b[0m\u001b[0m\n\u001b[1;32m---> 72\u001b[1;33m         \u001b[1;32mreturn\u001b[0m \u001b[0mf\u001b[0m\u001b[1;33m(\u001b[0m\u001b[1;33m**\u001b[0m\u001b[0mkwargs\u001b[0m\u001b[1;33m)\u001b[0m\u001b[1;33m\u001b[0m\u001b[1;33m\u001b[0m\u001b[0m\n\u001b[0m\u001b[0;32m     73\u001b[0m     \u001b[1;32mreturn\u001b[0m \u001b[0minner_f\u001b[0m\u001b[1;33m\u001b[0m\u001b[1;33m\u001b[0m\u001b[0m\n\u001b[0;32m     74\u001b[0m \u001b[1;33m\u001b[0m\u001b[0m\n",
      "\u001b[1;32mc:\\users\\fuers\\anaconda3\\envs\\ml\\lib\\site-packages\\sklearn\\metrics\\_classification.py\u001b[0m in \u001b[0;36mlog_loss\u001b[1;34m(y_true, y_pred, eps, normalize, sample_weight, labels)\u001b[0m\n\u001b[0;32m   2192\u001b[0m         \u001b[0mlb\u001b[0m\u001b[1;33m.\u001b[0m\u001b[0mfit\u001b[0m\u001b[1;33m(\u001b[0m\u001b[0mlabels\u001b[0m\u001b[1;33m)\u001b[0m\u001b[1;33m\u001b[0m\u001b[1;33m\u001b[0m\u001b[0m\n\u001b[0;32m   2193\u001b[0m     \u001b[1;32melse\u001b[0m\u001b[1;33m:\u001b[0m\u001b[1;33m\u001b[0m\u001b[1;33m\u001b[0m\u001b[0m\n\u001b[1;32m-> 2194\u001b[1;33m         \u001b[0mlb\u001b[0m\u001b[1;33m.\u001b[0m\u001b[0mfit\u001b[0m\u001b[1;33m(\u001b[0m\u001b[0my_true\u001b[0m\u001b[1;33m)\u001b[0m\u001b[1;33m\u001b[0m\u001b[1;33m\u001b[0m\u001b[0m\n\u001b[0m\u001b[0;32m   2195\u001b[0m \u001b[1;33m\u001b[0m\u001b[0m\n\u001b[0;32m   2196\u001b[0m     \u001b[1;32mif\u001b[0m \u001b[0mlen\u001b[0m\u001b[1;33m(\u001b[0m\u001b[0mlb\u001b[0m\u001b[1;33m.\u001b[0m\u001b[0mclasses_\u001b[0m\u001b[1;33m)\u001b[0m \u001b[1;33m==\u001b[0m \u001b[1;36m1\u001b[0m\u001b[1;33m:\u001b[0m\u001b[1;33m\u001b[0m\u001b[1;33m\u001b[0m\u001b[0m\n",
      "\u001b[1;32mc:\\users\\fuers\\anaconda3\\envs\\ml\\lib\\site-packages\\sklearn\\preprocessing\\_label.py\u001b[0m in \u001b[0;36mfit\u001b[1;34m(self, y)\u001b[0m\n\u001b[0;32m    435\u001b[0m \u001b[1;33m\u001b[0m\u001b[0m\n\u001b[0;32m    436\u001b[0m         \u001b[0mself\u001b[0m\u001b[1;33m.\u001b[0m\u001b[0msparse_input_\u001b[0m \u001b[1;33m=\u001b[0m \u001b[0msp\u001b[0m\u001b[1;33m.\u001b[0m\u001b[0missparse\u001b[0m\u001b[1;33m(\u001b[0m\u001b[0my\u001b[0m\u001b[1;33m)\u001b[0m\u001b[1;33m\u001b[0m\u001b[1;33m\u001b[0m\u001b[0m\n\u001b[1;32m--> 437\u001b[1;33m         \u001b[0mself\u001b[0m\u001b[1;33m.\u001b[0m\u001b[0mclasses_\u001b[0m \u001b[1;33m=\u001b[0m \u001b[0munique_labels\u001b[0m\u001b[1;33m(\u001b[0m\u001b[0my\u001b[0m\u001b[1;33m)\u001b[0m\u001b[1;33m\u001b[0m\u001b[1;33m\u001b[0m\u001b[0m\n\u001b[0m\u001b[0;32m    438\u001b[0m         \u001b[1;32mreturn\u001b[0m \u001b[0mself\u001b[0m\u001b[1;33m\u001b[0m\u001b[1;33m\u001b[0m\u001b[0m\n\u001b[0;32m    439\u001b[0m \u001b[1;33m\u001b[0m\u001b[0m\n",
      "\u001b[1;32mc:\\users\\fuers\\anaconda3\\envs\\ml\\lib\\site-packages\\sklearn\\utils\\multiclass.py\u001b[0m in \u001b[0;36munique_labels\u001b[1;34m(*ys)\u001b[0m\n\u001b[0;32m     75\u001b[0m     \u001b[1;31m# Check that we don't mix label format\u001b[0m\u001b[1;33m\u001b[0m\u001b[1;33m\u001b[0m\u001b[1;33m\u001b[0m\u001b[0m\n\u001b[0;32m     76\u001b[0m \u001b[1;33m\u001b[0m\u001b[0m\n\u001b[1;32m---> 77\u001b[1;33m     \u001b[0mys_types\u001b[0m \u001b[1;33m=\u001b[0m \u001b[0mset\u001b[0m\u001b[1;33m(\u001b[0m\u001b[0mtype_of_target\u001b[0m\u001b[1;33m(\u001b[0m\u001b[0mx\u001b[0m\u001b[1;33m)\u001b[0m \u001b[1;32mfor\u001b[0m \u001b[0mx\u001b[0m \u001b[1;32min\u001b[0m \u001b[0mys\u001b[0m\u001b[1;33m)\u001b[0m\u001b[1;33m\u001b[0m\u001b[1;33m\u001b[0m\u001b[0m\n\u001b[0m\u001b[0;32m     78\u001b[0m     \u001b[1;32mif\u001b[0m \u001b[0mys_types\u001b[0m \u001b[1;33m==\u001b[0m \u001b[1;33m{\u001b[0m\u001b[1;34m\"binary\"\u001b[0m\u001b[1;33m,\u001b[0m \u001b[1;34m\"multiclass\"\u001b[0m\u001b[1;33m}\u001b[0m\u001b[1;33m:\u001b[0m\u001b[1;33m\u001b[0m\u001b[1;33m\u001b[0m\u001b[0m\n\u001b[0;32m     79\u001b[0m         \u001b[0mys_types\u001b[0m \u001b[1;33m=\u001b[0m \u001b[1;33m{\u001b[0m\u001b[1;34m\"multiclass\"\u001b[0m\u001b[1;33m}\u001b[0m\u001b[1;33m\u001b[0m\u001b[1;33m\u001b[0m\u001b[0m\n",
      "\u001b[1;32mc:\\users\\fuers\\anaconda3\\envs\\ml\\lib\\site-packages\\sklearn\\utils\\multiclass.py\u001b[0m in \u001b[0;36m<genexpr>\u001b[1;34m(.0)\u001b[0m\n\u001b[0;32m     75\u001b[0m     \u001b[1;31m# Check that we don't mix label format\u001b[0m\u001b[1;33m\u001b[0m\u001b[1;33m\u001b[0m\u001b[1;33m\u001b[0m\u001b[0m\n\u001b[0;32m     76\u001b[0m \u001b[1;33m\u001b[0m\u001b[0m\n\u001b[1;32m---> 77\u001b[1;33m     \u001b[0mys_types\u001b[0m \u001b[1;33m=\u001b[0m \u001b[0mset\u001b[0m\u001b[1;33m(\u001b[0m\u001b[0mtype_of_target\u001b[0m\u001b[1;33m(\u001b[0m\u001b[0mx\u001b[0m\u001b[1;33m)\u001b[0m \u001b[1;32mfor\u001b[0m \u001b[0mx\u001b[0m \u001b[1;32min\u001b[0m \u001b[0mys\u001b[0m\u001b[1;33m)\u001b[0m\u001b[1;33m\u001b[0m\u001b[1;33m\u001b[0m\u001b[0m\n\u001b[0m\u001b[0;32m     78\u001b[0m     \u001b[1;32mif\u001b[0m \u001b[0mys_types\u001b[0m \u001b[1;33m==\u001b[0m \u001b[1;33m{\u001b[0m\u001b[1;34m\"binary\"\u001b[0m\u001b[1;33m,\u001b[0m \u001b[1;34m\"multiclass\"\u001b[0m\u001b[1;33m}\u001b[0m\u001b[1;33m:\u001b[0m\u001b[1;33m\u001b[0m\u001b[1;33m\u001b[0m\u001b[0m\n\u001b[0;32m     79\u001b[0m         \u001b[0mys_types\u001b[0m \u001b[1;33m=\u001b[0m \u001b[1;33m{\u001b[0m\u001b[1;34m\"multiclass\"\u001b[0m\u001b[1;33m}\u001b[0m\u001b[1;33m\u001b[0m\u001b[1;33m\u001b[0m\u001b[0m\n",
      "\u001b[1;32mc:\\users\\fuers\\anaconda3\\envs\\ml\\lib\\site-packages\\sklearn\\utils\\multiclass.py\u001b[0m in \u001b[0;36mtype_of_target\u001b[1;34m(y)\u001b[0m\n\u001b[0;32m    248\u001b[0m         \u001b[1;32mraise\u001b[0m \u001b[0mValueError\u001b[0m\u001b[1;33m(\u001b[0m\u001b[1;34m\"y cannot be class 'SparseSeries' or 'SparseArray'\"\u001b[0m\u001b[1;33m)\u001b[0m\u001b[1;33m\u001b[0m\u001b[1;33m\u001b[0m\u001b[0m\n\u001b[0;32m    249\u001b[0m \u001b[1;33m\u001b[0m\u001b[0m\n\u001b[1;32m--> 250\u001b[1;33m     \u001b[1;32mif\u001b[0m \u001b[0mis_multilabel\u001b[0m\u001b[1;33m(\u001b[0m\u001b[0my\u001b[0m\u001b[1;33m)\u001b[0m\u001b[1;33m:\u001b[0m\u001b[1;33m\u001b[0m\u001b[1;33m\u001b[0m\u001b[0m\n\u001b[0m\u001b[0;32m    251\u001b[0m         \u001b[1;32mreturn\u001b[0m \u001b[1;34m'multilabel-indicator'\u001b[0m\u001b[1;33m\u001b[0m\u001b[1;33m\u001b[0m\u001b[0m\n\u001b[0;32m    252\u001b[0m \u001b[1;33m\u001b[0m\u001b[0m\n",
      "\u001b[1;32mc:\\users\\fuers\\anaconda3\\envs\\ml\\lib\\site-packages\\sklearn\\utils\\multiclass.py\u001b[0m in \u001b[0;36mis_multilabel\u001b[1;34m(y)\u001b[0m\n\u001b[0;32m    150\u001b[0m                  _is_integral_float(np.unique(y.data))))\n\u001b[0;32m    151\u001b[0m     \u001b[1;32melse\u001b[0m\u001b[1;33m:\u001b[0m\u001b[1;33m\u001b[0m\u001b[1;33m\u001b[0m\u001b[0m\n\u001b[1;32m--> 152\u001b[1;33m         \u001b[0mlabels\u001b[0m \u001b[1;33m=\u001b[0m \u001b[0mnp\u001b[0m\u001b[1;33m.\u001b[0m\u001b[0munique\u001b[0m\u001b[1;33m(\u001b[0m\u001b[0my\u001b[0m\u001b[1;33m)\u001b[0m\u001b[1;33m\u001b[0m\u001b[1;33m\u001b[0m\u001b[0m\n\u001b[0m\u001b[0;32m    153\u001b[0m \u001b[1;33m\u001b[0m\u001b[0m\n\u001b[0;32m    154\u001b[0m         return len(labels) < 3 and (y.dtype.kind in 'biu' or  # bool, int, uint\n",
      "\u001b[1;32m<__array_function__ internals>\u001b[0m in \u001b[0;36munique\u001b[1;34m(*args, **kwargs)\u001b[0m\n",
      "\u001b[1;32mc:\\users\\fuers\\anaconda3\\envs\\ml\\lib\\site-packages\\numpy\\lib\\arraysetops.py\u001b[0m in \u001b[0;36munique\u001b[1;34m(ar, return_index, return_inverse, return_counts, axis)\u001b[0m\n\u001b[0;32m    259\u001b[0m \u001b[1;33m\u001b[0m\u001b[0m\n\u001b[0;32m    260\u001b[0m     \"\"\"\n\u001b[1;32m--> 261\u001b[1;33m     \u001b[0mar\u001b[0m \u001b[1;33m=\u001b[0m \u001b[0mnp\u001b[0m\u001b[1;33m.\u001b[0m\u001b[0masanyarray\u001b[0m\u001b[1;33m(\u001b[0m\u001b[0mar\u001b[0m\u001b[1;33m)\u001b[0m\u001b[1;33m\u001b[0m\u001b[1;33m\u001b[0m\u001b[0m\n\u001b[0m\u001b[0;32m    262\u001b[0m     \u001b[1;32mif\u001b[0m \u001b[0maxis\u001b[0m \u001b[1;32mis\u001b[0m \u001b[1;32mNone\u001b[0m\u001b[1;33m:\u001b[0m\u001b[1;33m\u001b[0m\u001b[1;33m\u001b[0m\u001b[0m\n\u001b[0;32m    263\u001b[0m         \u001b[0mret\u001b[0m \u001b[1;33m=\u001b[0m \u001b[0m_unique1d\u001b[0m\u001b[1;33m(\u001b[0m\u001b[0mar\u001b[0m\u001b[1;33m,\u001b[0m \u001b[0mreturn_index\u001b[0m\u001b[1;33m,\u001b[0m \u001b[0mreturn_inverse\u001b[0m\u001b[1;33m,\u001b[0m \u001b[0mreturn_counts\u001b[0m\u001b[1;33m)\u001b[0m\u001b[1;33m\u001b[0m\u001b[1;33m\u001b[0m\u001b[0m\n",
      "\u001b[1;32mc:\\users\\fuers\\anaconda3\\envs\\ml\\lib\\site-packages\\numpy\\lib\\arraysetops.py\u001b[0m in \u001b[0;36m_unique1d\u001b[1;34m(ar, return_index, return_inverse, return_counts)\u001b[0m\n\u001b[0;32m    320\u001b[0m     \u001b[1;32mif\u001b[0m \u001b[0mreturn_inverse\u001b[0m\u001b[1;33m:\u001b[0m\u001b[1;33m\u001b[0m\u001b[1;33m\u001b[0m\u001b[0m\n\u001b[0;32m    321\u001b[0m         \u001b[0mimask\u001b[0m \u001b[1;33m=\u001b[0m \u001b[0mnp\u001b[0m\u001b[1;33m.\u001b[0m\u001b[0mcumsum\u001b[0m\u001b[1;33m(\u001b[0m\u001b[0mmask\u001b[0m\u001b[1;33m)\u001b[0m \u001b[1;33m-\u001b[0m \u001b[1;36m1\u001b[0m\u001b[1;33m\u001b[0m\u001b[1;33m\u001b[0m\u001b[0m\n\u001b[1;32m--> 322\u001b[1;33m         \u001b[0minv_idx\u001b[0m \u001b[1;33m=\u001b[0m \u001b[0mnp\u001b[0m\u001b[1;33m.\u001b[0m\u001b[0mempty\u001b[0m\u001b[1;33m(\u001b[0m\u001b[0mmask\u001b[0m\u001b[1;33m.\u001b[0m\u001b[0mshape\u001b[0m\u001b[1;33m,\u001b[0m \u001b[0mdtype\u001b[0m\u001b[1;33m=\u001b[0m\u001b[0mnp\u001b[0m\u001b[1;33m.\u001b[0m\u001b[0mintp\u001b[0m\u001b[1;33m)\u001b[0m\u001b[1;33m\u001b[0m\u001b[1;33m\u001b[0m\u001b[0m\n\u001b[0m\u001b[0;32m    323\u001b[0m         \u001b[0minv_idx\u001b[0m\u001b[1;33m[\u001b[0m\u001b[0mperm\u001b[0m\u001b[1;33m]\u001b[0m \u001b[1;33m=\u001b[0m \u001b[0mimask\u001b[0m\u001b[1;33m\u001b[0m\u001b[1;33m\u001b[0m\u001b[0m\n\u001b[0;32m    324\u001b[0m         \u001b[0mret\u001b[0m \u001b[1;33m+=\u001b[0m \u001b[1;33m(\u001b[0m\u001b[0minv_idx\u001b[0m\u001b[1;33m,\u001b[0m\u001b[1;33m)\u001b[0m\u001b[1;33m\u001b[0m\u001b[1;33m\u001b[0m\u001b[0m\n",
      "\u001b[1;31mKeyboardInterrupt\u001b[0m: "
     ]
    }
   ],
   "source": [
    "restarts = [2, 4, 8, 16, 32, 64]\n",
    "train_accs_hn = []\n",
    "for restart in restarts:\n",
    "    print(restart)\n",
    "    model = mlrose.NeuralNetwork(hidden_nodes = [64], \n",
    "                                 activation = 'relu',\n",
    "                                 algorithm = 'random_hill_climb', \n",
    "                                 max_iters = 1200,\n",
    "                                 bias = True, \n",
    "                                 is_classifier = True, \n",
    "                                 learning_rate = 0.0001,\n",
    "                                 early_stopping = True, \n",
    "                                 clip_max = 5, \n",
    "                                 max_attempts = 500,\n",
    "                                 random_state = 3, \n",
    "                                 restarts = restart,\n",
    "                                 curve = True\n",
    "                                )\n",
    "    model.fit(X_train, y_train)\n",
    "    y_train_pred = model.predict(X_train)\n",
    "    y_train_accuracy = accuracy_score(y_train, y_train_pred)\n",
    "    y_pred = model.predict(X_test)\n",
    "    y_test_accuracy = accuracy_score(y_test, y_pred)\n",
    "    print(y_train_accuracy)\n",
    "    print(y_test_accuracy)\n",
    "    train_accs_hn.append(y_train_accuracy)\n",
    "\n"
   ]
  },
  {
   "cell_type": "code",
   "execution_count": null,
   "metadata": {},
   "outputs": [],
   "source": []
  },
  {
   "cell_type": "code",
   "execution_count": null,
   "metadata": {},
   "outputs": [],
   "source": []
  },
  {
   "cell_type": "code",
   "execution_count": null,
   "metadata": {},
   "outputs": [],
   "source": []
  },
  {
   "cell_type": "code",
   "execution_count": null,
   "metadata": {},
   "outputs": [],
   "source": []
  },
  {
   "cell_type": "code",
   "execution_count": null,
   "metadata": {},
   "outputs": [],
   "source": []
  },
  {
   "cell_type": "code",
   "execution_count": null,
   "metadata": {},
   "outputs": [],
   "source": []
  },
  {
   "cell_type": "code",
   "execution_count": null,
   "metadata": {},
   "outputs": [],
   "source": []
  },
  {
   "cell_type": "code",
   "execution_count": null,
   "metadata": {},
   "outputs": [],
   "source": [
    "nn_sa = mlrose.NeuralNetwork(hidden_nodes = [50], activation = 'sigmoid',\n",
    "                                 algorithm = 'simulated_annealing’', \n",
    "                                 max_iters = 10,\n",
    "                                 bias = True, \n",
    "                                 is_classifier = True,\n",
    "                                 learning_rate = 0.0001, \n",
    "                                 early_stopping = True, \n",
    "                                 random_state = 1\n",
    "                                 restarts = 0\n",
    "                                )\n",
    "\n",
    "\n",
    "nn_model1.fit(X_train, y_train)\n",
    "y_train_pred = nn_model1.predict(X_train)\n",
    "y_train_accuracy = accuracy_score(y_train, y_train_pred)\n",
    "print(y_train_accuracy)"
   ]
  },
  {
   "cell_type": "code",
   "execution_count": null,
   "metadata": {},
   "outputs": [],
   "source": []
  },
  {
   "cell_type": "code",
   "execution_count": null,
   "metadata": {},
   "outputs": [],
   "source": []
  },
  {
   "cell_type": "code",
   "execution_count": 51,
   "metadata": {},
   "outputs": [
    {
     "name": "stdout",
     "output_type": "stream",
     "text": [
      "[0.0001 0.0011 0.0021 0.0031 0.0041 0.0051 0.0061 0.0071 0.0081 0.0091\n",
      " 0.0101 0.0111 0.0121 0.0131 0.0141 0.0151 0.0161 0.0171 0.0181 0.0191\n",
      " 0.0201 0.0211 0.0221 0.0231 0.0241 0.0251 0.0261 0.0271 0.0281 0.0291\n",
      " 0.0301 0.0311 0.0321 0.0331 0.0341 0.0351 0.0361 0.0371 0.0381 0.0391\n",
      " 0.0401 0.0411 0.0421 0.0431 0.0441 0.0451 0.0461 0.0471 0.0481 0.0491\n",
      " 0.0501 0.0511 0.0521 0.0531 0.0541 0.0551 0.0561 0.0571 0.0581 0.0591\n",
      " 0.0601 0.0611 0.0621 0.0631 0.0641 0.0651 0.0661 0.0671 0.0681 0.0691\n",
      " 0.0701 0.0711 0.0721 0.0731 0.0741 0.0751 0.0761 0.0771 0.0781 0.0791\n",
      " 0.0801 0.0811 0.0821 0.0831 0.0841 0.0851 0.0861 0.0871 0.0881 0.0891\n",
      " 0.0901 0.0911 0.0921 0.0931 0.0941 0.0951 0.0961 0.0971 0.0981 0.0991]\n"
     ]
    },
    {
     "name": "stderr",
     "output_type": "stream",
     "text": [
      "No handles with labels found to put in legend.\n"
     ]
    },
    {
     "data": {
      "image/png": "[encoded data removed]",
      "text/plain": [
       "<Figure size 432x288 with 1 Axes>"
      ]
     },
     "metadata": {
      "needs_background": "light"
     },
     "output_type": "display_data"
    },
    {
     "name": "stderr",
     "output_type": "stream",
     "text": [
      "No handles with labels found to put in legend.\n"
     ]
    },
    {
     "data": {
      "image/png": "[encoded data removed]",
      "text/plain": [
       "<Figure size 432x288 with 1 Axes>"
      ]
     },
     "metadata": {
      "needs_background": "light"
     },
     "output_type": "display_data"
    },
    {
     "name": "stderr",
     "output_type": "stream",
     "text": [
      "No handles with labels found to put in legend.\n"
     ]
    },
    {
     "data": {
      "image/png": "[encoded data removed]",
      "text/plain": [
       "<Figure size 432x288 with 1 Axes>"
      ]
     },
     "metadata": {
      "needs_background": "light"
     },
     "output_type": "display_data"
    }
   ],
   "source": [
    "lr_accs = {\n",
    "    'gradient_descent': [],\n",
    "    'random_hill_climb': [],\n",
    "    'simulated_annealing': [],\n",
    "    'genetic_alg': []\n",
    "}\n",
    "#learning_rates = [0.1, 0.01, 0.001, 0.0001]\n",
    "learning_rates = np.arange(0.0001, 0.1, 0.001)\n",
    "print(learning_rates)\n",
    "gd_lr_accs = test_arg('learning_rate', learning_rates, 'gradient_descent', args)\n",
    "plot_single(learning_rates, gd_lr_accs, \"learning_rate\", \"accuracy\", \"acc vs learning rate backprop\")\n",
    "\n",
    "rh_lr_accs = test_arg('learning_rate', learning_rates, 'random_hill_climb', args)\n",
    "plot_single(learning_rates, rh_lr_accs, \"learning_rate\", \"accuracy\", \"acc vs learning rate r_hill\")\n",
    "\n",
    "sa_lr_accs = test_arg('learning_rate', learning_rates, 'simulated_annealing', args)\n",
    "plot_single(learning_rates, sa_lr_accs, \"learning_rate\", \"accuracy\", \"acc vs learning rate SA\")\n",
    "\n",
    "#ga_lr_accs = test_arg('learning_rate', learning_rates, 'genetic_alg', args)\n",
    "#plot_single(learning_rates, ga_lr_accs, \"learning_rate\", \"accuracy\", \"acc vs learning rate GA\")\n"
   ]
  },
  {
   "cell_type": "code",
   "execution_count": 55,
   "metadata": {},
   "outputs": [
    {
     "name": "stderr",
     "output_type": "stream",
     "text": [
      "No handles with labels found to put in legend.\n"
     ]
    },
    {
     "data": {
      "image/png": "[encoded data removed]",
      "text/plain": [
       "<Figure size 432x288 with 1 Axes>"
      ]
     },
     "metadata": {
      "needs_background": "light"
     },
     "output_type": "display_data"
    }
   ],
   "source": [
    "restarts = [2, 4, 8, 16, 32, 64, 128, 256, 512]\n",
    "rh_restart_accs = test_arg('restarts', restarts, 'random_hill_climb', args)\n",
    "plot_single(restarts, rh_restart_accs, \"num restarts\", \"accuracy\", \"acc vs restarts r_hill\")\n"
   ]
  },
  {
   "cell_type": "code",
   "execution_count": 58,
   "metadata": {},
   "outputs": [
    {
     "name": "stderr",
     "output_type": "stream",
     "text": [
      "No handles with labels found to put in legend.\n"
     ]
    },
    {
     "data": {
      "image/png": "[encoded data removed]",
      "text/plain": [
       "<Figure size 432x288 with 1 Axes>"
      ]
     },
     "metadata": {
      "needs_background": "light"
     },
     "output_type": "display_data"
    }
   ],
   "source": [
    "schedules = [\n",
    "    mlrose.GeomDecay(init_temp=10, decay=0.5, min_temp=0.001), \n",
    "    mlrose.GeomDecay(init_temp=10, decay=0.6, min_temp=0.001),\n",
    "    mlrose.GeomDecay(init_temp=10, decay=0.7, min_temp=0.001),\n",
    "    mlrose.GeomDecay(init_temp=10, decay=0.8, min_temp=0.001), \n",
    "    mlrose.GeomDecay(init_temp=10, decay=0.9, min_temp=0.001),\n",
    "    mlrose.GeomDecay(init_temp=10, decay=0.99, min_temp=0.001)\n",
    "]\n",
    "decays = [0.5, 0.6, 0.7, 0.8, 0.9, 0.99]\n",
    "sa_sched_accs = test_arg('schedule', schedules, 'simulated_annealing', args)\n",
    "plot_single(decays, sa_sched_accs, \"Decay Rate\", \"accuracy\", \"acc vs Decay Rate SA\")"
   ]
  },
  {
   "cell_type": "code",
   "execution_count": null,
   "metadata": {},
   "outputs": [],
   "source": []
  },
  {
   "cell_type": "code",
   "execution_count": 65,
   "metadata": {},
   "outputs": [
    {
     "name": "stderr",
     "output_type": "stream",
     "text": [
      "No handles with labels found to put in legend.\n"
     ]
    },
    {
     "data": {
      "image/png": "[encoded data removed]",
      "text/plain": [
       "<Figure size 432x288 with 1 Axes>"
      ]
     },
     "metadata": {
      "needs_background": "light"
     },
     "output_type": "display_data"
    }
   ],
   "source": [
    "pop_size = [256, 512, 1024]\n",
    "ga_pop_size_accs = test_arg('pop_size', pop_size, 'genetic_alg', args)\n",
    "plot_single(pop_size, ga_pop_size_accs, \"pop_size\", \"accuracy\", \"acc vs pop_size GA\")"
   ]
  },
  {
   "cell_type": "code",
   "execution_count": null,
   "metadata": {},
   "outputs": [],
   "source": [
    "mutation_prob = [0.1, 0.3, 0.5, 0.7, 0.9]\n",
    "ga_mut_prob_accs = test_arg('mutation_prob', mutation_prob, 'genetic_alg', args)\n",
    "plot_single(mutation_prob, ga_mut_prob_accs, \"mutation prob\", \"accuracy\", \"acc vs mutation_prob GA\")"
   ]
  },
  {
   "cell_type": "code",
   "execution_count": null,
   "metadata": {},
   "outputs": [],
   "source": []
  }
 ],
 "metadata": {
  "kernelspec": {
   "display_name": "Python 3",
   "language": "python",
   "name": "python3"
  },
  "language_info": {
   "codemirror_mode": {
    "name": "ipython",
    "version": 3
   },
   "file_extension": ".py",
   "mimetype": "text/x-python",
   "name": "python",
   "nbconvert_exporter": "python",
   "pygments_lexer": "ipython3",
   "version": "3.6.12"
  }
 },
 "nbformat": 4,
 "nbformat_minor": 4
}
