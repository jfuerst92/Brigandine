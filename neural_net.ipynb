{
 "cells": [
  {
   "cell_type": "code",
   "execution_count": null,
   "metadata": {},
   "outputs": [],
   "source": []
  },
  {
   "cell_type": "code",
   "execution_count": 24,
   "metadata": {},
   "outputs": [],
   "source": [
    "import numpy as np\n",
    "import pandas as pd\n",
    "import math, time\n",
    "import matplotlib.pyplot as plt\n",
    "import seaborn as sns\n",
    "from sklearn.model_selection import train_test_split\n",
    "import tensorflow.keras as keras\n",
    "import mlrose_hiive as mlrose\n",
    "from sklearn.metrics import accuracy_score\n"
   ]
  },
  {
   "cell_type": "code",
   "execution_count": 9,
   "metadata": {},
   "outputs": [],
   "source": [
    "def load_data():\n",
    "    df_train = pd.read_csv(\"data/mnist/csv_format/train.csv\")\n",
    "    df_test = pd.read_csv(\"data/mnist/csv_format/test.csv\")\n",
    "    X = []\n",
    "    y = []\n",
    "    for row in df_train.iterrows() :\n",
    "        label = row[1][0]\n",
    "        image = list(row[1][1:])\n",
    "        image = np.array(image) / 255 #normalize vals\n",
    "        X.append(image)\n",
    "        y.append(label)\n",
    "\n",
    "    X = np.array(X)\n",
    "    y = np.array(y)\n",
    "    sns.countplot(df_train['label'])\n",
    "    plt.savefig(\"./output/label_count_mnist.png\")\n",
    "    return(X, y)\n",
    "\n",
    "def split_data(X, y, data_size=1.0, train_size=0.8, strat=False):\n",
    "    if strat:\n",
    "        sss = StratifiedShuffleSplit(n_splits=1, random_state=0, train_size=train_size, test_size=train_size/4)\n",
    "        for train_index, test_index in sss.split(X, y):\n",
    "            print(\"hm\")\n",
    "            X_train = X[train_index]\n",
    "            X_test = X[test_index]\n",
    "            y_train, y_test = y[train_index], y[test_index]\n",
    "    else:\n",
    "        X_train, X_test, y_train, y_test = train_test_split(X, y, train_size=train_size, test_size=train_size/4)\n",
    "    return(X_train, y_train, X_test, y_test)\n"
   ]
  },
  {
   "cell_type": "code",
   "execution_count": 10,
   "metadata": {},
   "outputs": [
    {
     "name": "stderr",
     "output_type": "stream",
     "text": [
      "c:\\users\\fuers\\anaconda3\\envs\\ml\\lib\\site-packages\\seaborn\\_decorators.py:43: FutureWarning: Pass the following variable as a keyword arg: x. From version 0.12, the only valid positional argument will be `data`, and passing other arguments without an explicit keyword will result in an error or misinterpretation.\n",
      "  FutureWarning\n"
     ]
    },
    {
     "data": {
      "image/png": "[encoded data removed]",
      "text/plain": [
       "<Figure size 432x288 with 1 Axes>"
      ]
     },
     "metadata": {
      "needs_background": "light"
     },
     "output_type": "display_data"
    }
   ],
   "source": [
    "X, y = load_data()"
   ]
  },
  {
   "cell_type": "code",
   "execution_count": 14,
   "metadata": {},
   "outputs": [
    {
     "name": "stdout",
     "output_type": "stream",
     "text": [
      "(3360, 784)\n",
      "(3360,)\n",
      "(840, 784)\n",
      "(840,)\n"
     ]
    }
   ],
   "source": [
    "X_train, y_train, X_test, y_test = split_data(X, y, train_size=0.08)\n",
    "print(X_train.shape)\n",
    "print(y_train.shape)\n",
    "print(X_test.shape)\n",
    "print(y_test.shape)\n"
   ]
  },
  {
   "cell_type": "code",
   "execution_count": 18,
   "metadata": {},
   "outputs": [],
   "source": [
    "num_category = 10 \n",
    "\n",
    "y_train = keras.utils.to_categorical(y_train, num_category)\n",
    "y_test = keras.utils.to_categorical(y_test, num_category)"
   ]
  },
  {
   "cell_type": "code",
   "execution_count": 36,
   "metadata": {},
   "outputs": [
    {
     "name": "stdout",
     "output_type": "stream",
     "text": [
      "0.2925595238095238\n"
     ]
    }
   ],
   "source": [
    "nn_model1 = mlrose.NeuralNetwork(hidden_nodes = [8], activation = 'relu',\n",
    "                                 algorithm = 'gradient_descent', \n",
    "                                 max_iters = 1000,\n",
    "                                 bias = True, \n",
    "                                 is_classifier = True,\n",
    "                                 learning_rate = 0.001, \n",
    "                                 early_stopping = True, \n",
    "                                 max_attempts = 100,\n",
    "                                 random_state = 3\n",
    "                                )\n",
    "\n",
    "\n",
    "nn_model1.fit(X_train, y_train)\n",
    "y_train_pred = nn_model1.predict(X_train)\n",
    "y_train_accuracy = accuracy_score(y_train, y_train_pred)\n",
    "print(y_train_accuracy)"
   ]
  },
  {
   "cell_type": "code",
   "execution_count": 56,
   "metadata": {},
   "outputs": [
    {
     "name": "stdout",
     "output_type": "stream",
     "text": [
      "0.7544642857142857\n",
      "[-2.78325271 -2.44012097 -2.25067138 -2.13587584 -2.02205261 -1.95137548\n",
      " -1.84689585 -1.7915958  -1.72029096 -1.67499717 -1.6265984  -1.58976491\n",
      " -1.55448848 -1.52341735 -1.49336528 -1.46497618 -1.43749248 -1.41099537\n",
      " -1.38549165 -1.36090417 -1.33717438 -1.31440408 -1.29277669 -1.27228542\n",
      " -1.25270776 -1.23384724 -1.21564517 -1.19818042 -1.1815761  -1.1659036\n",
      " -1.15117923 -1.13732578 -1.1242177  -1.1117581  -1.09987537 -1.08849315\n",
      " -1.07755381 -1.06705858 -1.05705098 -1.04756591 -1.03860647 -1.03014755\n",
      " -1.0221517  -1.01457799 -1.00737097 -1.00046888 -0.99383243 -0.9874479\n",
      " -0.9813124  -0.97541862 -0.96973864 -0.96421963 -0.95880477 -0.9534758\n",
      " -0.94827444 -0.94325655 -0.9384438  -0.93382975 -0.92939133 -0.92509386\n",
      " -0.92090277 -0.91679512 -0.91276421 -0.90881639 -0.90496471 -0.90122233\n",
      " -0.89759958 -0.89410709 -0.8907599  -0.88757421 -0.8845546  -0.88168632\n",
      " -0.87894623 -0.8763214  -0.87381821 -0.87145578 -0.86925024 -0.86720564\n",
      " -0.86531615 -0.86356643 -0.86192786 -0.86036106 -0.85882695 -0.85729791\n",
      " -0.85576267 -0.85422269 -0.85268232 -0.85114214 -0.84960097 -0.8480644\n",
      " -0.84654997 -0.84507576 -0.84364293 -0.84223525 -0.84082944 -0.83940686\n",
      " -0.83795904 -0.83647844 -0.83495115 -0.83336472]\n"
     ]
    }
   ],
   "source": [
    "nn_model1 = mlrose.NeuralNetwork(hidden_nodes = [10], activation = 'sigmoid',\n",
    "                                 algorithm = 'gradient_descent', \n",
    "                                 max_iters = 100,\n",
    "                                 bias = True, \n",
    "                                 is_classifier = True,\n",
    "                                 learning_rate = 0.0011, \n",
    "                                 early_stopping = True, \n",
    "                                 max_attempts = 100,\n",
    "                                 random_state = 3,\n",
    "                                 curve = True\n",
    "                                )\n",
    "\n",
    "\n",
    "nn_model1.fit(X_train, y_train)\n",
    "y_train_pred = nn_model1.predict(X_train)\n",
    "y_train_accuracy = accuracy_score(y_train, y_train_pred)\n",
    "print(y_train_accuracy)\n",
    "print(nn_model1.fitness_curve)"
   ]
  },
  {
   "cell_type": "code",
   "execution_count": 29,
   "metadata": {},
   "outputs": [
    {
     "name": "stdout",
     "output_type": "stream",
     "text": [
      "0.23392857142857143\n"
     ]
    }
   ],
   "source": []
  },
  {
   "cell_type": "code",
   "execution_count": null,
   "metadata": {},
   "outputs": [],
   "source": [
    "model.compile(loss='categorical_crossentropy', optimizer='Adam', metrics=['accuracy'])\n",
    "\n",
    "history = model.fit(X_train, y_train_oh, epochs=20, verbose=1, batch_size=32,  validation_split=.1)"
   ]
  }
 ],
 "metadata": {
  "kernelspec": {
   "display_name": "Python 3",
   "language": "python",
   "name": "python3"
  },
  "language_info": {
   "codemirror_mode": {
    "name": "ipython",
    "version": 3
   },
   "file_extension": ".py",
   "mimetype": "text/x-python",
   "name": "python",
   "nbconvert_exporter": "python",
   "pygments_lexer": "ipython3",
   "version": "3.6.12"
  }
 },
 "nbformat": 4,
 "nbformat_minor": 4
}
